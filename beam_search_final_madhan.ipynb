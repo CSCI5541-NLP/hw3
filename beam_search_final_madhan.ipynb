{
 "cells": [
  {
   "cell_type": "code",
   "execution_count": 1,
   "id": "convenient-demographic",
   "metadata": {},
   "outputs": [
    {
     "name": "stdout",
     "output_type": "stream",
     "text": [
      "Defaulting to user installation because normal site-packages is not writeable\n",
      "Requirement already satisfied: transformers in /panfs/jay/groups/32/csci5541/mohan130/.local/lib/python3.8/site-packages (4.38.1)\n",
      "Requirement already satisfied: requests in /common/software/install/migrated/anaconda/miniconda3_4.8.3-jupyter/lib/python3.8/site-packages (from transformers) (2.23.0)\n",
      "Requirement already satisfied: tokenizers<0.19,>=0.14 in /panfs/jay/groups/32/csci5541/mohan130/.local/lib/python3.8/site-packages (from transformers) (0.15.2)\n",
      "Requirement already satisfied: packaging>=20.0 in /panfs/jay/groups/32/csci5541/mohan130/.local/lib/python3.8/site-packages (from transformers) (24.0)\n",
      "Requirement already satisfied: huggingface-hub<1.0,>=0.19.3 in /panfs/jay/groups/32/csci5541/mohan130/.local/lib/python3.8/site-packages (from transformers) (0.20.3)\n",
      "Requirement already satisfied: tqdm>=4.27 in /panfs/jay/groups/32/csci5541/mohan130/.local/lib/python3.8/site-packages (from transformers) (4.66.2)\n",
      "Requirement already satisfied: filelock in /panfs/jay/groups/32/csci5541/mohan130/.local/lib/python3.8/site-packages (from transformers) (3.13.1)\n",
      "Requirement already satisfied: safetensors>=0.4.1 in /panfs/jay/groups/32/csci5541/mohan130/.local/lib/python3.8/site-packages (from transformers) (0.4.2)\n",
      "Requirement already satisfied: numpy>=1.17 in /panfs/jay/groups/32/csci5541/mohan130/.local/lib/python3.8/site-packages (from transformers) (1.24.4)\n",
      "Requirement already satisfied: pyyaml>=5.1 in /panfs/jay/groups/32/csci5541/mohan130/.local/lib/python3.8/site-packages (from transformers) (6.0.1)\n",
      "Requirement already satisfied: regex!=2019.12.17 in /panfs/jay/groups/32/csci5541/mohan130/.local/lib/python3.8/site-packages (from transformers) (2023.12.25)\n",
      "Requirement already satisfied: urllib3!=1.25.0,!=1.25.1,<1.26,>=1.21.1 in /panfs/jay/groups/32/csci5541/mohan130/.local/lib/python3.8/site-packages (from requests->transformers) (1.25.11)\n",
      "Requirement already satisfied: chardet<4,>=3.0.2 in /common/software/install/migrated/anaconda/miniconda3_4.8.3-jupyter/lib/python3.8/site-packages (from requests->transformers) (3.0.4)\n",
      "Requirement already satisfied: certifi>=2017.4.17 in /common/software/install/migrated/anaconda/miniconda3_4.8.3-jupyter/lib/python3.8/site-packages (from requests->transformers) (2020.12.5)\n",
      "Requirement already satisfied: idna<3,>=2.5 in /common/software/install/migrated/anaconda/miniconda3_4.8.3-jupyter/lib/python3.8/site-packages (from requests->transformers) (2.9)\n",
      "Requirement already satisfied: typing-extensions>=3.7.4.3 in /panfs/jay/groups/32/csci5541/mohan130/.local/lib/python3.8/site-packages (from huggingface-hub<1.0,>=0.19.3->transformers) (4.9.0)\n",
      "Requirement already satisfied: fsspec>=2023.5.0 in /panfs/jay/groups/32/csci5541/mohan130/.local/lib/python3.8/site-packages (from huggingface-hub<1.0,>=0.19.3->transformers) (2023.10.0)\n",
      "Defaulting to user installation because normal site-packages is not writeable\n",
      "Requirement already satisfied: datasets in /panfs/jay/groups/32/csci5541/mohan130/.local/lib/python3.8/site-packages (2.17.1)\n",
      "Requirement already satisfied: packaging in /panfs/jay/groups/32/csci5541/mohan130/.local/lib/python3.8/site-packages (from datasets) (24.0)\n",
      "Requirement already satisfied: fsspec[http]<=2023.10.0,>=2023.1.0 in /panfs/jay/groups/32/csci5541/mohan130/.local/lib/python3.8/site-packages (from datasets) (2023.10.0)\n",
      "Requirement already satisfied: huggingface-hub>=0.19.4 in /panfs/jay/groups/32/csci5541/mohan130/.local/lib/python3.8/site-packages (from datasets) (0.20.3)\n",
      "Requirement already satisfied: multiprocess in /panfs/jay/groups/32/csci5541/mohan130/.local/lib/python3.8/site-packages (from datasets) (0.70.16)\n",
      "Requirement already satisfied: tqdm>=4.62.1 in /panfs/jay/groups/32/csci5541/mohan130/.local/lib/python3.8/site-packages (from datasets) (4.66.2)\n",
      "Requirement already satisfied: pyarrow-hotfix in /panfs/jay/groups/32/csci5541/mohan130/.local/lib/python3.8/site-packages (from datasets) (0.6)\n",
      "Requirement already satisfied: xxhash in /panfs/jay/groups/32/csci5541/mohan130/.local/lib/python3.8/site-packages (from datasets) (3.4.1)\n",
      "Requirement already satisfied: filelock in /panfs/jay/groups/32/csci5541/mohan130/.local/lib/python3.8/site-packages (from datasets) (3.13.1)\n",
      "Requirement already satisfied: dill<0.3.9,>=0.3.0 in /panfs/jay/groups/32/csci5541/mohan130/.local/lib/python3.8/site-packages (from datasets) (0.3.8)\n",
      "Requirement already satisfied: pandas in /panfs/jay/groups/32/csci5541/mohan130/.local/lib/python3.8/site-packages (from datasets) (2.0.3)\n",
      "Requirement already satisfied: requests>=2.19.0 in /common/software/install/migrated/anaconda/miniconda3_4.8.3-jupyter/lib/python3.8/site-packages (from datasets) (2.23.0)\n",
      "Requirement already satisfied: pyyaml>=5.1 in /panfs/jay/groups/32/csci5541/mohan130/.local/lib/python3.8/site-packages (from datasets) (6.0.1)\n",
      "Requirement already satisfied: pyarrow>=12.0.0 in /panfs/jay/groups/32/csci5541/mohan130/.local/lib/python3.8/site-packages (from datasets) (15.0.0)\n",
      "Requirement already satisfied: aiohttp in /panfs/jay/groups/32/csci5541/mohan130/.local/lib/python3.8/site-packages (from datasets) (3.9.3)\n",
      "Requirement already satisfied: numpy>=1.17 in /panfs/jay/groups/32/csci5541/mohan130/.local/lib/python3.8/site-packages (from datasets) (1.24.4)\n",
      "Requirement already satisfied: typing-extensions>=3.7.4.3 in /panfs/jay/groups/32/csci5541/mohan130/.local/lib/python3.8/site-packages (from huggingface-hub>=0.19.4->datasets) (4.9.0)\n",
      "Requirement already satisfied: python-dateutil>=2.8.2 in /panfs/jay/groups/32/csci5541/mohan130/.local/lib/python3.8/site-packages (from pandas->datasets) (2.8.2)\n",
      "Requirement already satisfied: tzdata>=2022.1 in /panfs/jay/groups/32/csci5541/mohan130/.local/lib/python3.8/site-packages (from pandas->datasets) (2024.1)\n",
      "Requirement already satisfied: pytz>=2020.1 in /panfs/jay/groups/32/csci5541/mohan130/.local/lib/python3.8/site-packages (from pandas->datasets) (2024.1)\n",
      "Requirement already satisfied: idna<3,>=2.5 in /common/software/install/migrated/anaconda/miniconda3_4.8.3-jupyter/lib/python3.8/site-packages (from requests>=2.19.0->datasets) (2.9)\n",
      "Requirement already satisfied: urllib3!=1.25.0,!=1.25.1,<1.26,>=1.21.1 in /panfs/jay/groups/32/csci5541/mohan130/.local/lib/python3.8/site-packages (from requests>=2.19.0->datasets) (1.25.11)\n",
      "Requirement already satisfied: certifi>=2017.4.17 in /common/software/install/migrated/anaconda/miniconda3_4.8.3-jupyter/lib/python3.8/site-packages (from requests>=2.19.0->datasets) (2020.12.5)\n",
      "Requirement already satisfied: chardet<4,>=3.0.2 in /common/software/install/migrated/anaconda/miniconda3_4.8.3-jupyter/lib/python3.8/site-packages (from requests>=2.19.0->datasets) (3.0.4)\n",
      "Requirement already satisfied: aiosignal>=1.1.2 in /panfs/jay/groups/32/csci5541/mohan130/.local/lib/python3.8/site-packages (from aiohttp->datasets) (1.3.1)\n",
      "Requirement already satisfied: attrs>=17.3.0 in /common/software/install/migrated/anaconda/miniconda3_4.8.3-jupyter/lib/python3.8/site-packages (from aiohttp->datasets) (20.3.0)\n",
      "Requirement already satisfied: yarl<2.0,>=1.0 in /panfs/jay/groups/32/csci5541/mohan130/.local/lib/python3.8/site-packages (from aiohttp->datasets) (1.9.4)\n",
      "Requirement already satisfied: multidict<7.0,>=4.5 in /panfs/jay/groups/32/csci5541/mohan130/.local/lib/python3.8/site-packages (from aiohttp->datasets) (6.0.5)\n",
      "Requirement already satisfied: frozenlist>=1.1.1 in /panfs/jay/groups/32/csci5541/mohan130/.local/lib/python3.8/site-packages (from aiohttp->datasets) (1.4.1)\n",
      "Requirement already satisfied: async-timeout<5.0,>=4.0; python_version < \"3.11\" in /panfs/jay/groups/32/csci5541/mohan130/.local/lib/python3.8/site-packages (from aiohttp->datasets) (4.0.3)\n",
      "Requirement already satisfied: six>=1.5 in /common/software/install/migrated/anaconda/miniconda3_4.8.3-jupyter/lib/python3.8/site-packages (from python-dateutil>=2.8.2->pandas->datasets) (1.14.0)\n",
      "Package                  Version            \n",
      "------------------------ -------------------\n",
      "absl-py                  2.1.0              \n",
      "accelerate               0.27.2             \n",
      "aiohttp                  3.9.3              \n",
      "aiosignal                1.3.1              \n",
      "alembic                  1.4.3              \n",
      "appdirs                  1.4.4              \n",
      "argon2-cffi              20.1.0             \n",
      "async-generator          1.10               \n",
      "async-timeout            4.0.3              \n",
      "attrs                    20.3.0             \n",
      "backcall                 0.2.0              \n",
      "batchspawner             1.0.1              \n",
      "bert-score               0.3.13             \n",
      "bleach                   3.2.1              \n",
      "blinker                  1.4                \n",
      "certifi                  2020.12.5          \n",
      "certipy                  0.1.3              \n",
      "cffi                     1.14.0             \n",
      "chardet                  3.0.4              \n",
      "click                    8.1.7              \n",
      "conda                    4.9.2              \n",
      "conda-package-handling   1.7.0              \n",
      "contourpy                1.1.1              \n",
      "cryptography             2.9.2              \n",
      "cycler                   0.12.1             \n",
      "datasets                 2.17.1             \n",
      "decorator                4.4.2              \n",
      "defusedxml               0.6.0              \n",
      "dill                     0.3.8              \n",
      "docker-pycreds           0.4.0              \n",
      "entrypoints              0.3                \n",
      "evaluate                 0.4.1              \n",
      "filelock                 3.13.1             \n",
      "fonttools                4.50.0             \n",
      "frozenlist               1.4.1              \n",
      "fsspec                   2023.10.0          \n",
      "gitdb                    4.0.11             \n",
      "GitPython                3.1.42             \n",
      "huggingface-hub          0.20.3             \n",
      "idna                     2.9                \n",
      "importlib-metadata       2.0.0              \n",
      "importlib-resources      6.3.2              \n",
      "ipykernel                5.3.4              \n",
      "ipython                  7.19.0             \n",
      "ipython-genutils         0.2.0              \n",
      "ipywidgets               7.6.3              \n",
      "jedi                     0.18.0             \n",
      "Jinja2                   2.11.2             \n",
      "joblib                   1.3.2              \n",
      "json5                    0.9.5              \n",
      "jsonschema               3.2.0              \n",
      "jupyter-client           6.1.7              \n",
      "jupyter-core             4.7.0              \n",
      "jupyter-telemetry        0.1.0              \n",
      "jupyterhub               1.1.0              \n",
      "jupyterlab               2.2.6              \n",
      "jupyterlab-pygments      0.1.2              \n",
      "jupyterlab-server        1.2.0              \n",
      "jupyterlab-widgets       1.0.0              \n",
      "kiwisolver               1.4.5              \n",
      "Mako                     1.1.4              \n",
      "mamba                    0.3.8              \n",
      "MarkupSafe               1.1.1              \n",
      "matplotlib               3.7.5              \n",
      "mistune                  0.8.4              \n",
      "mpmath                   1.3.0              \n",
      "multidict                6.0.5              \n",
      "multiprocess             0.70.16            \n",
      "nbclient                 0.5.1              \n",
      "nbconvert                6.0.7              \n",
      "nbformat                 5.1.1              \n",
      "nest-asyncio             1.4.3              \n",
      "networkx                 3.1                \n",
      "nltk                     3.6.1              \n",
      "notebook                 6.1.6              \n",
      "numpy                    1.24.4             \n",
      "nvidia-cublas-cu12       12.1.3.1           \n",
      "nvidia-cuda-cupti-cu12   12.1.105           \n",
      "nvidia-cuda-nvrtc-cu12   12.1.105           \n",
      "nvidia-cuda-runtime-cu12 12.1.105           \n",
      "nvidia-cudnn-cu12        8.9.2.26           \n",
      "nvidia-cufft-cu12        11.0.2.54          \n",
      "nvidia-curand-cu12       10.3.2.106         \n",
      "nvidia-cusolver-cu12     11.4.5.107         \n",
      "nvidia-cusparse-cu12     12.1.0.106         \n",
      "nvidia-nccl-cu12         2.19.3             \n",
      "nvidia-nvjitlink-cu12    12.3.101           \n",
      "nvidia-nvtx-cu12         12.1.105           \n",
      "oauthlib                 3.1.0              \n",
      "packaging                24.0               \n",
      "pamela                   1.0.0              \n",
      "pandas                   2.0.3              \n",
      "pandocfilters            1.4.3              \n",
      "parso                    0.7.0              \n",
      "pexpect                  4.8.0              \n",
      "pickleshare              0.7.5              \n",
      "pillow                   10.2.0             \n",
      "pip                      20.0.2             \n",
      "prometheus-client        0.9.0              \n",
      "prompt-toolkit           3.0.8              \n",
      "protobuf                 4.25.3             \n",
      "psutil                   5.9.8              \n",
      "ptyprocess               0.7.0              \n",
      "pyarrow                  15.0.0             \n",
      "pyarrow-hotfix           0.6                \n",
      "pycosat                  0.6.3              \n",
      "pycparser                2.20               \n",
      "pycurl                   7.43.0.5           \n",
      "Pygments                 2.7.4              \n",
      "PyJWT                    2.0.0              \n",
      "pyOpenSSL                19.1.0             \n",
      "pyparsing                2.4.7              \n",
      "pyrsistent               0.17.3             \n",
      "PySocks                  1.7.1              \n",
      "python-dateutil          2.8.2              \n",
      "python-editor            1.0.4              \n",
      "python-json-logger       2.0.1              \n",
      "pytz                     2024.1             \n",
      "PyYAML                   6.0.1              \n",
      "pyzmq                    20.0.0             \n",
      "regex                    2023.12.25         \n",
      "requests                 2.23.0             \n",
      "responses                0.18.0             \n",
      "rouge-score              0.1.2              \n",
      "ruamel-yaml              0.15.87            \n",
      "ruamel.yaml              0.16.12            \n",
      "ruamel.yaml.clib         0.2.2              \n",
      "safetensors              0.4.2              \n",
      "scikit-learn             1.3.2              \n",
      "scipy                    1.10.1             \n",
      "Send2Trash               1.5.0              \n",
      "sentry-sdk               1.40.5             \n",
      "setproctitle             1.3.3              \n",
      "setuptools               46.4.0.post20200518\n",
      "six                      1.14.0             \n",
      "smmap                    5.0.1              \n",
      "SQLAlchemy               1.3.21             \n",
      "sympy                    1.12               \n",
      "terminado                0.9.2              \n",
      "testpath                 0.4.4              \n",
      "threadpoolctl            3.3.0              \n",
      "tokenizers               0.15.2             \n",
      "torch                    2.2.1              \n",
      "tornado                  6.1                \n",
      "tqdm                     4.66.2             \n",
      "traitlets                5.0.5              \n",
      "transformers             4.38.1             \n",
      "triton                   2.2.0              \n",
      "typing-extensions        4.9.0              \n",
      "tzdata                   2024.1             \n",
      "urllib3                  1.25.11            \n",
      "wandb                    0.16.3             \n",
      "wcwidth                  0.2.5              \n",
      "webencodings             0.5.1              \n",
      "wheel                    0.34.2             \n",
      "widgetsnbextension       3.5.1              \n",
      "xxhash                   3.4.1              \n",
      "yarl                     1.9.4              \n",
      "zipp                     3.4.0              \n",
      "Defaulting to user installation because normal site-packages is not writeable\n",
      "Requirement already satisfied: rouge_score in /panfs/jay/groups/32/csci5541/mohan130/.local/lib/python3.8/site-packages (0.1.2)\n",
      "Requirement already satisfied: numpy in /panfs/jay/groups/32/csci5541/mohan130/.local/lib/python3.8/site-packages (from rouge_score) (1.24.4)\n",
      "Requirement already satisfied: nltk in /panfs/jay/groups/32/csci5541/mohan130/.local/lib/python3.8/site-packages (from rouge_score) (3.6.1)\n",
      "Requirement already satisfied: six>=1.14.0 in /common/software/install/migrated/anaconda/miniconda3_4.8.3-jupyter/lib/python3.8/site-packages (from rouge_score) (1.14.0)\n",
      "Requirement already satisfied: absl-py in /panfs/jay/groups/32/csci5541/mohan130/.local/lib/python3.8/site-packages (from rouge_score) (2.1.0)\n",
      "Requirement already satisfied: regex in /panfs/jay/groups/32/csci5541/mohan130/.local/lib/python3.8/site-packages (from nltk->rouge_score) (2023.12.25)\n",
      "Requirement already satisfied: click in /panfs/jay/groups/32/csci5541/mohan130/.local/lib/python3.8/site-packages (from nltk->rouge_score) (8.1.7)\n",
      "Requirement already satisfied: joblib in /panfs/jay/groups/32/csci5541/mohan130/.local/lib/python3.8/site-packages (from nltk->rouge_score) (1.3.2)\n",
      "Requirement already satisfied: tqdm in /panfs/jay/groups/32/csci5541/mohan130/.local/lib/python3.8/site-packages (from nltk->rouge_score) (4.66.2)\n",
      "Defaulting to user installation because normal site-packages is not writeable\n",
      "Requirement already satisfied: bert_score in /panfs/jay/groups/32/csci5541/mohan130/.local/lib/python3.8/site-packages (0.3.13)\n",
      "Requirement already satisfied: torch>=1.0.0 in /panfs/jay/groups/32/csci5541/mohan130/.local/lib/python3.8/site-packages (from bert_score) (2.2.1)\n",
      "Requirement already satisfied: requests in /common/software/install/migrated/anaconda/miniconda3_4.8.3-jupyter/lib/python3.8/site-packages (from bert_score) (2.23.0)\n",
      "Requirement already satisfied: numpy in /panfs/jay/groups/32/csci5541/mohan130/.local/lib/python3.8/site-packages (from bert_score) (1.24.4)\n",
      "Requirement already satisfied: packaging>=20.9 in /panfs/jay/groups/32/csci5541/mohan130/.local/lib/python3.8/site-packages (from bert_score) (24.0)\n",
      "Requirement already satisfied: transformers>=3.0.0 in /panfs/jay/groups/32/csci5541/mohan130/.local/lib/python3.8/site-packages (from bert_score) (4.38.1)\n",
      "Requirement already satisfied: tqdm>=4.31.1 in /panfs/jay/groups/32/csci5541/mohan130/.local/lib/python3.8/site-packages (from bert_score) (4.66.2)\n",
      "Requirement already satisfied: matplotlib in /panfs/jay/groups/32/csci5541/mohan130/.local/lib/python3.8/site-packages (from bert_score) (3.7.5)\n",
      "Requirement already satisfied: pandas>=1.0.1 in /panfs/jay/groups/32/csci5541/mohan130/.local/lib/python3.8/site-packages (from bert_score) (2.0.3)\n",
      "Requirement already satisfied: fsspec in /panfs/jay/groups/32/csci5541/mohan130/.local/lib/python3.8/site-packages (from torch>=1.0.0->bert_score) (2023.10.0)\n",
      "Requirement already satisfied: nvidia-cuda-nvrtc-cu12==12.1.105; platform_system == \"Linux\" and platform_machine == \"x86_64\" in /panfs/jay/groups/32/csci5541/mohan130/.local/lib/python3.8/site-packages (from torch>=1.0.0->bert_score) (12.1.105)\n",
      "Requirement already satisfied: nvidia-cuda-runtime-cu12==12.1.105; platform_system == \"Linux\" and platform_machine == \"x86_64\" in /panfs/jay/groups/32/csci5541/mohan130/.local/lib/python3.8/site-packages (from torch>=1.0.0->bert_score) (12.1.105)\n",
      "Requirement already satisfied: nvidia-cublas-cu12==12.1.3.1; platform_system == \"Linux\" and platform_machine == \"x86_64\" in /panfs/jay/groups/32/csci5541/mohan130/.local/lib/python3.8/site-packages (from torch>=1.0.0->bert_score) (12.1.3.1)\n",
      "Requirement already satisfied: nvidia-cusolver-cu12==11.4.5.107; platform_system == \"Linux\" and platform_machine == \"x86_64\" in /panfs/jay/groups/32/csci5541/mohan130/.local/lib/python3.8/site-packages (from torch>=1.0.0->bert_score) (11.4.5.107)\n",
      "Requirement already satisfied: triton==2.2.0; platform_system == \"Linux\" and platform_machine == \"x86_64\" and python_version < \"3.12\" in /panfs/jay/groups/32/csci5541/mohan130/.local/lib/python3.8/site-packages (from torch>=1.0.0->bert_score) (2.2.0)\n",
      "Requirement already satisfied: filelock in /panfs/jay/groups/32/csci5541/mohan130/.local/lib/python3.8/site-packages (from torch>=1.0.0->bert_score) (3.13.1)\n",
      "Requirement already satisfied: nvidia-cudnn-cu12==8.9.2.26; platform_system == \"Linux\" and platform_machine == \"x86_64\" in /panfs/jay/groups/32/csci5541/mohan130/.local/lib/python3.8/site-packages (from torch>=1.0.0->bert_score) (8.9.2.26)\n",
      "Requirement already satisfied: networkx in /panfs/jay/groups/32/csci5541/mohan130/.local/lib/python3.8/site-packages (from torch>=1.0.0->bert_score) (3.1)\n",
      "Requirement already satisfied: nvidia-cusparse-cu12==12.1.0.106; platform_system == \"Linux\" and platform_machine == \"x86_64\" in /panfs/jay/groups/32/csci5541/mohan130/.local/lib/python3.8/site-packages (from torch>=1.0.0->bert_score) (12.1.0.106)\n",
      "Requirement already satisfied: nvidia-cuda-cupti-cu12==12.1.105; platform_system == \"Linux\" and platform_machine == \"x86_64\" in /panfs/jay/groups/32/csci5541/mohan130/.local/lib/python3.8/site-packages (from torch>=1.0.0->bert_score) (12.1.105)\n",
      "Requirement already satisfied: nvidia-nvtx-cu12==12.1.105; platform_system == \"Linux\" and platform_machine == \"x86_64\" in /panfs/jay/groups/32/csci5541/mohan130/.local/lib/python3.8/site-packages (from torch>=1.0.0->bert_score) (12.1.105)\n",
      "Requirement already satisfied: nvidia-cufft-cu12==11.0.2.54; platform_system == \"Linux\" and platform_machine == \"x86_64\" in /panfs/jay/groups/32/csci5541/mohan130/.local/lib/python3.8/site-packages (from torch>=1.0.0->bert_score) (11.0.2.54)\n",
      "Requirement already satisfied: nvidia-curand-cu12==10.3.2.106; platform_system == \"Linux\" and platform_machine == \"x86_64\" in /panfs/jay/groups/32/csci5541/mohan130/.local/lib/python3.8/site-packages (from torch>=1.0.0->bert_score) (10.3.2.106)\n",
      "Requirement already satisfied: nvidia-nccl-cu12==2.19.3; platform_system == \"Linux\" and platform_machine == \"x86_64\" in /panfs/jay/groups/32/csci5541/mohan130/.local/lib/python3.8/site-packages (from torch>=1.0.0->bert_score) (2.19.3)\n",
      "Requirement already satisfied: jinja2 in /common/software/install/migrated/anaconda/miniconda3_4.8.3-jupyter/lib/python3.8/site-packages (from torch>=1.0.0->bert_score) (2.11.2)\n",
      "Requirement already satisfied: sympy in /panfs/jay/groups/32/csci5541/mohan130/.local/lib/python3.8/site-packages (from torch>=1.0.0->bert_score) (1.12)\n",
      "Requirement already satisfied: typing-extensions>=4.8.0 in /panfs/jay/groups/32/csci5541/mohan130/.local/lib/python3.8/site-packages (from torch>=1.0.0->bert_score) (4.9.0)\n",
      "Requirement already satisfied: chardet<4,>=3.0.2 in /common/software/install/migrated/anaconda/miniconda3_4.8.3-jupyter/lib/python3.8/site-packages (from requests->bert_score) (3.0.4)\n",
      "Requirement already satisfied: urllib3!=1.25.0,!=1.25.1,<1.26,>=1.21.1 in /panfs/jay/groups/32/csci5541/mohan130/.local/lib/python3.8/site-packages (from requests->bert_score) (1.25.11)\n",
      "Requirement already satisfied: idna<3,>=2.5 in /common/software/install/migrated/anaconda/miniconda3_4.8.3-jupyter/lib/python3.8/site-packages (from requests->bert_score) (2.9)\n",
      "Requirement already satisfied: certifi>=2017.4.17 in /common/software/install/migrated/anaconda/miniconda3_4.8.3-jupyter/lib/python3.8/site-packages (from requests->bert_score) (2020.12.5)\n",
      "Requirement already satisfied: pyyaml>=5.1 in /panfs/jay/groups/32/csci5541/mohan130/.local/lib/python3.8/site-packages (from transformers>=3.0.0->bert_score) (6.0.1)\n",
      "Requirement already satisfied: huggingface-hub<1.0,>=0.19.3 in /panfs/jay/groups/32/csci5541/mohan130/.local/lib/python3.8/site-packages (from transformers>=3.0.0->bert_score) (0.20.3)\n",
      "Requirement already satisfied: regex!=2019.12.17 in /panfs/jay/groups/32/csci5541/mohan130/.local/lib/python3.8/site-packages (from transformers>=3.0.0->bert_score) (2023.12.25)\n",
      "Requirement already satisfied: tokenizers<0.19,>=0.14 in /panfs/jay/groups/32/csci5541/mohan130/.local/lib/python3.8/site-packages (from transformers>=3.0.0->bert_score) (0.15.2)\n",
      "Requirement already satisfied: safetensors>=0.4.1 in /panfs/jay/groups/32/csci5541/mohan130/.local/lib/python3.8/site-packages (from transformers>=3.0.0->bert_score) (0.4.2)\n",
      "Requirement already satisfied: cycler>=0.10 in /panfs/jay/groups/32/csci5541/mohan130/.local/lib/python3.8/site-packages (from matplotlib->bert_score) (0.12.1)\n",
      "Requirement already satisfied: python-dateutil>=2.7 in /panfs/jay/groups/32/csci5541/mohan130/.local/lib/python3.8/site-packages (from matplotlib->bert_score) (2.8.2)\n",
      "Requirement already satisfied: contourpy>=1.0.1 in /panfs/jay/groups/32/csci5541/mohan130/.local/lib/python3.8/site-packages (from matplotlib->bert_score) (1.1.1)\n",
      "Requirement already satisfied: pyparsing>=2.3.1 in /common/software/install/migrated/anaconda/miniconda3_4.8.3-jupyter/lib/python3.8/site-packages (from matplotlib->bert_score) (2.4.7)\n",
      "Requirement already satisfied: kiwisolver>=1.0.1 in /panfs/jay/groups/32/csci5541/mohan130/.local/lib/python3.8/site-packages (from matplotlib->bert_score) (1.4.5)\n",
      "Requirement already satisfied: importlib-resources>=3.2.0; python_version < \"3.10\" in /panfs/jay/groups/32/csci5541/mohan130/.local/lib/python3.8/site-packages (from matplotlib->bert_score) (6.3.2)\n",
      "Requirement already satisfied: fonttools>=4.22.0 in /panfs/jay/groups/32/csci5541/mohan130/.local/lib/python3.8/site-packages (from matplotlib->bert_score) (4.50.0)\n",
      "Requirement already satisfied: pillow>=6.2.0 in /panfs/jay/groups/32/csci5541/mohan130/.local/lib/python3.8/site-packages (from matplotlib->bert_score) (10.2.0)\n",
      "Requirement already satisfied: pytz>=2020.1 in /panfs/jay/groups/32/csci5541/mohan130/.local/lib/python3.8/site-packages (from pandas>=1.0.1->bert_score) (2024.1)\n",
      "Requirement already satisfied: tzdata>=2022.1 in /panfs/jay/groups/32/csci5541/mohan130/.local/lib/python3.8/site-packages (from pandas>=1.0.1->bert_score) (2024.1)\n",
      "Requirement already satisfied: nvidia-nvjitlink-cu12 in /panfs/jay/groups/32/csci5541/mohan130/.local/lib/python3.8/site-packages (from nvidia-cusolver-cu12==11.4.5.107; platform_system == \"Linux\" and platform_machine == \"x86_64\"->torch>=1.0.0->bert_score) (12.3.101)\n",
      "Requirement already satisfied: MarkupSafe>=0.23 in /common/software/install/migrated/anaconda/miniconda3_4.8.3-jupyter/lib/python3.8/site-packages (from jinja2->torch>=1.0.0->bert_score) (1.1.1)\n",
      "Requirement already satisfied: mpmath>=0.19 in /panfs/jay/groups/32/csci5541/mohan130/.local/lib/python3.8/site-packages (from sympy->torch>=1.0.0->bert_score) (1.3.0)\n",
      "Requirement already satisfied: six>=1.5 in /common/software/install/migrated/anaconda/miniconda3_4.8.3-jupyter/lib/python3.8/site-packages (from python-dateutil>=2.7->matplotlib->bert_score) (1.14.0)\n",
      "Requirement already satisfied: zipp>=3.1.0; python_version < \"3.10\" in /common/software/install/migrated/anaconda/miniconda3_4.8.3-jupyter/lib/python3.8/site-packages (from importlib-resources>=3.2.0; python_version < \"3.10\"->matplotlib->bert_score) (3.4.0)\n"
     ]
    }
   ],
   "source": [
    "!pip install transformers\n",
    "!pip install datasets\n",
    "!pip list\n",
    "!pip install rouge_score\n",
    "!pip install bert_score"
   ]
  },
  {
   "cell_type": "code",
   "execution_count": 2,
   "id": "laden-scale",
   "metadata": {},
   "outputs": [
    {
     "name": "stderr",
     "output_type": "stream",
     "text": [
      "/home/csci5541/mohan130/.local/lib/python3.8/site-packages/pandas/core/computation/expressions.py:20: UserWarning: Pandas requires version '2.7.3' or newer of 'numexpr' (version '2.7.1' currently installed).\n",
      "  from pandas.core.computation.check import NUMEXPR_INSTALLED\n"
     ]
    }
   ],
   "source": [
    "from transformers import AutoTokenizer, AutoModelForSeq2SeqLM\n",
    "import torch\n",
    "from tqdm import tqdm\n",
    "from datasets import load_dataset"
   ]
  },
  {
   "cell_type": "code",
   "execution_count": 3,
   "id": "english-ground",
   "metadata": {},
   "outputs": [],
   "source": [
    "# By Madhan Mohan\n",
    "\n",
    "\n",
    "# Task 1\n",
    "\n",
    "tokenizer = AutoTokenizer.from_pretrained(\"facebook/bart-large-cnn\")\n",
    "model = AutoModelForSeq2SeqLM.from_pretrained(\"facebook/bart-large-cnn\")\n",
    "\n",
    "prompts = [\n",
    "    \"Words hold immense power. They can inspire, uplift, and transform lives. A well-crafted sentence has the ability to ignite imagination, stir emotions, and leave an indelible mark on the human psyche. It's a testament to the remarkable capacity of language to transcend barriers and forge connections.\",\n",
    "    \"The natural world is a tapestry of wonders. From the majestic peaks of snow-capped mountains to the intricate dance of life in the depths of the oceans, nature's artistry is a constant source of awe and reverence. It reminds us of our humble place in the grand scheme of existence and our responsibility to protect its fragile beauty.\",\n",
    "    \"Creativity is the lifeblood of progress. It fuels innovation, drives artistic expression, and propels us forward. In a world that often values conformity, embracing our creative spirit allows us to challenge the status quo, question the established norms, and pave the way for new possibilities.\",\n",
    "    \"Resilience is the hallmark of the human spirit. It is the ability to rise above adversity, to adapt and evolve in the face of challenges. Like a sturdy oak that withstands the fiercest storms, resilience empowers us to bend but never break, emerging stronger and wiser from life's trials.\",\n",
    "    \"Kindness is a universal language that transcends boundaries and cultures. A simple act of compassion, a gentle word of encouragement, or a genuine smile can have a profound impact, creating ripples of positivity that touch the lives of others. In a world that often appears harsh and unforgiving, kindness is a beacon of hope and humanity.\"\n",
    "]\n",
    "\n",
    "\n",
    "\n",
    "\n"
   ]
  },
  {
   "cell_type": "code",
   "execution_count": 4,
   "id": "speaking-bargain",
   "metadata": {},
   "outputs": [
    {
     "name": "stderr",
     "output_type": "stream",
     "text": [
      "/home/csci5541/mohan130/.local/lib/python3.8/site-packages/transformers/generation/utils.py:1202: UserWarning: Unfeasible length constraints: `min_length` (56) is larger than the maximum possible length (30). Generation will stop at the defined maximum length. You should decrease the minimum length and/or increase the maximum length.\n",
      "  warnings.warn(\n"
     ]
    },
    {
     "name": "stdout",
     "output_type": "stream",
     "text": [
      "Output: ['A well-crafted sentence has the ability to ignite imagination, stir emotions, and leave an indelible mark on the human psyche.']\n",
      "\n"
     ]
    },
    {
     "name": "stderr",
     "output_type": "stream",
     "text": [
      "  0%|          | 0/1 [00:00<?, ?it/s]\n"
     ]
    },
    {
     "name": "stdout",
     "output_type": "stream",
     "text": [
      "Generated Text: ['A well-crafted sentence has the ability to ignite imagination, stir emotions, and leave an indelible mark on the human psyche.']\n",
      "Perplexity:  tensor(1.2615)\n",
      "Output: [\"Nature's artistry is a constant source of awe and reverence. It reminds us of our humble place in the grand scheme of existence.\"]\n",
      "\n"
     ]
    },
    {
     "name": "stderr",
     "output_type": "stream",
     "text": [
      "  0%|          | 0/1 [00:00<?, ?it/s]\n"
     ]
    },
    {
     "name": "stdout",
     "output_type": "stream",
     "text": [
      "Generated Text: [\"Nature's artistry is a constant source of awe and reverence. It reminds us of our humble place in the grand scheme of existence.\"]\n",
      "Perplexity:  tensor(1.2304)\n",
      "Output: ['Creativity is the lifeblood of progress. It fuels innovation, drives artistic expression, and propels us forward. In a world that']\n",
      "\n"
     ]
    },
    {
     "name": "stderr",
     "output_type": "stream",
     "text": [
      "  0%|          | 0/1 [00:00<?, ?it/s]\n"
     ]
    },
    {
     "name": "stdout",
     "output_type": "stream",
     "text": [
      "Generated Text: ['Creativity is the lifeblood of progress. It fuels innovation, drives artistic expression, and propels us forward. In a world that']\n",
      "Perplexity:  tensor(1.4054)\n",
      "Output: ['Resilience is the hallmark of the human spirit. It is the ability to rise above adversity, to adapt and evolve in the face']\n",
      "\n"
     ]
    },
    {
     "name": "stderr",
     "output_type": "stream",
     "text": [
      "  0%|          | 0/1 [00:00<?, ?it/s]\n"
     ]
    },
    {
     "name": "stdout",
     "output_type": "stream",
     "text": [
      "Generated Text: ['Resilience is the hallmark of the human spirit. It is the ability to rise above adversity, to adapt and evolve in the face']\n",
      "Perplexity:  tensor(1.5376)\n",
      "Output: ['Kindness is a universal language that transcends boundaries and cultures. A simple act of compassion, a gentle word of encouragement, or a']\n",
      "\n"
     ]
    },
    {
     "name": "stderr",
     "output_type": "stream",
     "text": [
      "  0%|          | 0/1 [00:00<?, ?it/s]"
     ]
    },
    {
     "name": "stdout",
     "output_type": "stream",
     "text": [
      "Generated Text: ['Kindness is a universal language that transcends boundaries and cultures. A simple act of compassion, a gentle word of encouragement, or a']\n",
      "Perplexity:  tensor(1.4771)\n"
     ]
    },
    {
     "name": "stderr",
     "output_type": "stream",
     "text": [
      "\n"
     ]
    }
   ],
   "source": [
    "num_beams = 5\n",
    "\n",
    "\n",
    "device = torch.device(\"cuda\" if torch.cuda.is_available() else \"cpu\")\n",
    "\n",
    "for i, prompt in enumerate(prompts):\n",
    "    input_ids = tokenizer(prompt, return_tensors=\"pt\").input_ids.to(device)\n",
    "    \n",
    "    beam_search_config = model.generate(\n",
    "        input_ids, \n",
    "        max_length=30, \n",
    "        num_beams=num_beams,\n",
    "        do_sample=False,\n",
    "        pad_token_id=tokenizer.eos_token_id\n",
    "    )\n",
    "    \n",
    "    output = tokenizer.batch_decode(beam_search_config, skip_special_tokens=True)\n",
    "    \n",
    "    encodings = tokenizer(output, return_tensors=\"pt\").to(device)\n",
    "    print(\"Output:\", output)\n",
    "    print()\n",
    "    \n",
    "    # Attribution of code: https://huggingface.co/docs/transformers/main/en/perplexity\n",
    "    max_length = model.config.max_position_embeddings\n",
    "    stride = 512\n",
    "    seq_len = encodings.input_ids.size(1)\n",
    "\n",
    "    nlls = []\n",
    "    prev_end_loc = 0\n",
    "    for begin_loc in tqdm(range(0, seq_len, stride)):\n",
    "        end_loc = min(begin_loc + max_length, seq_len)\n",
    "        trg_len = end_loc - prev_end_loc  # may be different from stride on last loop\n",
    "        encodings = encodings.input_ids[:, begin_loc:end_loc].to(device)\n",
    "        target_ids = encodings.clone()\n",
    "        target_ids[:, :-trg_len] = -100\n",
    "\n",
    "        with torch.no_grad():\n",
    "            outputs = model(encodings, labels=target_ids)\n",
    "\n",
    "            # loss is calculated using CrossEntropyLoss which averages over valid labels\n",
    "            # N.B. the model only calculates loss over trg_len - 1 labels, because it internally shifts the labels\n",
    "            # to the left by 1.\n",
    "            neg_log_likelihood = outputs.loss\n",
    "\n",
    "        nlls.append(neg_log_likelihood)\n",
    "\n",
    "        prev_end_loc = end_loc\n",
    "        if end_loc == seq_len:\n",
    "            break\n",
    "\n",
    "    ppl = torch.exp(torch.stack(nlls).mean())\n",
    "    print(\"Generated Text:\", output)\n",
    "    print(\"Perplexity: \", ppl)\n",
    "\n"
   ]
  },
  {
   "cell_type": "code",
   "execution_count": 5,
   "id": "moderate-pencil",
   "metadata": {},
   "outputs": [],
   "source": [
    "# Task 2\n",
    "\n",
    "from datasets import load_dataset\n",
    "\n",
    "tokenizer = AutoTokenizer.from_pretrained(\"facebook/bart-large-cnn\")\n",
    "model = AutoModelForSeq2SeqLM.from_pretrained(\"facebook/bart-large-cnn\")\n",
    "\n",
    "dataset = load_dataset('cnn_dailymail', '1.0.0')\n",
    "\n",
    "test_dataset = dataset[\"test\"]\n",
    "\n",
    "sentence_list = []\n",
    "reference_list = []\n",
    "\n",
    "counter = 0\n",
    "for item in test_dataset:\n",
    "    if counter == 50:\n",
    "        break\n",
    "    \n",
    "    sentence_list.append(item[\"article\"])\n",
    "    reference_list.append(item[\"highlights\"])\n",
    "    counter += 1\n",
    "\n",
    "\n",
    "\n",
    "prediction_list = []\n",
    "for i in range(len(sentence_list)):\n",
    "    input_ids = tokenizer(sentence_list[i], return_tensors=\"pt\", max_length=1024, truncation=True).input_ids\n",
    "    res = model.generate(input_ids, num_beams=5, do_sample=False, max_length=30, min_length=0)\n",
    "    prediction_list.append(tokenizer.batch_decode(res, skip_special_tokens=True)[0])\n",
    "\n",
    "\n"
   ]
  },
  {
   "cell_type": "code",
   "execution_count": 6,
   "id": "sonic-fairy",
   "metadata": {},
   "outputs": [
    {
     "name": "stdout",
     "output_type": "stream",
     "text": [
      "Input Text\n",
      "(CNN)The Palestinian Authority officially became the 123rd member of the International Criminal Court on Wednesday, a step that gives the court jurisdiction over alleged crimes in Palestinian territories. The formal accession was marked with a ceremony at The Hague, in the Netherlands, where the court is based. The Palestinians signed the ICC's founding Rome Statute in January, when they also accepted its jurisdiction over alleged crimes committed \"in the occupied Palestinian territory, including East Jerusalem, since June 13, 2014.\" Later that month, the ICC opened a preliminary examination into the situation in Palestinian territories, paving the way for possible war crimes investigations against Israelis. As members of the court, Palestinians may be subject to counter-charges as well. Israel and the United States, neither of which is an ICC member, opposed the Palestinians' efforts to join the body. But Palestinian Foreign Minister Riad al-Malki, speaking at Wednesday's ceremony, said it was a move toward \n",
      "\n",
      "(CNN)Never mind cats having nine lives. A stray pooch in Washington State has used up at least three of her own after being hit by a car, apparently whacked on the head with a hammer in a misguided mercy killing and then buried in a field -- only to survive. That's according to Washington State University, where the dog -- a friendly white-and-black bully breed mix now named Theia -- has been receiving care at the Veterinary Teaching Hospital. Four days after her apparent death, the dog managed to stagger to a nearby farm, dirt-covered and emaciated, where she was found by a worker who took her to a vet for help. She was taken in by Moses Lake, Washington, resident Sara Mellado. \"Considering everything that she's been through, she's incredibly gentle and loving,\" Mellado said, according to WSU News. \"She's a true miracle dog and she deserves a good life.\" Theia is only one year old but the dog's brush with death did not leave her unscathed. She suffered a dislocated jaw, leg injuries and a caved-in sinus cavi\n",
      "\n",
      "(CNN)If you've been following the news lately, there are certain things you doubtless know about Mohammad Javad Zarif. He is, of course, the Iranian foreign minister. He has been U.S. Secretary of State John Kerry's opposite number in securing a breakthrough in nuclear discussions that could lead to an end to sanctions against Iran -- if the details can be worked out in the coming weeks. And he received a hero's welcome as he arrived in Iran on a sunny Friday morning. \"Long live Zarif,\" crowds chanted as his car rolled slowly down the packed street. You may well have read that he is \"polished\" and, unusually for one burdened with such weighty issues, \"jovial.\" An Internet search for \"Mohammad Javad Zarif\" and \"jovial\" yields thousands of results. He certainly has gone a long way to bring Iran in from the cold and allow it to rejoin the international community. But there are some facts about Zarif that are less well-known. Here are six: . In September 2013, Zarif tweeted \"Happy Rosh Hashanah,\" referring to the\n",
      "\n",
      "(CNN)Five Americans who were monitored for three weeks at an Omaha, Nebraska, hospital after being exposed to Ebola in West Africa have been released, a Nebraska Medicine spokesman said in an email Wednesday. One of the five had a heart-related issue on Saturday and has been discharged but hasn't left the area, Taylor Wilson wrote. The others have already gone home. They were exposed to Ebola in Sierra Leone in March, but none developed the deadly virus. They are clinicians for Partners in Health, a Boston-based aid group. They all had contact with a colleague who was diagnosed with the disease and is being treated at the National Institutes of Health in Bethesda, Maryland. As of Monday, that health care worker is in fair condition. The Centers for Disease Control and Prevention in Atlanta has said the last of 17 patients who were being monitored are expected to be released by Thursday. More than 10,000 people have died in a West African epidemic of Ebola that dates to December 2013, according to the World He\n",
      "\n",
      "(CNN)A Duke student has admitted to hanging a noose made of rope from a tree near a student union, university officials said Thursday. The prestigious private school didn't identify the student, citing federal privacy laws. In a news release, it said the student was no longer on campus and will face student conduct review. The student was identified during an investigation by campus police and the office of student affairs and admitted to placing the noose on the tree early Wednesday, the university said. Officials are still trying to determine if other people were involved. Criminal investigations into the incident are ongoing as well. Students and faculty members marched Wednesday afternoon chanting \"We are not afraid. We stand together,\"  after pictures of the noose were passed around on social media. At a forum held on the steps of Duke Chapel, close to where the noose was discovered at 2 a.m., hundreds of people gathered. \"You came here for the reason that you want to say with me, 'This is no Duke we wil\n",
      "\n",
      "(CNN)He's a blue chip college basketball recruit. She's a high school freshman with Down syndrome. At first glance Trey Moses and Ellie Meredith couldn't be more different. But all that changed Thursday when Trey asked Ellie to be his prom date. Trey -- a star on Eastern High School's basketball team in Louisville, Kentucky, who's headed to play college ball next year at Ball State -- was originally going to take his girlfriend to Eastern's prom. So why is he taking Ellie instead? \"She's great... she listens and she's easy to talk to\" he said. Trey made the prom-posal (yes, that's what they are calling invites to prom these days) in the gym during Ellie's P.E. class. Trina Helson, a teacher at Eastern, alerted the school's newspaper staff to the prom-posal and posted photos of Trey and Ellie on Twitter that have gone viral. She wasn't surpristed by Trey's actions. \"That's the kind of person Trey is,\" she said. To help make sure she said yes, Trey entered the gym armed with flowers and a poster that read \"Let'\n",
      "\n",
      "(CNN)Governments around the world are using the threat of terrorism -- real or perceived -- to advance executions, Amnesty International alleges in its annual report on the death penalty. \"The dark trend of governments using the death penalty in a futile attempt to tackle real or imaginary threats to state security and public safety was stark last year,\" said Salil Shetty, Amnesty's Secretary General in a release. \"It is shameful that so many states around the world are essentially playing with people's lives -- putting people to death for 'terrorism' or to quell internal instability on the ill-conceived premise of deterrence.\" The report, \"Death Sentences and Executions 2014,\" cites the example of Pakistan lifting a six-year moratorium on the execution of civilians following the horrific attack on a school in Peshawar in December. China is also mentioned, as having used the death penalty as a tool in its \"Strike Hard\" campaign against terrorism in the restive far-western province of Xinjiang. The annual repo\n",
      "\n",
      "(CNN)Andrew Getty, one of the heirs to billions of oil money, appears to have died of natural causes, a Los Angeles Police Department spokesman said. The coroner's preliminary assessment is there was no foul play involved in the death of Getty, grandson of oil tycoon J. Paul Getty, said Detective Meghan Aguilar. Andrew Getty, 47, had \"several health issues,\" Aguilar said, adding that an autopsy will be conducted. There is no criminal investigation underway, he said. Some medication had also been recovered from Getty's home, though investigators don't know whether Getty was taking it or what his medical history was, Ed Winter, assistant chief in the Los Angeles County coroner's office, told CNN affiliate KTLA Tuesday night. KTLA reported that Getty was found on his side near a bathroom in his home. Getty's parents, Ann and Gordon Getty, released a statement confirming their son's death and asking for privacy. Where the Getty family fortune came from . Gordon Getty is one of three living sons of J. Paul Getty, \n",
      "\n",
      "(CNN)Filipinos are being warned to be on guard for flash floods and landslides as tropical storm Maysak approached the Asian island nation Saturday. Just a few days ago, Maysak gained super typhoon status thanks to its sustained 150 mph winds. It has since lost a lot of steam as it has spun west in the Pacific Ocean. It's now classified as a tropical storm, according to the Philippine national weather service, which calls it a different name, Chedeng. It boasts steady winds of more than 70 mph (115 kph) and gusts up to 90 mph as of 5 p.m. (5 a.m. ET) Saturday. Still, that doesn't mean Maysak won't pack a wallop. Authorities took preemptive steps to keep people safe such as barring outdoor activities like swimming, surfing, diving and boating in some locales, as well as a number of precautionary evacuations. Gabriel Llave, a disaster official, told PNA that tourists who arrive Saturday in and around the coastal town of Aurora \"will not be accepted by the owners of hotels, resorts, inns and the like ... and wil\n",
      "\n",
      "(CNN)For the first time in eight years, a TV legend returned to doing what he does best. Contestants told to \"come on down!\" on the April 1 edition of \"The Price Is Right\" encountered not host Drew Carey but another familiar face in charge of the proceedings. Instead, there was Bob Barker, who hosted the TV game show for 35 years before stepping down in 2007. Looking spry at 91, Barker handled the first price-guessing game of the show, the classic \"Lucky Seven,\" before turning hosting duties over to Carey, who finished up. Despite being away from the show for most of the past eight years, Barker didn't seem to miss a beat.\n",
      "\n",
      "London (CNN)A 19-year-old man was charged Wednesday with terror offenses after he was arrested as he returned to Britain from Turkey, London's Metropolitan Police said. Yahya Rashid, a UK national from northwest London, was detained at Luton airport on Tuesday after he arrived on a flight from Istanbul, police said. He's been charged with engaging in conduct in preparation of acts of terrorism, and with engaging in conduct with the intention of assisting others to commit acts of terrorism. Both charges relate to the period between November 1 and March 31. Rashid is due to appear in Westminster Magistrates' Court on Wednesday, police said. CNN's Lindsay Isaac contributed to this report.\n",
      "\n",
      "(CNN)Paul Walker is hardly the first actor to die during a production. But Walker's death in November 2013 at the age of 40 after a car crash was especially eerie given his rise to fame in the \"Fast and Furious\" film franchise. The release of \"Furious 7\" on Friday offers the opportunity for fans to remember -- and possibly grieve again -- the man that so many have praised as one of the nicest guys in Hollywood. \"He was a person of humility, integrity, and compassion,\" military veteran Kyle Upham said in an email to CNN. Walker secretly paid for the engagement ring Upham shopped for with his bride. \"We didn't know him personally but this was apparent in the short time we spent with him. I know that we will never forget him and he will always be someone very special to us,\" said Upham. The actor was on break from filming \"Furious 7\" at the time of the fiery accident, which also claimed the life of the car's driver, Roger Rodas. Producers said early on that they would not kill off Walker's character, Brian O'Con\n",
      "\n",
      "(CNN)Seventy years ago, Anne Frank died of typhus in a Nazi concentration camp at the age of 15. Just two weeks after her supposed death on March 31, 1945, the Bergen-Belsen concentration camp where she had been imprisoned was liberated -- timing that showed how close the Jewish diarist had been to surviving the Holocaust. But new research released by the Anne Frank House shows that Anne and her older sister, Margot Frank, died at least a month earlier than previously thought. Researchers re-examined archives of the Red Cross, the International Training Service and the Bergen-Belsen Memorial, along with testimonies of survivors. They concluded that Anne and Margot probably did not survive to March 1945 -- contradicting the date of death which had previously been determined by Dutch authorities. In 1944, Anne and seven others hiding in the Amsterdam secret annex were arrested and sent to the  Auschwitz-Birkenau concentration camp. Anne Frank's final entry . That same year, Anne and Margot were separated from t\n",
      "\n",
      "(CNN)A year ago Bloomberg published a story with the following headline: Mike Pence, a Koch Favorite, Mulls 2016 Run for President. The story ticked off items on Pence's conservative things-to-do list while also noting his close ties to the deep-pocketed Koch brothers, as well as other right-wing lobbying groups. Last August the Indiana governor was in Dallas for an Americans for Prosperity event; the group is backed by the conservative Koch brothers, and supported Gov. Pence's tax-slashing budget. Now, Pence is drawing huge heat for his controversial decision to sign a religious freedom law last week that opens the door to discrimination against gays and lesbians.  Why would Pence ignore the pleas of Indiana's Chamber of Commerce as well as the Republican mayor of his state capital and sign such a bill? Because there's a very powerful wing of his party that wants a conservative as its 2016 candidate and this bill was Pence's way of shoring up his street cred. It is also the reason why Republican Jeb Bush, Pe\n",
      "\n",
      "(CNN)If you're famous and performing the American national anthem, be prepared to become a national hero or a national disgrace. Facts are facts.  Just ask Vince, Whitney, Roseanne, Jimi and Michael. Mötley Crüe's Vince Neil reminded us again this week of the dangers of tackling \"The Star-Spangled Banner.\" Sure, he can shred it on \"Girls, Girls, Girls\" and \"Dr. Feelgood,\" but this is a different story -- a completely different story. To say Neil butchered the song before the Las Vegas Outlaws Arena Football League game would be unkind to those in the profession.  There's less carnage when butchers are done with their work. The late Whitney Houston set the modern standard for the national anthem at Super Bowl XXV.  In the early stages of the Gulf War in 1991, a patriotic America saluted her performance. Just six months earlier, comedian Roseanne Barr may have established the low-water mark. The crowd at the San Diego Padres game booed her rendition and President George H. W. Bush called it \"disgraceful.\" There\n",
      "\n",
      "(CNN)As goes Walmart, so goes the nation? Everyone from Apple CEO Tim Cook to the head of the NCAA slammed religious freedom laws being considered in several states this week, warning that they would open the door to discrimination against gay and lesbian customers. But it was the opposition from Walmart, the ubiquitous retailer that dots the American landscape, that perhaps resonated most deeply, providing the latest evidence of growing support for gay rights in the heartland. Walmart's staunch criticism of a religious freedom law in its home state of Arkansas came after the company said in February it would boost pay for about 500,000 workers well above the federal minimum wage. Taken together, the company is emerging as a bellwether for shifting public opinion on hot-button political issues that divide conservatives and liberals. And some prominent Republicans are urging the party to take notice. Former Minnesota Gov. Tim Pawlenty, who famously called on the GOP to \"be the party of Sam's Club, not just the\n",
      "\n",
      "(CNN)On May 28, 2014, some 7,000 people gathered in a stadium in China's northwestern Xinjiang region. But they had not come to watch the local football team or any other grand sporting event. Instead, the authorities paraded scores of prisoners dressed in orange jumpsuits. Armed soldiers guarded the exits. In the patently unfair, open air trial that followed, 55 people were found guilty of a range of offenses linked to violent attacks in the region and jailed. Three were sentenced to death. The public mass sentencing was part a China's \"Strike Hard\" campaign against unrest in Xinjiang, a campaign the government claims was launched to combat \"terrorism\" and \"separatism.\" But it was also indicative of a trend that was starkly evident last year around the world -- governments using the death penalty in a misguided, and often cynical, attempt to tackle crime and terrorism. Today, Amnesty International releases its annual review of the death penalty worldwide.  Much of it makes for grim reading. In Pakistan, the \n",
      "\n",
      "Marseille, France (CNN)The French prosecutor leading an investigation into the crash of Germanwings Flight 9525 insisted Wednesday that he was not aware of any video footage from on board the plane. Marseille prosecutor Brice Robin told CNN that \"so far no videos were used in the crash investigation.\" He added, \"A person who has such a video needs to immediately give it to the investigators.\" Robin's comments follow claims by two magazines, German daily Bild and French Paris Match, of a cell phone video showing the harrowing final seconds from on board Germanwings Flight 9525 as it crashed into the French Alps. All 150 on board were killed. Paris Match and Bild reported that the video was recovered from a phone at the wreckage site. The two publications described the supposed video, but did not post it on their websites. The publications said that they watched the video, which was found by a source close to the investigation. \"One can hear cries of 'My God' in several languages,\" Paris Match reported. \"Metall\n",
      "\n",
      "(CNN)The Rev. Robert H. Schuller, California televangelist and founder of the television ministry \"Hour of Power,\" died Thursday, according to his family. He was 88 years old. Schuller, also the founder of Crystal Cathedral megachurch, had been diagnosed with esophageal cancer in August 2013, a release from \"Hour of Power\" said. \"My father-in-law passed away peacefully early this morning. He was a great Dad and a great man of God,\" said Schuller's daughter-in-law, Donna Schuller, in a Twitter message. Schuller's life followed an almost Shakespearean arc. He was born in a Iowa farmhouse without running water and longed to preach from his earliest days. In his autobiography, \"Prayer: My Soul's Adventure with God,\" he described standing alone by a river and picturing himself delivering sermons to a rapt congregation. After attending a Hope College and Western Theological Seminary in Michigan, he met his wife of more than 60 years, Arvella, while preaching at her church (she was the organist). With their young fa\n",
      "\n",
      "(CNN)Michele Bachmann is comparing President Obama to the co-pilot of the doomed Germanwings flight. \"With his Iran deal, Barack Obama is for the 300 million souls of the United States what Andreas Lubitz was for the 150 souls on the German Wings flight - a deranged pilot flying his entire nation into the rocks,\" the Minnesota Republican and former representative wrote in a Facebook comment posted March 31. \"After the fact, among the smoldering remains of American cities, the shocked survivors will ask, why did he do it?\" Andreas Lubitz, the co-pilot of Germanwings Flight 9525, is accused by authorities of deliberately crashing the plane in the French Alps. He died in the crash along with 149 other crew and passengers. The motive of the March 24 crash is under investigation, though investigators are looking in to whether Lubitz feared a medical condition would cause him to lose his pilot's license. Many comments posted on her Facebook page blasted the former representative. Melissa Coca wrote, \"Comparing this\n",
      "\n",
      "Norfolk, Virginia (CNN)The second mate of the Houston Express probably couldn't believe what he was seeing. Hundreds of miles from land there was a small boat nearby. At first it looked abandoned. It was in bad shape, listing to one side. The crew of the 1,000-foot long container ship thought it was a yacht that had wrecked. Incredibly, as they got closer, they saw there was a man on it, signaling for help. \"He was moving, walking around, waving to us and in surprisingly good condition,\" Capt. Thomas Grenz told CNN by phone Friday. That man, Louis Jordan, 37, had an amazing story. He'd been drifting on the 35-foot Pearson sailboat for more than two months since leaving Conway, South Carolina, to fish in the ocean. Just a few days into his trip, a storm capsized his boat and broke his mast. One of his shoulders was broken, too, so he couldn't fix the boat right away. Eventually he was able to rig a makeshift mast and sail, but he could make little headway against the currents. \"It took so long,\" Jordan said.  \n",
      "\n",
      "(CNN)The United States and its negotiating partners reached a very strong framework agreement with Iran in Lausanne, Switzerland, on Thursday that limits Iran's nuclear program in such a way as to effectively block it from building a nuclear weapon. Expect pushback anyway, if the recent past is any harbinger. Just last month, in an attempt to head off such an agreement, House Speaker John Boehner invited Israeli Prime Minister Benjamin Netanyahu to preemptively blast it before Congress, and 47 senators sent a letter to the Iranian leadership warning them away from a deal. The debate that has already begun since the announcement of the new framework will likely result in more heat than light. It will not be helped by the gathering swirl of dubious assumptions and doubtful assertions. Let us address some of these: . The most misleading assertion, despite universal rejection by experts, is that the negotiations' objective at the outset was the total elimination of any nuclear program in Iran. That is the positio\n",
      "\n",
      "Los Angeles (CNN)It's more than just one state's internal problem. The historic California drought hurts the rest of the union, too. That's because California is a breadbasket to the nation, growing more than a third of its vegetables and nearly two-thirds of its fruits and nuts. Here's why we should heed the ongoing drought in the most populous state, a slowly expanding natural disaster now in its fourth year that this week prompted Gov. Jerry Brown to announce a mandatory 25% cutback in water consumption in all cities. In 2014, one expert predicted consumers would pay more for some groceries because of the California drought. He was often right, according to statistics gathered by Timothy Richards, agribusiness professor at Arizona State University. Prices rose last year for these items on your kitchen table: . • Berries rose in price by about 80 cents per clamshell to $3.88 . • Broccoli by 11 cents per pound to $1.89. • Grapes by 64 cents a pound to $3.06 . • Melons by 24 cents a pound to $1.23. • Packaged\n",
      "\n",
      "(CNN)The FBI charged a Philadelphia woman on Thursday with trying to travel overseas to fight for ISIS. She's one of three women arrested this week on terror charges. Two New York women were also taken into custody. An FBI complaint cites numerous social media messages dating back to August 2013 that were sent by Keonna Thomas, 30, also known as \"Young Lioness\" and \"Fatayat Al Khilafah.\" One Twitter message said, \"If we truly knew the realities ... we all would be rushing to join our brothers in the front lines pray ALLAH accept us as shuhada [martyrs].\" Another said, \"When you're a mujahid [violent jihadi fighter] your death becomes a wedding.\" The FBI said Thomas purchased an electronic visa to Turkey on March 23. Turkey is known as the easiest place from which to enter Syria and join ISIS. An ISIS manual advises recruits to buy round-trip tickets to vacation spots such as Spain and then purchase tickets for their real destination once they arrive overseas, the FBI said. On March 26, Thomas purchased a tick\n",
      "\n",
      "(CNN)Since Iran's Islamic Revolution in 1979, women have been barred from attending most sports events involving men. But the situation appears set to improve in the coming months after a top Iranian sports official said that the ban will be lifted for some events. A plan to allow \"women and families\" to enter sports stadiums will come into effect in the next year, Deputy Sports Minister Abdolhamid Ahmadi said Saturday, according to state-run media. But it isn't clear exactly which games women will be able to attend. According to the state-run Press TV, Ahmadi said the restrictions would be lifted for indoor sports events. The rules won't change for all matches because some sports are mainly related to men and \"families are not interested in attending\" them, Press TV cited him as saying. Iranian authorities imposed the ban on women attending men's sports events after the revolution, deeming that mixed crowds watching games together was un-Islamic. During the ensuing decades, the crowds at soccer games, Iran's\n",
      "\n",
      "(CNN)Just as mimeograph machines and photocopiers were in their day, online activity -- blogs, YouTube channels, even social media platforms like Facebook and Twitter -- have fully emerged as the alternative to traditional mainstream media. It is not just the low cost of posting online that attracts dissidence, though that in itself is liberating. It is the lack of access to traditional print and broadcast media in authoritarian countries that is really the driving force leading disaffected voices to post online. It is not unique to Asia, but it might seem more pronounced if you live there. Going online has become the path of least resistance if you want to make yourself heard. But it still brings resistance, some of it legal, some of it deadly. Let's look at the legal angle first. Amos Yee, the teenage video blogger who was arrested and held pending bail Sunday in Singapore, drew international attention for his anti-Lee Kuan Yew harangue. But jailing critics is not usually the government's first choice in Si\n",
      "\n",
      "(CNN)When singer Avril Lavigne went missing from the music scene, there was tons of speculation. Was she pregnant? In rehab? Going through a split from her husband, Nickelback front man Chad Kroeger? Focus on the mystery intensified in December after a fan Twitter account posted a direct message from Lavigne when she solicited prayers, saying she was \"having some health issues.\" Now the Canadian singer has revealed to People magazine that she was bedridden for five months after contracting Lyme disease. \"I felt like I couldn't breathe, I couldn't talk, and I couldn't move,\" she told the magazine. \"I thought I was dying.\" Lyme disease: What you should know . Lavigne believes that she was bitten by a tick last spring. What followed was months of lightheadedness and lethargy that doctors were initially unable to diagnose. The 30-year-old performer said she recuperated in her Ontario home, where her husband would use tour breaks to care for her and her mother moved in to assist. \"There were definitely times I cou\n",
      "\n",
      "(CNN)A trip to a former heavyweight champ's gaudy, abandoned mansion. The tallest and fastest \"giga-coaster\" in the world. A dramatic interview with a famed spiritual leader -- and the tearful reaction by one of his former students. These are some of the best videos of the week: . In the 1980s and '90s -- before he moved to Vegas and started keeping tigers as pets -- former heavyweight boxer Mike Tyson lived in a Southington, Ohio, mansion. The home featured an indoor swimming pool, a marble-and-gold Jacuzzi (with mirrored ceiling, naturally) and an entertainment room large enough for small concerts. Tyson sold the house in 1999; it's due to become, of all things, a church. The video can be seen at the top of this story. Not a fan of roller coasters? You may want to skip the next video -- but for the rest of us, the thrill of watching is the next best thing to being there. The Fury 325 can be found at Carowinds amusement part in Charlotte, North Carolina. Watch the video: . In a CNN exclusive, Alisyn Camerota\n",
      "\n",
      "Washington (CNN)Israeli Prime Minister Benjamin Netanyahu criticized the deal six world powers struck to thwart Iran's nuclear ambitions, saying he sees better options than \"this bad deal or war.\" \"I think there's a third alternative, and that is standing firm, ratcheting up the pressure until you get a better deal,\" Netanyahu told CNN's Jim Acosta Sunday on \"State of the Union.\" His comments come as Democrats and Republicans spar over the framework announced last week to lift Western sanctions on Iran in exchange for the country dropping from 19,000 to 5,060 active centrifuges, limiting its highly enriched uranium, and increasing inspections. President Barack Obama endorsed the deal, saying it was better than the alternatives. But GOP contenders for the party's 2016 presidential nomination lambasted it, saying it gave Iran too much flexibility. On Sunday, the sparring continued. One Senate Democrat said Netanyahu needs to \"contain himself.\" And a top Republican said almost any of Obama's successors as presid\n",
      "\n",
      "(CNN)Standing up for what you believe. What does it cost you? What do you gain? Memories Pizza in the Indiana town of Walkerton is finding out. The family-run restaurant finds itself at the center of the debate over the state's Religious Freedom Restoration Act after its owners said they'd refuse to cater a same-sex couple's wedding. \"If a gay couple was to come and they wanted us to bring pizzas to their wedding, we'd have to say no,\" Crystal O'Connor told CNN affiliate WBND-TV in South Bend. The statement struck at the heart of fears by critics, who said the new law would allow businesses to discriminate against gays and lesbians. They called for boycotts. But supporters also rallied. And by the end of the week, they had donated more than $842,000 for the business. Social media unloaded on the pizzeria in the community of 2,100 people that few folks outside northern Indiana knew existed before this week. RiskyLiberal tweeted: \"Dear #MemoriesPizza. No. My boycotting your business because I don't like your re\n",
      "\n",
      "(CNN)Police in the Indian city of Malegaon, in the western state of Maharashtra, are requiring identity cards for an unusual group of residents: Cattle. Following a recent state-wide ban on the sale and consumption of beef, authorities in the city have asked residents to take a 'mugshot' of their cattle and submit it to the police. Along with the photograph, the residents have to give information about their animal's 'unique features,' such as the coloring and age of the cow, along with the length of its tail and other distinctive characteristics. Police officials believe this is the only way to solve cow slaughter cases and enforce the law. Cows are considered holy and revered by that state's majority Hindu population. \"We are creating a database. If we get an information of a cow slaughter, we can quickly go to the resident's place and check whether it is there or not\", Mahesh Sawai, Deputy Superintendent of Malegaon Police told CNN. \"I believe this will be very effective\" So far over 100 owners have compli\n",
      "\n",
      "(CNN)It's the kind of thing you see in movies, like Robert Redford's role in \"All Is Lost\" or Ang Lee's \"Life of Pi.\" But, in real life, it's hard to swallow the idea of a single person being stranded at sea for days, weeks, if not months and somehow living to talk about it. Miracles do happen, though, and not just in Hollywood. We're not talking about people who float aimlessly or run aground after running out of gas or being let down by faltering winds only to be picked up a few hours later by the U.S. Coast Guard. Much rarer are cases in which individuals become lost at sea long enough that they run out of whatever food and drinking water they'd brought aboard, if any. In order to survive, they can't bank on technology or the proximity of a nearby city, town or boat -- but instead must rely on ingenuity, resourcefulness and luck. It's hard to say how many of these types of stories end sadly, with a sailor dying at sea, except that it is a much higher number than those that end in rescues. Such happy ending\n",
      "\n",
      "(CNN)The world's biggest and most powerful physics experiment is taking place as you read this. The Large Hadron Collider (LHC), a particle accelerator and the largest machine in the world, is ready for action following a two-year shutdown. After problems that delayed the restart in March, scientists at the European Organization for Nuclear Research (CERN) completed final tests, enabling the first beams to start circulating Sunday inside the LHC's 17 mile (27 km) ring. \"Operating accelerators for the benefit of the physics community is what CERN's here for,\" CERN Director-General Rolf Heuer said on the organization's website. \"Today, CERN's heart beats once more to the rhythm of the LHC.\" The LHC generates up to 600 million particles per second, with a beam circulating for 10 hours, traveling more than 6 billion miles (more than 10 billion kilometers) -- the distance from Earth to Neptune and back again. At near light-speed, a proton in the LHC makes 11,245 circuits per second. It took thousands of scientists\n",
      "\n",
      "Atlanta (CNN)It was a scene worthy of any top cop show on TV -- bullets flying, banged-up cars and the FBI chasing an armed robbery suspect. In the end, two agents were injured in a crash and the suspect was shot before being captured. FBI agents and task force officers were following 36-year-old Kevone Charleston of Austell, Georgia, as he pulled into a CVS pharmacy in Forsyth County, Georgia, early Saturday. Charleston is suspected of involvement in 32 commercial robberies dating to November 2013, according to FBI officials. \"The incident all happened around 7 o'clock Saturday morning,\" said FBI Special Agent Stephen Emmett. \"There were multiple agents and officers that were following him based on his prior MO, and when they saw he was about to rob another CVS, they moved in.\" Authorities say Charleston parked his vehicle nearby and then popped the hood as if there were something wrong. Then he walked to the CVS, preparing to enter. When agents confronted him, Charleston ran, got in his car and traveled abo\n",
      "\n",
      "(CNN)Sky watchers in western North America are in for a treat: a nearly five-minute total lunar eclipse this morning. Here's how it's unfolding: . It started at 3:16 a.m. Pacific Daylight Time, when the moon began moving into Earth's shadow.  For the next hour and 45 minutes, that shadow will move across the moon and engulf it at 4:58 a.m. Pacific Time. The total eclipse will only last four minutes and 43 seconds, and NASA says that makes it the shortest one of the century. Watch it live on NASA TV . While people west of the Mississippi River will have the best view, at least a partial eclipse will be visible across the nation. But sunrise will interrupt the show on the East Coast. Parts of South America, India, China and Russia also will be able to see the eclipse, but it won't be visible in Greenland, Iceland, Europe, Africa or the Middle East. A lunar eclipse happens when the sun, Earth and moon form a straight line in space, with the Earth smack in the middle. The sun shines on the Earth and creates a sha\n",
      "\n",
      "(CNN)The terrorist group Al-Shabaab has claimed an attack on Garissa University College in eastern Kenya, in which many people have been killed and still more taken hostage. The attack is another step in the ongoing escalation of the terrorist group's activities, and a clear indicator that the security situation in East Africa is deteriorating fast. Somalia-based Al-Shabaab has been behind a string of recent attacks in Kenya, the most well-known of them being the massacre at the Westgate Shopping Centre in Nairobi in 2013. Cross-border raids into Kenya by the group, however, date back to 2011. Al-Shabaab incursions triggered a military response by the government in Nairobi, which sent troops to Somalia as part of an African Union mission in support of Somalia's internationally recognized government that had been under pressure from Al-Shabaab and other militants for several years. Al-Shabaab is predominantly driven by the same radical interpretation of the Koran as al-Qaeda and ISIS (also known as Islamic Sta\n",
      "\n",
      "(CNN)Easter is a cornerstone event in the Christian faith, but it's surrounded by interesting quirks. It celebrates the completion of Christ's mission of salvation in the Crucifixion and Resurrection. By dying on Good Friday, Christ atoned for the sins of others; by rising from the grave on Sunday, Christ conquered death. Simple enough and reason for Christians to celebrate. But, like Christmas with its tree, ornaments and Santa Claus, Easter has picked up its peripheral trappings -- the bunny and colorful eggs.  Unlike Christmas, it doesn't fall on the same day every year but shifts around in spring depending upon cosmic events. And that blood moon we just had -- is it pure coincidence that it fell around Easter? (No.) Here's a journey from the Vatican to the Holy Land, around the moon and the Earth's tilting axis, to Germany and the United States to try to explain the complex holiday called Easter. And you'll learn to how to color Easter eggs with Kool-Aid. Let's start at the Vatican. At the Vatican, Holy W\n",
      "\n",
      "(CNN)After years of making the case that the education of athletes is paramount, the NCAA now says it has no legal responsibility to make sure education is actually delivered. On its website, the NCAA prominently states, \"It's our commitment -- and our responsibility -- to give young people opportunities to learn, play and succeed.\" And later, it says that \"in the collegiate model of sports, the young men and women competing on the field or court are students first, athletes second.\" But the NCAA is taking a very different position in response to a lawsuit filed by former University of North Carolina athletes. The lawsuit claimed the students didn't get an education because they were caught up in the largest known academic fraud scandal in NCAA history. In its response, the NCAA says it has no legal responsibility \"to ensure the academic integrity of the courses offered to student-athletes at its member institutions.\" Even with pages of online information about academic standards, and even though the NCAA has\n",
      "\n",
      "(CNN)A Connecticut teen who has been forced to have chemotherapy to treat Hodgkin lymphoma will remain in temporary custody of the state for the time being, according to her attorney, Josh Michtom. A Connecticut juvenile court judge issued a written decision Wednesday denying a motion to let the teen, identified in court documents as \"Cassandra C.,\" go home. The judge also denied a motion for visitation. The 17-year-old is in remission after nearly six months of forced chemo treatments. On March 16, Michtom tried to convince the court that she should be able to return to her mother's home because she was no longer at imminent risk of harm from her illness. Michtom and attorney Michael Taylor, who represents Cassandra's mother, Jackie Fortin, released a written statement after receiving the judge's decision Wednesday: \"We are disappointed in this ruling, not least of all because it draws a factual conclusion that is directly contradicted by the weight of the evidence. We're conferring with our clients now abou\n",
      "\n",
      "(CNN)Mark Ronson's \"Uptown Funk!,\" featuring Bruno Mars, is the longest-leading Billboard Hot 100 of the 2010s, ruling the chart for a 13th week. It's also just the 10th single in the Hot 100's entire history to spend at least 13 weeks at No. 1. Plus, newcomer Natalie La Rose reaches the top 10 with her debut hit \"Somebody,\" featuring Jeremih. As we do each Wednesday, let's run down all the songs in the top 10, and a bit beyond, on the sales/airplay/streaming-based Hot 100 (dated April 11). \"Funk,\" released on RCA Records, passes Robin Thicke's \"Blurred Lines,\" featuring T.I. and Pharrell to take sole possession of the Hot 100's longest command this decade. Here's an updated look at the hits to lead for the most weeks since the beginning of 2010: . Weeks at No. 1, Title, Artist, Date Reached No. 1 . 13 (to date), \"Uptown Funk!,\" Ronson feat. Mars, Jan. 17, 2015 . 12, \"Blurred Lines,\" Robin Thicke feat. T.I. + Pharrell, June 22, 2013 . 10, \"Happy,\" Pharrell Williams, March 8, 2014 . 10, \"We Found Love,\" Rihann\n",
      "\n",
      "(CNN)A high temperature of 63.5 degrees Fahrenheit might sound like a pleasant day in early spring -- unless you're in Antarctica. The chilly continent recorded the temperature (15.5 degrees Celsius) on March 24, possibly the highest ever recorded on Antarctica, according to the Weather Underground. The temperature was recorded at Argentina's Esperanza Base on the northern tip of the Antarctica Peninsula, according to CNN affiliate WTNH. (Note to map lovers: The Argentine base is not geographically part of the South American continent.) The World Meteorological Organization, a specialized United Nations agency, is in the process of setting up an international ad-hoc committee of about 10 blue-ribbon climatologists and meteorologists to begin collecting relevant evidence, said Randy Cerveny, the agency's lead rapporteur of weather and climate extremes and Arizona State University professor of geographical sciences. The committee will examine the equipment used to measure the temperature, whether it was in good\n",
      "\n",
      "(CNN)The United States has seemingly erupted this week about what it means to live your religion, especially in Indiana, where its new Religious Freedom Restoration Act faces a firestorm from critics who say it uses faith as a pretext to discriminate against gay people. Such state laws have been growing ever since the U.S. Religious Freedom Restoration Act became law in 1993, designed to prohibit the federal government from \"substantially burdening\" a person's exercise of religion. So far, 20 states have some version of the religious liberty law, and the legal controversies have grown, too. Nonetheless, claims under those state RFRAs are \"exceedingly rare,\" and victories involved mostly religious minorities, not Christian denominations, experts say. \"There is reason to doubt whether these state-level religious liberty provisions truly provide meaningful protections for religious believers,\" wrote Wayne State University law professor Christopher Lund in a 2010 analysis, when there were only 16 states with such\n",
      "\n",
      "Atlanta (CNN)Robert Lewis Burns Jr., the original drummer in Southern rock band Lynyrd Skynyrd, died Friday night in a car crash, a Georgia State Patrol spokesman said. Burns, 64, died after his car hit a mailbox and a tree in Cartersville, spokesman James Tallent said. No other cars were involved in the crash, which occurred shortly before midnight. \"He was not restrained at the time of the crash,\" Tallent told CNN. The musician lived in northern Georgia. Burns was part of the genre-defining band's original lineup, which formed in Jacksonville, Florida, in 1965. Lead singer Ronnie Van Zant started Noble Five with Burns, guitarists Gary Rossington and Allen Collins and bassist Larry Junstrom in their hometown. It then made a name change in a reference to a high school gym teacher. Lynyrd Skynyrd changed members over the years as it produced rock anthems including \"Sweet Home Alabama\" and \"Freebird.\" Burns left the band before its third studio album, \"Nuthin Fancy,\" in 1975, \"exhausted by touring,\" according t\n",
      "\n",
      "Seoul, South Korea (CNN)The man accused of stabbing U.S. Ambassador Mark Lippert in Seoul last month is now charged with attempted murder, a South Korean court official said Wednesday. Kim Ki-Jong has also been charged with assaulting a foreign envoy and business obstruction, the Seoul Central District Court official said. According to South Korean law, Kim's trial must begin within 14 days of receiving today's indictment. Lippert was stabbed March 5 during an event organized by the Korean Council for Reconciliation and Cooperation, which advocates peaceful reunification between North and South Korea. Shortly before Lippert was supposed to give a speech, the attacker slashed him in the face and jaw. The ambassador suffered a gash from his right cheekbone to his lower jaw that required 80 stitches. That wound measured 10 centimeters (4 inches) long and 2.5 centimeters (1 inch) deep, but there was no serious facial nerve damage, said Dr. Jung Nam-shik of the Yonsei Severance Hospital. Lippert also suffered five\n",
      "\n",
      "(CNN)When Hong Kong police answered a call in the early hours of a Saturday morning last November, they encountered a grisly scene and an alleged crime that shocked the city. One woman was lying on the floor with cuts to her neck and buttocks. Another was stuffed inside a suitcase on the balcony. A former banker, 29-year-old Briton Rurik Jutting, was charged with two counts of murder. On Thursday, a court hearing that was to determine whether there was enough evidence to proceed to trial was adjourned until May. Here's what we know so far about the victims and their alleged attacker. Jutting allegedly lived at the murder scene, an upmarket apartment in the middle of Wan Chai, an inner-city suburb that's home to an eclectic mix of late-night bars, residential tower blocks and local markets selling groceries and assorted cheap goods. In the early hours of Saturday morning, November 1, police say Jutting called them to the apartment.  There they found a woman lying on the blood-splattered floor, later identified\n",
      "\n",
      "(CNN)\"Jake the dog and Finn the human. The fun will never end. Adventure Time.\" So begins the dreamy theme song intro to the strangely addictive Cartoon Network TV show that's centered around psychedelic characters like the Ice King, Marceline the Vampire Queen and, of course, Jake and Finn. Now, mega-fans of the hit show can experience \"Adventure Time\" in the skies. Thai Smile, a subsidiary of Thailand flag carrier Thai Airways, on Thursday unveiled colorful new livery featuring Jake, Finn and the beloved Princess Bubblegum sprawled across an Airbus A320 at Bangkok's Suvarnabhumi International Airport. The interior of the plane also has an Adventure Time theme, with overhead bins, head rests and even air sickness bags covered in the faces of characters from the show. Airlines show off their new flying colors . The Adventure Time plane is the result of a partnership between Thai Airways subsidiary Thai Smile and Cartoon Network Amazone, a new water park near the Thai resort city of Pattaya featuring attractio\n",
      "\n",
      "(CNN)Imprisoned soldier Chelsea Manning can now communicate with the world  -- in 140 characters or less. Manning, who is serving a 35-year prison sentence for leaking thousands of classified documents, appears to have joined Twitter this week. In a series of tweets, the prisoner formerly known as Bradley Manning said she will be using a voice phone to dictate her tweets to  communications firm Fitzgibbon Media, which will post them on her behalf. She is not allowed Internet access in prison, according to The Guardian. \"It will be hard, but I don't want this Twitter feed to be a one-way street/conversation,\" Manning posted to her nearly 26,000-plus followers. Manning was sentenced in 2013, and in August of that year, she said she wanted to transition to a female. The Fort Leavenworth Disciplinary Barracks in Kansas, where she is serving her sentence, has authorized hormone therapy for her treatment. Manning said she suffers from gender dysphoria. Her  lawyers describe it as \"the medical diagnosis given to ind\n",
      "\n",
      "(CNN)President Barack Obama tied himself to the mast of a nuclear deal with Iran even before he became the Democratic candidate for president. Reaching a good, solid agreement with Iran is a worthy, desirable goal. But the process has unfolded under the destructive influence of political considerations, weakening America's hand and strengthening Iran. Obama's political standing and his historic legacy in foreign policy are so deeply intertwined with reaching an accord with Iran that if the deal ultimately collapses, he may fear that historians will conclude that his legacy in global affairs collapsed with it. There is a reason one gets the feeling that it is the United States and not Iran that is the more eager, even desperate, side in these talks, even though Iran is the country whose economy was sent into a deep chill by international sanctions; the country whose only significant export, oil, lost more than half of its value in recent months. The reason is that Obama has a huge political stake in these nego\n",
      "\n",
      "(CNN)Universal's \"Furious 7\" continues to build momentum at the Friday box office for a weekend debut in the $135 million-$138 million range, the largest opening in North America since fall 2013. That includes a projected Friday take of $58 million-$60 million. The final film featuring the late Paul Walker, \"Furious 7\" is opening around the globe this weekend and earned a record-breaking $60 million internationally on Wednesday and Thursday for a possible worldwide debut approaching or crossing $300 million by the end of Easter Sunday. \"Furious 7\" is getting the widest release in Universal's history. Domestically, it will be playing in 4,003 theaters by Good Friday. Internationally, it has booked more than 10,500 screens in 63 territories, although it won't open in China, Japan and Russia until later. The current record-holder for top April opening domestically is \"Captain America: The Winter Soldier,\" which debuted to $95 million from 3,928 theaters last year. \"Furious 7\" is likewise poised to nab the bigges\n",
      "\n",
      "(CNN)Deion Sanders is such a dad. The NFL legend called out Deion Sanders Jr. on Twitter for saying he only eats \"hood doughnuts.\" In response, the elder Sanders -- in front of his 912,000 followers -- reminded his son he has a trust fund, a condo and his own clothing line called \"Well Off.\" \"You're a Huxtable with a million $ trust fund. Stop the hood stuff!\" Sanders followed it up with another tweet that included the hashtags #versacesheets #Huxtable and #Trustfund. Junior is a wide receiver at Southern Methodist University, an aspiring entrepreneur and occasional rapper. His Twitter timeline is a mix of biblical verses, motivational quotes and references to sports, cars, school and Balenciaga shoes. He also has gone on record with his love for \"hood doughnuts,\" or confections from \"a place in the hood,\" saying \"if my doughnuts don't come in a plain white box, I don't want them!\" His father promptly put him in his place. Sanders Jr. seemed to take the public browbeating in stride, retweeting his father's co\n",
      "\n"
     ]
    }
   ],
   "source": [
    "print(\"Input Text\")\n",
    "for i in range(len(sentence_list)):\n",
    "    print(sentence_list[i][:1024])\n",
    "    print()"
   ]
  },
  {
   "cell_type": "code",
   "execution_count": 7,
   "id": "advised-necessity",
   "metadata": {},
   "outputs": [
    {
     "name": "stdout",
     "output_type": "stream",
     "text": [
      "Reference Text\n",
      "Membership gives the ICC jurisdiction over alleged crimes committed in Palestinian territories since last June . Israel and the United States opposed the move, which could open the door to war crimes investigations against Israelis .\n",
      "\n",
      "Theia, a bully breed mix, was apparently hit by a car, whacked with a hammer and buried in a field . \"She's a true miracle dog and she deserves a good life,\" says Sara Mellado, who is looking for a home for Theia .\n",
      "\n",
      "Mohammad Javad Zarif has spent more time with John Kerry than any other foreign minister . He once participated in a takeover of the Iranian Consulate in San Francisco . The Iranian foreign minister tweets in English .\n",
      "\n",
      "17 Americans were exposed to the Ebola virus while in Sierra Leone in March . Another person was diagnosed with the disease and taken to hospital in Maryland . National Institutes of Health says the patient is in fair condition after weeks of treatment .\n",
      "\n",
      "Student is no longer on Duke University campus and will face disciplinary review . School officials identified student during investigation and the person admitted to hanging the noose, Duke says . The noose, made of rope, was discovered on campus about 2 a.m.\n",
      "\n",
      "College-bound basketball star asks girl with Down syndrome to high school prom . Pictures of the two during the \"prom-posal\" have gone viral .\n",
      "\n",
      "Amnesty's annual death penalty report catalogs encouraging signs, but setbacks in numbers of those sentenced to death . Organization claims that governments around the world are using the threat of terrorism to advance executions . The number of executions worldwide has gone down by almost 22% compared with 2013, but death sentences up by 28% .\n",
      "\n",
      "Andrew Getty's death appears to be from natural causes, police say, citing coroner's early assessment . In a petition for a restraining order, Getty had written he had a serious medical condition. Police say this is not a criminal matter at this time .\n",
      "\n",
      "Once a super typhoon, Maysak is now a tropical storm with 70 mph winds . It could still cause flooding, landslides and other problems in the Philippines .\n",
      "\n",
      "Bob Barker returned to host \"The Price Is Right\" on Wednesday . Barker, 91, had retired as host in 2007 .\n",
      "\n",
      "London's Metropolitan Police say the man was arrested at Luton airport after landing on a flight from Istanbul . He's been charged with terror offenses allegedly committed since the start of November .\n",
      "\n",
      "\"Furious 7\" pays tribute to star Paul Walker, who died during filming . Vin Diesel: \"This movie is more than a movie\" \"Furious 7\" opens Friday .\n",
      "\n",
      "Museum: Anne Frank died earlier than previously believed . Researchers re-examined archives and testimonies of survivors . Anne and older sister Margot Frank are believed to have died in February 1945 .\n",
      "\n",
      "LZ: Indiana law pushing back LGBT rights, and other states' anti-LGBT moves, bow to far right wing that GOP candidates need for 2016 . Cruz, Huckabee, Jindal, Carson, Walker are reviving culture wars, he says.  Equality for LGBT has not yet \"won\" in America .\n",
      "\n",
      "Singing the national anthem is a risky proposition . Whitney Houston nailed it; Roseanne Barr destroyed it .\n",
      "\n",
      "While Republican Gov. Asa Hutchinson was weighing an Arkansas religious freedom bill, Walmart voiced its opposition . Walmart and other high-profile businesses are showing their support for gay and lesbian rights . Their stance puts them in conflict with socially conservative Republicans, traditionally seen as allies .\n",
      "\n",
      "Amnesty International releases its annual review of the death penalty worldwide; much of it makes for grim reading . Salil Shetty: Countries that use executions to deal with problems are on the wrong side of history .\n",
      "\n",
      "Marseille prosecutor says \"so far no videos were used in the crash investigation\" despite media reports . Journalists at Bild and Paris Match are \"very confident\" the video clip is real, an editor says . Andreas Lubitz had informed his Lufthansa training school of an episode of severe depression, airline says .\n",
      "\n",
      "The Rev. Robert Schuller, 88, had been diagnosed with esophageal cancer in 2013 . His TV show, \"Hour of Power,\" was enormously popular in the 1970s and 1980s .\n",
      "\n",
      "Former GOP representative compares President Obama to Andreas Lubitz . Bachmann said with possible Iran deal, Obama will fly \"entire nation into the rocks\" Reaction on social media? She was blasted by Facebook commenters .\n",
      "\n",
      "Father: \"I know he went through what he went through\" Louis Jordan was found on his sailboat, which was listing and in bad shape, rescuer says . He appears to be in good shape, physically and mentally .\n",
      "\n",
      "Richard Klass: Iran framework agreement on nukes is strong, but opponents will cast doubts on this and try to obscure its facts . He says the deal would cut uranium stockpile, centrifuges, implement rigorous inspections; it should be judged on merits, not disinformation .\n",
      "\n",
      "Americans paid more for some fruits and vegetables last year because of the drought . Tourists will now have to ask for a glass of water at a California restaurant . Perhaps the only good thing is another \"great\" wine grape harvest last year .\n",
      "\n",
      "The FBI cites social media messages sent by Keonna Thomas, 30 . She's accused of trying to travel overseas to join ISIS . Thomas is one of three women facing federal terror charges this week .\n",
      "\n",
      "Iranian sports official: The ban will be lifted for some events in the coming year . But he says \"families are not interested in attending\" some sports matches .\n",
      "\n",
      "Going online has become the path of least resistance if you want to make yourself heard . But where there is the restrictive rule of law, journalists are vulnerable to the anger of officialdom . From China to Malaysia, journalists and bloggers have been jailed -- even killed .\n",
      "\n",
      "The singer had been off the scene for a while . She says she was bedridden for months . Lavigne was sometimes too weak to shower .\n",
      "\n",
      "Here are six of CNN's best videos of the week . Clips include a look at Mike Tyson's abandoned mansion .\n",
      "\n",
      "Netanyahu says third option is \"standing firm\" to get a better deal . Political sparring continues in U.S. over the deal with Iran .\n",
      "\n",
      "Indiana town's Memories Pizza is shut down after online threat . Its owners say they'd refuse to cater a same-sex couple's wedding .\n",
      "\n",
      "Authorities in the Indian city of Malegaon have asked residents to take a 'mugshot' of their cattle . Cows are revered by the majority Hindu population, and many parts of the country have laws banning the slaughter of cattle . Officials in Malegaon believe this is the best way to solve cow slaughter cases and enforce the law .\n",
      "\n",
      "A South Carolina man says he spent 66 days alone at sea before being rescued . Other sole survivor stories include a Japanese man washed away by a tsunami . An El Salvador man says he drifted from Mexico to Marshall Islands over a year .\n",
      "\n",
      "The Large Hadron Collider (LHC) begins again after a two-year shutdown . The restart was delayed in March .\n",
      "\n",
      "FBI agents and a suspected serial robber exchange gunfire in an FBI stakeout . Two FBI agents are injured and the suspect is shot during the gunfight .\n",
      "\n",
      "The total eclipse will only last 4 minutes and 43 seconds . People west of the Mississippi River will have the best view . Parts of South America, India, China and Russia also will see the eclipse .\n",
      "\n",
      "Terrorist group Al-Shabaab has attacked a Kenyan college, killing and taking hostages . It is a clear indicator the security situation in East Africa is deteriorating, says Stefan Wolff . More than military action aloe is needed to combat terrorism in the region, he says .\n",
      "\n",
      "Easter is a key event in the Christian faith, but where did the Easter Bunny come from? Why is the date different every year, and what does it have to do with the moon?\n",
      "\n",
      "In response to lawsuit, NCAA says it doesn't control quality of education for student-athletes . But its website emphasizes importance of education, \"opportunities to learn\" Lawsuit claims students didn't get an education because of academic fraud at UNC .\n",
      "\n",
      "Judge won't allow teen leave hospital before her last chemotherapy treatment . Attorneys for the teen are deciding whether to appeal . Cassandra C. is now in remission and is no longer opposed to the chemotherapy treatments .\n",
      "\n",
      "The song rules the chart for 13th week . It passes Robin Thicke's \"Blurred Lines\" Song three weeks from potentially tying \"One Sweet Day\" for record .\n",
      "\n",
      "High temperatures are recorded on the northern tip of the Antarctica Peninsula . The World Meteorological Organization will make the final determination .\n",
      "\n",
      "A Native American from a tribe not recognized by the feds wins the return of his eagle feathers . An IRS accountant is fired for insisting on carrying a symbolic Sikh knife to work . A group of Chicago pastors takes on City Hall over its permits for new churches and loses .\n",
      "\n",
      "Robert Lewis Burns Jr. was part of Lynyrd Skynyrd's original lineup . His car hit a mailbox and a tree just before midnight .\n",
      "\n",
      "Kim Ki-Jong is charged with attempted murder and assaulting a foreign envoy . He's accused of stabbing U.S. Ambassador Mark Lippert in the face and arm . Police said Kim opposed the joint U.S.-South Korean military drills .\n",
      "\n",
      "Hong Kong banker alleged murder case adjourned until May . The 29-year-old Rurik Jutting is accused of killing two Indonesian domestic workers .\n",
      "\n",
      "Thai Airways subsidiary Thai Smile features Cartoon Network paint job on A320 jet . Overhead bins, head rests and air sick bags feature characters from Cartoon Network .\n",
      "\n",
      "Manning is serving a 35-year sentence for leaking thousands of classified documents . She says she will be using a voice phone to dictate her tweets .\n",
      "\n",
      "Frida Ghitis: President Barack Obama is right to want a deal, but this one gives Iran too much . She says the framework agreement starts lifting Iran sanctions much too soon .\n",
      "\n",
      "The final film featuring the late Paul Walker, \"Furious 7\" is opening around the globe this weekend . It's worldwide debut may approach or cross $300 million by the end of Easter Sunday .\n",
      "\n",
      "Deion Sanders calls out son for \"hood doughnuts\" comments . \"You're a Huxtable with a million $ trust fund. Stop the hood stuff!\"\n",
      "\n"
     ]
    }
   ],
   "source": [
    "print(\"Reference Text\")\n",
    "for i in range(len(sentence_list)):\n",
    "    print(reference_list[i])\n",
    "    print()"
   ]
  },
  {
   "cell_type": "code",
   "execution_count": 8,
   "id": "electronic-south",
   "metadata": {},
   "outputs": [
    {
     "name": "stdout",
     "output_type": "stream",
     "text": [
      "Rouge Results:  {'rouge1': [0.44827586206896547, 0.46875, 0.48275862068965525, 0.3692307692307692, 0.44776119402985076, 0.22222222222222224, 0.1842105263157895, 0.27692307692307694, 0.44897959183673475, 0.46511627906976744, 0.490566037735849, 0.20000000000000004, 0.24489795918367346, 0.14705882352941177, 0.2631578947368421, 0.12307692307692307, 0.4482758620689655, 0.26666666666666666, 0.5652173913043478, 0.30188679245283023, 0.2105263157894737, 0.21874999999999997, 0.3692307692307692, 0.4210526315789474, 0.5660377358490566, 0.2028985507246377, 0.3111111111111111, 0.19047619047619047, 0.20833333333333331, 0.4782608695652174, 0.30379746835443033, 0.18181818181818182, 0.45, 0.20833333333333331, 0.4482758620689655, 0.3333333333333333, 0.3508771929824562, 0.34374999999999994, 0.2711864406779661, 0.18181818181818185, 0.6222222222222222, 0.1095890410958904, 0.6956521739130435, 0.5333333333333333, 0.5714285714285715, 0.13043478260869565, 0.8799999999999999, 0.22641509433962265, 0.23076923076923078, 0.37209302325581395], 'rouge2': [0.25, 0.3548387096774194, 0.25, 0.19047619047619044, 0.24615384615384614, 0.13953488372093023, 0.05405405405405406, 0.06349206349206349, 0.1702127659574468, 0.2926829268292683, 0.23529411764705882, 0.041666666666666664, 0.1276595744680851, 0.0, 0.16666666666666666, 0.0, 0.3928571428571429, 0.1095890410958904, 0.27272727272727276, 0.11764705882352941, 0.03636363636363636, 0.03225806451612904, 0.031746031746031744, 0.2909090909090909, 0.27450980392156865, 0.0, 0.18604651162790697, 0.05000000000000001, 0.043478260869565216, 0.3636363636363636, 0.12987012987012989, 0.03125, 0.2631578947368421, 0.08695652173913043, 0.35714285714285715, 0.125, 0.2545454545454546, 0.0967741935483871, 0.10526315789473684, 0.0, 0.5116279069767442, 0.0, 0.5909090909090909, 0.37931034482758624, 0.19999999999999998, 0.04545454545454545, 0.7916666666666667, 0.0, 0.08, 0.14634146341463414], 'rougeL': [0.31034482758620696, 0.46875, 0.3103448275862069, 0.3384615384615384, 0.3880597014925373, 0.22222222222222224, 0.13157894736842105, 0.1846153846153846, 0.28571428571428575, 0.4186046511627907, 0.4150943396226416, 0.16, 0.24489795918367346, 0.08823529411764705, 0.15789473684210525, 0.061538461538461535, 0.4482758620689655, 0.18666666666666665, 0.5217391304347826, 0.18867924528301888, 0.17543859649122806, 0.09374999999999999, 0.0923076923076923, 0.3508771929824562, 0.33962264150943394, 0.2028985507246377, 0.26666666666666666, 0.14285714285714285, 0.20833333333333331, 0.43478260869565216, 0.22784810126582278, 0.09090909090909091, 0.39999999999999997, 0.16666666666666669, 0.4482758620689655, 0.27272727272727276, 0.3508771929824562, 0.21875, 0.20338983050847456, 0.18181818181818185, 0.6222222222222222, 0.0821917808219178, 0.6956521739130435, 0.5, 0.23809523809523808, 0.13043478260869565, 0.8799999999999999, 0.15094339622641512, 0.19230769230769232, 0.3255813953488372], 'rougeLsum': [0.31034482758620696, 0.46875, 0.3103448275862069, 0.3384615384615384, 0.3880597014925373, 0.22222222222222224, 0.13157894736842105, 0.1846153846153846, 0.28571428571428575, 0.4186046511627907, 0.4150943396226416, 0.16, 0.24489795918367346, 0.08823529411764705, 0.15789473684210525, 0.061538461538461535, 0.4482758620689655, 0.18666666666666665, 0.5217391304347826, 0.18867924528301888, 0.17543859649122806, 0.09374999999999999, 0.0923076923076923, 0.3508771929824562, 0.33962264150943394, 0.2028985507246377, 0.26666666666666666, 0.14285714285714285, 0.20833333333333331, 0.43478260869565216, 0.22784810126582278, 0.09090909090909091, 0.39999999999999997, 0.16666666666666669, 0.4482758620689655, 0.27272727272727276, 0.3508771929824562, 0.21875, 0.20338983050847456, 0.18181818181818185, 0.6222222222222222, 0.0821917808219178, 0.6956521739130435, 0.5, 0.23809523809523808, 0.13043478260869565, 0.8799999999999999, 0.15094339622641512, 0.19230769230769232, 0.3255813953488372]}\n"
     ]
    }
   ],
   "source": [
    "# Task 3\n",
    "\n",
    "import evaluate\n",
    "\n",
    "rouge = evaluate.load(\"rouge\")\n",
    "rouge_results = rouge.compute(predictions=prediction_list, references=reference_list, use_aggregator=False)\n",
    "print(\"Rouge Results: \", rouge_results)\n",
    "\n",
    "\n"
   ]
  },
  {
   "cell_type": "code",
   "execution_count": 9,
   "id": "distributed-arizona",
   "metadata": {},
   "outputs": [
    {
     "name": "stderr",
     "output_type": "stream",
     "text": [
      "Some weights of RobertaModel were not initialized from the model checkpoint at roberta-large and are newly initialized: ['roberta.pooler.dense.bias', 'roberta.pooler.dense.weight']\n",
      "You should probably TRAIN this model on a down-stream task to be able to use it for predictions and inference.\n"
     ]
    },
    {
     "name": "stdout",
     "output_type": "stream",
     "text": [
      "Bert Results:  {'precision': [0.9087958335876465, 0.9242240190505981, 0.9053109288215637, 0.9023255109786987, 0.9133458733558655, 0.86474609375, 0.8537155389785767, 0.883267879486084, 0.8927016258239746, 0.9159455299377441, 0.8737826347351074, 0.8537482023239136, 0.8677037358283997, 0.8582708239555359, 0.8554202318191528, 0.8369802236557007, 0.92963707447052, 0.8826193809509277, 0.9455327987670898, 0.8646371960639954, 0.8641473054885864, 0.8715906143188477, 0.8318599462509155, 0.9185168147087097, 0.9049757719039917, 0.872330367565155, 0.8750764727592468, 0.8370938301086426, 0.8639880418777466, 0.8971128463745117, 0.9125757813453674, 0.8597882390022278, 0.9108281135559082, 0.8357371687889099, 0.896733820438385, 0.9103935956954956, 0.8994429707527161, 0.8983388543128967, 0.8771633505821228, 0.8362583518028259, 0.9047712087631226, 0.8293336629867554, 0.9364964365959167, 0.9340121746063232, 0.9145631194114685, 0.8639483451843262, 0.9715203046798706, 0.8682656288146973, 0.8685991764068604, 0.8896291851997375], 'recall': [0.888218104839325, 0.8783526420593262, 0.8778842687606812, 0.8661049604415894, 0.8735873103141785, 0.8554022908210754, 0.8346283435821533, 0.8631405830383301, 0.8694136142730713, 0.9109427332878113, 0.8807424902915955, 0.841271698474884, 0.8381161093711853, 0.8341526985168457, 0.8621798753738403, 0.8163622617721558, 0.8673384785652161, 0.835041344165802, 0.8943074941635132, 0.8366921544075012, 0.8403329253196716, 0.8194749355316162, 0.8215512037277222, 0.8836033940315247, 0.8929586410522461, 0.837503969669342, 0.8764139413833618, 0.8347679376602173, 0.8805420398712158, 0.8949674367904663, 0.8576061725616455, 0.8404526710510254, 0.9055749177932739, 0.8582239151000977, 0.8782223463058472, 0.8676198124885559, 0.8770254254341125, 0.8681171536445618, 0.8651805520057678, 0.8141947984695435, 0.920317530632019, 0.8041956424713135, 0.9029273390769958, 0.8841961622238159, 0.8998790979385376, 0.8298692107200623, 0.9519217610359192, 0.8397851586341858, 0.845666766166687, 0.8638567924499512], 'f1': [0.8983891010284424, 0.9007046818733215, 0.8913866281509399, 0.8838443160057068, 0.8930243253707886, 0.8600488305091858, 0.8440640568733215, 0.8730882406234741, 0.8809037208557129, 0.9134373068809509, 0.8772487640380859, 0.8474639654159546, 0.8526532649993896, 0.846039891242981, 0.8587867617607117, 0.8265427350997925, 0.8974078297615051, 0.8581714034080505, 0.9192070364952087, 0.850435197353363, 0.8520737886428833, 0.8447297215461731, 0.8266734480857849, 0.9007219076156616, 0.8989270329475403, 0.854562520980835, 0.8757447004318237, 0.835929274559021, 0.8721864819526672, 0.896038830280304, 0.88423752784729, 0.8500105142593384, 0.9081938862800598, 0.8468312621116638, 0.8873814940452576, 0.8884921669960022, 0.8880927562713623, 0.8829694390296936, 0.8711307644844055, 0.8250791430473328, 0.9124782085418701, 0.8165712356567383, 0.9194055199623108, 0.9084217548370361, 0.9071617722511292, 0.8465659022331238, 0.9616211652755737, 0.8537880182266235, 0.8569796085357666, 0.8765535950660706], 'hashcode': 'roberta-large_L17_no-idf_version=0.3.12(hug_trans=4.38.1)'}\n"
     ]
    }
   ],
   "source": [
    "bert = evaluate.load(\"bertscore\")\n",
    "bert_results = bert.compute(predictions=prediction_list, references=reference_list, lang=\"en\")\n",
    "print(\"Bert Results: \", bert_results)"
   ]
  },
  {
   "cell_type": "code",
   "execution_count": 10,
   "id": "detailed-whale",
   "metadata": {},
   "outputs": [],
   "source": [
    "# Inter-annotator Agreement Calculation"
   ]
  },
  {
   "cell_type": "code",
   "execution_count": 11,
   "id": "photographic-programming",
   "metadata": {},
   "outputs": [
    {
     "name": "stdout",
     "output_type": "stream",
     "text": [
      "rouge1: 0.44827586206896547, rouge2: 0.25, rougeL: 0.31034482758620696, rougeLsum: 0.31034482758620696\n",
      "rouge1: 0.46875, rouge2: 0.3548387096774194, rougeL: 0.46875, rougeLsum: 0.46875\n",
      "rouge1: 0.48275862068965525, rouge2: 0.25, rougeL: 0.3103448275862069, rougeLsum: 0.3103448275862069\n",
      "rouge1: 0.3692307692307692, rouge2: 0.19047619047619044, rougeL: 0.3384615384615384, rougeLsum: 0.3384615384615384\n",
      "rouge1: 0.44776119402985076, rouge2: 0.24615384615384614, rougeL: 0.3880597014925373, rougeLsum: 0.3880597014925373\n",
      "rouge1: 0.22222222222222224, rouge2: 0.13953488372093023, rougeL: 0.22222222222222224, rougeLsum: 0.22222222222222224\n",
      "rouge1: 0.1842105263157895, rouge2: 0.05405405405405406, rougeL: 0.13157894736842105, rougeLsum: 0.13157894736842105\n",
      "rouge1: 0.27692307692307694, rouge2: 0.06349206349206349, rougeL: 0.1846153846153846, rougeLsum: 0.1846153846153846\n",
      "rouge1: 0.44897959183673475, rouge2: 0.1702127659574468, rougeL: 0.28571428571428575, rougeLsum: 0.28571428571428575\n",
      "rouge1: 0.46511627906976744, rouge2: 0.2926829268292683, rougeL: 0.4186046511627907, rougeLsum: 0.4186046511627907\n",
      "rouge1: 0.490566037735849, rouge2: 0.23529411764705882, rougeL: 0.4150943396226416, rougeLsum: 0.4150943396226416\n",
      "rouge1: 0.20000000000000004, rouge2: 0.041666666666666664, rougeL: 0.16, rougeLsum: 0.16\n",
      "rouge1: 0.24489795918367346, rouge2: 0.1276595744680851, rougeL: 0.24489795918367346, rougeLsum: 0.24489795918367346\n",
      "rouge1: 0.14705882352941177, rouge2: 0.0, rougeL: 0.08823529411764705, rougeLsum: 0.08823529411764705\n",
      "rouge1: 0.2631578947368421, rouge2: 0.16666666666666666, rougeL: 0.15789473684210525, rougeLsum: 0.15789473684210525\n",
      "rouge1: 0.12307692307692307, rouge2: 0.0, rougeL: 0.061538461538461535, rougeLsum: 0.061538461538461535\n",
      "rouge1: 0.4482758620689655, rouge2: 0.3928571428571429, rougeL: 0.4482758620689655, rougeLsum: 0.4482758620689655\n",
      "rouge1: 0.26666666666666666, rouge2: 0.1095890410958904, rougeL: 0.18666666666666665, rougeLsum: 0.18666666666666665\n",
      "rouge1: 0.5652173913043478, rouge2: 0.27272727272727276, rougeL: 0.5217391304347826, rougeLsum: 0.5217391304347826\n",
      "rouge1: 0.30188679245283023, rouge2: 0.11764705882352941, rougeL: 0.18867924528301888, rougeLsum: 0.18867924528301888\n",
      "rouge1: 0.2105263157894737, rouge2: 0.03636363636363636, rougeL: 0.17543859649122806, rougeLsum: 0.17543859649122806\n",
      "rouge1: 0.21874999999999997, rouge2: 0.03225806451612904, rougeL: 0.09374999999999999, rougeLsum: 0.09374999999999999\n",
      "rouge1: 0.3692307692307692, rouge2: 0.031746031746031744, rougeL: 0.0923076923076923, rougeLsum: 0.0923076923076923\n",
      "rouge1: 0.4210526315789474, rouge2: 0.2909090909090909, rougeL: 0.3508771929824562, rougeLsum: 0.3508771929824562\n",
      "rouge1: 0.5660377358490566, rouge2: 0.27450980392156865, rougeL: 0.33962264150943394, rougeLsum: 0.33962264150943394\n",
      "rouge1: 0.2028985507246377, rouge2: 0.0, rougeL: 0.2028985507246377, rougeLsum: 0.2028985507246377\n",
      "rouge1: 0.3111111111111111, rouge2: 0.18604651162790697, rougeL: 0.26666666666666666, rougeLsum: 0.26666666666666666\n",
      "rouge1: 0.19047619047619047, rouge2: 0.05000000000000001, rougeL: 0.14285714285714285, rougeLsum: 0.14285714285714285\n",
      "rouge1: 0.20833333333333331, rouge2: 0.043478260869565216, rougeL: 0.20833333333333331, rougeLsum: 0.20833333333333331\n",
      "rouge1: 0.4782608695652174, rouge2: 0.3636363636363636, rougeL: 0.43478260869565216, rougeLsum: 0.43478260869565216\n",
      "rouge1: 0.30379746835443033, rouge2: 0.12987012987012989, rougeL: 0.22784810126582278, rougeLsum: 0.22784810126582278\n",
      "rouge1: 0.18181818181818182, rouge2: 0.03125, rougeL: 0.09090909090909091, rougeLsum: 0.09090909090909091\n",
      "rouge1: 0.45, rouge2: 0.2631578947368421, rougeL: 0.39999999999999997, rougeLsum: 0.39999999999999997\n",
      "rouge1: 0.20833333333333331, rouge2: 0.08695652173913043, rougeL: 0.16666666666666669, rougeLsum: 0.16666666666666669\n",
      "rouge1: 0.4482758620689655, rouge2: 0.35714285714285715, rougeL: 0.4482758620689655, rougeLsum: 0.4482758620689655\n",
      "rouge1: 0.3333333333333333, rouge2: 0.125, rougeL: 0.27272727272727276, rougeLsum: 0.27272727272727276\n",
      "rouge1: 0.3508771929824562, rouge2: 0.2545454545454546, rougeL: 0.3508771929824562, rougeLsum: 0.3508771929824562\n",
      "rouge1: 0.34374999999999994, rouge2: 0.0967741935483871, rougeL: 0.21875, rougeLsum: 0.21875\n",
      "rouge1: 0.2711864406779661, rouge2: 0.10526315789473684, rougeL: 0.20338983050847456, rougeLsum: 0.20338983050847456\n",
      "rouge1: 0.18181818181818185, rouge2: 0.0, rougeL: 0.18181818181818185, rougeLsum: 0.18181818181818185\n",
      "rouge1: 0.6222222222222222, rouge2: 0.5116279069767442, rougeL: 0.6222222222222222, rougeLsum: 0.6222222222222222\n",
      "rouge1: 0.1095890410958904, rouge2: 0.0, rougeL: 0.0821917808219178, rougeLsum: 0.0821917808219178\n",
      "rouge1: 0.6956521739130435, rouge2: 0.5909090909090909, rougeL: 0.6956521739130435, rougeLsum: 0.6956521739130435\n",
      "rouge1: 0.5333333333333333, rouge2: 0.37931034482758624, rougeL: 0.5, rougeLsum: 0.5\n",
      "rouge1: 0.5714285714285715, rouge2: 0.19999999999999998, rougeL: 0.23809523809523808, rougeLsum: 0.23809523809523808\n",
      "rouge1: 0.13043478260869565, rouge2: 0.04545454545454545, rougeL: 0.13043478260869565, rougeLsum: 0.13043478260869565\n",
      "rouge1: 0.8799999999999999, rouge2: 0.7916666666666667, rougeL: 0.8799999999999999, rougeLsum: 0.8799999999999999\n",
      "rouge1: 0.22641509433962265, rouge2: 0.0, rougeL: 0.15094339622641512, rougeLsum: 0.15094339622641512\n",
      "rouge1: 0.23076923076923078, rouge2: 0.08, rougeL: 0.19230769230769232, rougeLsum: 0.19230769230769232\n",
      "rouge1: 0.37209302325581395, rouge2: 0.14634146341463414, rougeL: 0.3255813953488372, rougeLsum: 0.3255813953488372\n"
     ]
    }
   ],
   "source": [
    "for i in range(len(rouge_results[\"rouge1\"])):\n",
    "    print(\"rouge1: \" + str(rouge_results[\"rouge1\"][i]) +\", \" +  \"rouge2: \" + str(rouge_results[\"rouge2\"][i]) +\", \" + \"rougeL: \" + str(rouge_results[\"rougeL\"][i]) +\", \" + \"rougeLsum: \" + str(rouge_results[\"rougeLsum\"][i]))"
   ]
  },
  {
   "cell_type": "code",
   "execution_count": 12,
   "id": "magnetic-austria",
   "metadata": {},
   "outputs": [],
   "source": [
    "import numpy as np"
   ]
  },
  {
   "cell_type": "code",
   "execution_count": 13,
   "id": "italian-gentleman",
   "metadata": {},
   "outputs": [
    {
     "name": "stdout",
     "output_type": "stream",
     "text": [
      "rouge1: 0.349736749363087, rouge2: 0.17959541945261262, rougeL: 0.28435886776053587, rougeLsum: 0.3255813953488372\n"
     ]
    }
   ],
   "source": [
    "print(\"rouge1: \" + str(np.mean(rouge_results[\"rouge1\"])) +\", \" +  \"rouge2: \" + str(np.mean(rouge_results[\"rouge2\"])) +\", \" + \"rougeL: \" + str(np.mean(rouge_results[\"rougeL\"])) +\", \" + \"rougeLsum: \" + str(np.mean(rouge_results[\"rougeLsum\"][i])))"
   ]
  },
  {
   "cell_type": "code",
   "execution_count": null,
   "id": "endless-spread",
   "metadata": {},
   "outputs": [],
   "source": []
  },
  {
   "cell_type": "code",
   "execution_count": 14,
   "id": "swiss-citizenship",
   "metadata": {},
   "outputs": [],
   "source": [
    "# for item in results[\"rouge1\"]:\n",
    "#     print(item)"
   ]
  },
  {
   "cell_type": "code",
   "execution_count": 15,
   "id": "pursuant-terry",
   "metadata": {},
   "outputs": [],
   "source": [
    "# for item in results[\"precision\"]:\n",
    "#     print(item)"
   ]
  },
  {
   "cell_type": "code",
   "execution_count": 16,
   "id": "comprehensive-biodiversity",
   "metadata": {},
   "outputs": [
    {
     "name": "stdout",
     "output_type": "stream",
     "text": [
      "precision: 0.9087958335876465, recall: 0.888218104839325, f1: 0.8983891010284424\n",
      "precision: 0.9242240190505981, recall: 0.8783526420593262, f1: 0.9007046818733215\n",
      "precision: 0.9053109288215637, recall: 0.8778842687606812, f1: 0.8913866281509399\n",
      "precision: 0.9023255109786987, recall: 0.8661049604415894, f1: 0.8838443160057068\n",
      "precision: 0.9133458733558655, recall: 0.8735873103141785, f1: 0.8930243253707886\n",
      "precision: 0.86474609375, recall: 0.8554022908210754, f1: 0.8600488305091858\n",
      "precision: 0.8537155389785767, recall: 0.8346283435821533, f1: 0.8440640568733215\n",
      "precision: 0.883267879486084, recall: 0.8631405830383301, f1: 0.8730882406234741\n",
      "precision: 0.8927016258239746, recall: 0.8694136142730713, f1: 0.8809037208557129\n",
      "precision: 0.9159455299377441, recall: 0.9109427332878113, f1: 0.9134373068809509\n",
      "precision: 0.8737826347351074, recall: 0.8807424902915955, f1: 0.8772487640380859\n",
      "precision: 0.8537482023239136, recall: 0.841271698474884, f1: 0.8474639654159546\n",
      "precision: 0.8677037358283997, recall: 0.8381161093711853, f1: 0.8526532649993896\n",
      "precision: 0.8582708239555359, recall: 0.8341526985168457, f1: 0.846039891242981\n",
      "precision: 0.8554202318191528, recall: 0.8621798753738403, f1: 0.8587867617607117\n",
      "precision: 0.8369802236557007, recall: 0.8163622617721558, f1: 0.8265427350997925\n",
      "precision: 0.92963707447052, recall: 0.8673384785652161, f1: 0.8974078297615051\n",
      "precision: 0.8826193809509277, recall: 0.835041344165802, f1: 0.8581714034080505\n",
      "precision: 0.9455327987670898, recall: 0.8943074941635132, f1: 0.9192070364952087\n",
      "precision: 0.8646371960639954, recall: 0.8366921544075012, f1: 0.850435197353363\n",
      "precision: 0.8641473054885864, recall: 0.8403329253196716, f1: 0.8520737886428833\n",
      "precision: 0.8715906143188477, recall: 0.8194749355316162, f1: 0.8447297215461731\n",
      "precision: 0.8318599462509155, recall: 0.8215512037277222, f1: 0.8266734480857849\n",
      "precision: 0.9185168147087097, recall: 0.8836033940315247, f1: 0.9007219076156616\n",
      "precision: 0.9049757719039917, recall: 0.8929586410522461, f1: 0.8989270329475403\n",
      "precision: 0.872330367565155, recall: 0.837503969669342, f1: 0.854562520980835\n",
      "precision: 0.8750764727592468, recall: 0.8764139413833618, f1: 0.8757447004318237\n",
      "precision: 0.8370938301086426, recall: 0.8347679376602173, f1: 0.835929274559021\n",
      "precision: 0.8639880418777466, recall: 0.8805420398712158, f1: 0.8721864819526672\n",
      "precision: 0.8971128463745117, recall: 0.8949674367904663, f1: 0.896038830280304\n",
      "precision: 0.9125757813453674, recall: 0.8576061725616455, f1: 0.88423752784729\n",
      "precision: 0.8597882390022278, recall: 0.8404526710510254, f1: 0.8500105142593384\n",
      "precision: 0.9108281135559082, recall: 0.9055749177932739, f1: 0.9081938862800598\n",
      "precision: 0.8357371687889099, recall: 0.8582239151000977, f1: 0.8468312621116638\n",
      "precision: 0.896733820438385, recall: 0.8782223463058472, f1: 0.8873814940452576\n",
      "precision: 0.9103935956954956, recall: 0.8676198124885559, f1: 0.8884921669960022\n",
      "precision: 0.8994429707527161, recall: 0.8770254254341125, f1: 0.8880927562713623\n",
      "precision: 0.8983388543128967, recall: 0.8681171536445618, f1: 0.8829694390296936\n",
      "precision: 0.8771633505821228, recall: 0.8651805520057678, f1: 0.8711307644844055\n",
      "precision: 0.8362583518028259, recall: 0.8141947984695435, f1: 0.8250791430473328\n",
      "precision: 0.9047712087631226, recall: 0.920317530632019, f1: 0.9124782085418701\n",
      "precision: 0.8293336629867554, recall: 0.8041956424713135, f1: 0.8165712356567383\n",
      "precision: 0.9364964365959167, recall: 0.9029273390769958, f1: 0.9194055199623108\n",
      "precision: 0.9340121746063232, recall: 0.8841961622238159, f1: 0.9084217548370361\n",
      "precision: 0.9145631194114685, recall: 0.8998790979385376, f1: 0.9071617722511292\n",
      "precision: 0.8639483451843262, recall: 0.8298692107200623, f1: 0.8465659022331238\n",
      "precision: 0.9715203046798706, recall: 0.9519217610359192, f1: 0.9616211652755737\n",
      "precision: 0.8682656288146973, recall: 0.8397851586341858, f1: 0.8537880182266235\n",
      "precision: 0.8685991764068604, recall: 0.845666766166687, f1: 0.8569796085357666\n",
      "precision: 0.8896291851997375, recall: 0.8638567924499512, f1: 0.8765535950660706\n"
     ]
    }
   ],
   "source": [
    " for i in range(len(bert_results[\"precision\"])):\n",
    "    print(\"precision: \" + str(bert_results[\"precision\"][i]) +\", \" +  \"recall: \" + str(bert_results[\"recall\"][i]) +\", \" + \"f1: \" + str(bert_results[\"f1\"][i]))"
   ]
  },
  {
   "cell_type": "code",
   "execution_count": 17,
   "id": "inappropriate-athletics",
   "metadata": {},
   "outputs": [
    {
     "name": "stdout",
     "output_type": "stream",
     "text": [
      "precision: 0.8857560527324676, recall: 0.8636165821552276, f1: 0.8744480299949646\n"
     ]
    }
   ],
   "source": [
    "print(\"precision: \" + str(np.mean(bert_results[\"precision\"])) +\", \" +  \"recall: \" + str(np.mean(bert_results[\"recall\"])) +\", \" + \"f1: \" + str(np.mean(bert_results[\"f1\"])) )"
   ]
  },
  {
   "cell_type": "code",
   "execution_count": 41,
   "id": "laughing-validity",
   "metadata": {},
   "outputs": [
    {
     "name": "stdout",
     "output_type": "stream",
     "text": [
      "20\n",
      "20\n",
      "20\n",
      "20\n",
      "alpha 0.5177510040160642\n"
     ]
    }
   ],
   "source": [
    "# Agreement Score\n",
    "from nltk import agreement\n",
    "\n",
    "# beam coherance\n",
    "\n",
    "# madhan = [4, 5, 4, 5, 4, 4, 5, 4, 3, 3, 4, 5, 4, 4, 3, 5, 4, 4, 5, 4]\n",
    "# ritwick = [5, 5, 4, 5, 4, 5, 5, 4, 3, 4, 4, 5, 4, 4, 3, 4, 5, 4, 4,4]\n",
    "# masha = [4, 5, 4, 5, 4, 4, 5, 4, 4, 3, 4, 5, 4, 4, 3, 5, 4, 4, 5, 4]\n",
    "# layan = [5, 4, 4, 5, 4, 4, 5, 4, 4, 5, 4, 5, 4, 4, 3, 4, 4, 4, 5, 4]\n",
    "\n",
    "# beam factuality\n",
    "\n",
    "# madhan = [4, 4, 3, 4, 4, 4, 5, 3, 4, 4, 3, 4, 5, 4, 3, 5, 4, 4, 5, 5]\n",
    "# ritwick = [4, 4, 5, 3, 4, 5, 3, 4, 2, 3, 4, 3, 4, 3, 2, 5, 3, 4, 5, 5]\n",
    "# masha = [4, 4, 4, 4, 4, 4, 4, 4, 3, 4, 3, 4, 3, 3, 3, 5, 4, 4, 5, 4]\n",
    "# layan = [5, 5, 5, 5, 5, 5, 5, 4, 4, 4, 4, 4, 5, 4, 3, 5, 4, 4, 5, 5]\n",
    "\n",
    "# beam formality\n",
    "\n",
    "madhan=[4, 4, 4, 5, 5, 5, 5, 4, 3, 3, 4, 5, 4, 3, 2, 5, 4, 4, 5, 4]\n",
    "ritwick=[4, 4, 4, 3, 5, 4, 4, 4, 3, 4, 3, 3, 3, 3, 2, 5, 5, 3, 5, 4]\n",
    "masha=[4, 4, 4, 4, 5, 4, 3, 4, 3, 3, 4, 4, 4, 3, 3, 5, 4, 4, 5, 4]\n",
    "layan=[4, 4, 4, 5, 5, 5, 5, 4, 3, 3, 4, 5, 4, 3, 3, 5, 4, 4, 5, 4]\n",
    "\n",
    "print(len(madhan))\n",
    "print(len(ritwick))\n",
    "print(len(masha))\n",
    "print(len(layan))\n",
    "\n",
    "\n",
    "taskdata = [\n",
    "    [0, str(i), str(madhan[i])] for i in range(len(madhan))] + [[1, str(i), str(ritwick[i])] for i in range(len(ritwick))] + [\n",
    "    [2, str(i), str(masha[i])] for i in range(len(masha))] + [[3, str(i), str(layan[i])] for i in range(len(layan))]\n",
    "\n",
    "rating_task = agreement.AnnotationTask(data=taskdata)\n",
    "print(\"alpha \" + str(rating_task.alpha()))"
   ]
  },
  {
   "cell_type": "code",
   "execution_count": 42,
   "id": "emotional-intranet",
   "metadata": {},
   "outputs": [
    {
     "name": "stdout",
     "output_type": "stream",
     "text": [
      "precision: 0.8866355568170547, recall: 0.8611939728260041, f1: 0.8736424028873444\n"
     ]
    }
   ],
   "source": [
    "print(\"precision: \" + str(np.mean(bert_results[\"precision\"][:20])) +\", \" +  \"recall: \" + str(np.mean(bert_results[\"recall\"][:20])) +\", \" + \"f1: \" + str(np.mean(bert_results[\"f1\"][:20])) )"
   ]
  },
  {
   "cell_type": "code",
   "execution_count": 43,
   "id": "appreciated-violence",
   "metadata": {},
   "outputs": [
    {
     "name": "stdout",
     "output_type": "stream",
     "text": [
      "rouge1: 0.343251624657117, rouge2: 0.17377764906567655, rougeL: 0.27658590409837785, rougeLsum: 0.27658590409837785\n"
     ]
    }
   ],
   "source": [
    "print(\"rouge1: \" + str(np.mean(rouge_results[\"rouge1\"][:20])) +\", \" +  \"rouge2: \" + str(np.mean(rouge_results[\"rouge2\"][:20])) +\", \" + \"rougeL: \" + str(np.mean(rouge_results[\"rougeL\"][:20])) +\", \" + \"rougeLsum: \" + str(np.mean(rouge_results[\"rougeLsum\"][:20])))\n"
   ]
  },
  {
   "cell_type": "code",
   "execution_count": null,
   "id": "alpine-penguin",
   "metadata": {},
   "outputs": [],
   "source": []
  },
  {
   "cell_type": "code",
   "execution_count": 44,
   "id": "artistic-given",
   "metadata": {},
   "outputs": [
    {
     "name": "stdout",
     "output_type": "stream",
     "text": [
      "precision: 0.8857560527324676, recall: 0.8636165821552276, f1: 0.8744480299949646\n"
     ]
    }
   ],
   "source": [
    "print(\"precision: \" + str(np.mean(bert_results[\"precision\"][:50])) +\", \" +  \"recall: \" + str(np.mean(bert_results[\"recall\"][:50])) +\", \" + \"f1: \" + str(np.mean(bert_results[\"f1\"][:50])) )"
   ]
  },
  {
   "cell_type": "code",
   "execution_count": 45,
   "id": "appointed-pavilion",
   "metadata": {},
   "outputs": [
    {
     "name": "stdout",
     "output_type": "stream",
     "text": [
      "rouge1: 0.349736749363087, rouge2: 0.17959541945261262, rougeL: 0.28435886776053587, rougeLsum: 0.28435886776053587\n"
     ]
    }
   ],
   "source": [
    "print(\"rouge1: \" + str(np.mean(rouge_results[\"rouge1\"][:50])) +\", \" +  \"rouge2: \" + str(np.mean(rouge_results[\"rouge2\"][:50])) +\", \" + \"rougeL: \" + str(np.mean(rouge_results[\"rougeL\"][:50])) +\", \" + \"rougeLsum: \" + str(np.mean(rouge_results[\"rougeLsum\"][:50])))\n"
   ]
  },
  {
   "cell_type": "code",
   "execution_count": 46,
   "id": "labeled-check",
   "metadata": {},
   "outputs": [
    {
     "name": "stdout",
     "output_type": "stream",
     "text": [
      "3.975\n"
     ]
    }
   ],
   "source": [
    "\n",
    "print(np.mean(masha+madhan+layan+ritwick))"
   ]
  },
  {
   "cell_type": "code",
   "execution_count": null,
   "id": "worse-marshall",
   "metadata": {},
   "outputs": [],
   "source": []
  }
 ],
 "metadata": {
  "kernelspec": {
   "display_name": "Python3.8.3",
   "language": "python",
   "name": "python3.8.3"
  },
  "language_info": {
   "codemirror_mode": {
    "name": "ipython",
    "version": 3
   },
   "file_extension": ".py",
   "mimetype": "text/x-python",
   "name": "python",
   "nbconvert_exporter": "python",
   "pygments_lexer": "ipython3",
   "version": "3.8.3"
  }
 },
 "nbformat": 4,
 "nbformat_minor": 5
}
