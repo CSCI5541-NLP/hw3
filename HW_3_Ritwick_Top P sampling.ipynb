{
  "nbformat": 4,
  "nbformat_minor": 0,
  "metadata": {
    "colab": {
      "provenance": [],
      "machine_shape": "hm",
      "gpuType": "T4"
    },
    "kernelspec": {
      "name": "python3",
      "display_name": "Python 3"
    },
    "language_info": {
      "name": "python"
    },
    "accelerator": "GPU",
    "widgets": {
      "application/vnd.jupyter.widget-state+json": {
        "ff3a3482768e4ade92da5f4ba3b4587a": {
          "model_module": "@jupyter-widgets/controls",
          "model_name": "HBoxModel",
          "model_module_version": "1.5.0",
          "state": {
            "_dom_classes": [],
            "_model_module": "@jupyter-widgets/controls",
            "_model_module_version": "1.5.0",
            "_model_name": "HBoxModel",
            "_view_count": null,
            "_view_module": "@jupyter-widgets/controls",
            "_view_module_version": "1.5.0",
            "_view_name": "HBoxView",
            "box_style": "",
            "children": [
              "IPY_MODEL_3fc4476342ad47329c9bc0f384f50962",
              "IPY_MODEL_f1ca4cd2f87f4fec938cf4ee8a6d2376",
              "IPY_MODEL_7de04c046f204ccab3e5ada02dcbeab5"
            ],
            "layout": "IPY_MODEL_6294dc2788804167902434a5cc1eff0e"
          }
        },
        "3fc4476342ad47329c9bc0f384f50962": {
          "model_module": "@jupyter-widgets/controls",
          "model_name": "HTMLModel",
          "model_module_version": "1.5.0",
          "state": {
            "_dom_classes": [],
            "_model_module": "@jupyter-widgets/controls",
            "_model_module_version": "1.5.0",
            "_model_name": "HTMLModel",
            "_view_count": null,
            "_view_module": "@jupyter-widgets/controls",
            "_view_module_version": "1.5.0",
            "_view_name": "HTMLView",
            "description": "",
            "description_tooltip": null,
            "layout": "IPY_MODEL_ece34f279bca440ab9a086b84e7fd4c6",
            "placeholder": "​",
            "style": "IPY_MODEL_4b035889ee264c82ac39ad9647e428b7",
            "value": "config.json: 100%"
          }
        },
        "f1ca4cd2f87f4fec938cf4ee8a6d2376": {
          "model_module": "@jupyter-widgets/controls",
          "model_name": "FloatProgressModel",
          "model_module_version": "1.5.0",
          "state": {
            "_dom_classes": [],
            "_model_module": "@jupyter-widgets/controls",
            "_model_module_version": "1.5.0",
            "_model_name": "FloatProgressModel",
            "_view_count": null,
            "_view_module": "@jupyter-widgets/controls",
            "_view_module_version": "1.5.0",
            "_view_name": "ProgressView",
            "bar_style": "success",
            "description": "",
            "description_tooltip": null,
            "layout": "IPY_MODEL_7d15455a07a34862884b8471f742d1a1",
            "max": 1585,
            "min": 0,
            "orientation": "horizontal",
            "style": "IPY_MODEL_27962f9c27c442f78f85e2c8ae6c8245",
            "value": 1585
          }
        },
        "7de04c046f204ccab3e5ada02dcbeab5": {
          "model_module": "@jupyter-widgets/controls",
          "model_name": "HTMLModel",
          "model_module_version": "1.5.0",
          "state": {
            "_dom_classes": [],
            "_model_module": "@jupyter-widgets/controls",
            "_model_module_version": "1.5.0",
            "_model_name": "HTMLModel",
            "_view_count": null,
            "_view_module": "@jupyter-widgets/controls",
            "_view_module_version": "1.5.0",
            "_view_name": "HTMLView",
            "description": "",
            "description_tooltip": null,
            "layout": "IPY_MODEL_d9e71281afa84980b34f61f8eccb7b75",
            "placeholder": "​",
            "style": "IPY_MODEL_04170234e353475aa40506805c9269b1",
            "value": " 1.58k/1.58k [00:00&lt;00:00, 148kB/s]"
          }
        },
        "6294dc2788804167902434a5cc1eff0e": {
          "model_module": "@jupyter-widgets/base",
          "model_name": "LayoutModel",
          "model_module_version": "1.2.0",
          "state": {
            "_model_module": "@jupyter-widgets/base",
            "_model_module_version": "1.2.0",
            "_model_name": "LayoutModel",
            "_view_count": null,
            "_view_module": "@jupyter-widgets/base",
            "_view_module_version": "1.2.0",
            "_view_name": "LayoutView",
            "align_content": null,
            "align_items": null,
            "align_self": null,
            "border": null,
            "bottom": null,
            "display": null,
            "flex": null,
            "flex_flow": null,
            "grid_area": null,
            "grid_auto_columns": null,
            "grid_auto_flow": null,
            "grid_auto_rows": null,
            "grid_column": null,
            "grid_gap": null,
            "grid_row": null,
            "grid_template_areas": null,
            "grid_template_columns": null,
            "grid_template_rows": null,
            "height": null,
            "justify_content": null,
            "justify_items": null,
            "left": null,
            "margin": null,
            "max_height": null,
            "max_width": null,
            "min_height": null,
            "min_width": null,
            "object_fit": null,
            "object_position": null,
            "order": null,
            "overflow": null,
            "overflow_x": null,
            "overflow_y": null,
            "padding": null,
            "right": null,
            "top": null,
            "visibility": null,
            "width": null
          }
        },
        "ece34f279bca440ab9a086b84e7fd4c6": {
          "model_module": "@jupyter-widgets/base",
          "model_name": "LayoutModel",
          "model_module_version": "1.2.0",
          "state": {
            "_model_module": "@jupyter-widgets/base",
            "_model_module_version": "1.2.0",
            "_model_name": "LayoutModel",
            "_view_count": null,
            "_view_module": "@jupyter-widgets/base",
            "_view_module_version": "1.2.0",
            "_view_name": "LayoutView",
            "align_content": null,
            "align_items": null,
            "align_self": null,
            "border": null,
            "bottom": null,
            "display": null,
            "flex": null,
            "flex_flow": null,
            "grid_area": null,
            "grid_auto_columns": null,
            "grid_auto_flow": null,
            "grid_auto_rows": null,
            "grid_column": null,
            "grid_gap": null,
            "grid_row": null,
            "grid_template_areas": null,
            "grid_template_columns": null,
            "grid_template_rows": null,
            "height": null,
            "justify_content": null,
            "justify_items": null,
            "left": null,
            "margin": null,
            "max_height": null,
            "max_width": null,
            "min_height": null,
            "min_width": null,
            "object_fit": null,
            "object_position": null,
            "order": null,
            "overflow": null,
            "overflow_x": null,
            "overflow_y": null,
            "padding": null,
            "right": null,
            "top": null,
            "visibility": null,
            "width": null
          }
        },
        "4b035889ee264c82ac39ad9647e428b7": {
          "model_module": "@jupyter-widgets/controls",
          "model_name": "DescriptionStyleModel",
          "model_module_version": "1.5.0",
          "state": {
            "_model_module": "@jupyter-widgets/controls",
            "_model_module_version": "1.5.0",
            "_model_name": "DescriptionStyleModel",
            "_view_count": null,
            "_view_module": "@jupyter-widgets/base",
            "_view_module_version": "1.2.0",
            "_view_name": "StyleView",
            "description_width": ""
          }
        },
        "7d15455a07a34862884b8471f742d1a1": {
          "model_module": "@jupyter-widgets/base",
          "model_name": "LayoutModel",
          "model_module_version": "1.2.0",
          "state": {
            "_model_module": "@jupyter-widgets/base",
            "_model_module_version": "1.2.0",
            "_model_name": "LayoutModel",
            "_view_count": null,
            "_view_module": "@jupyter-widgets/base",
            "_view_module_version": "1.2.0",
            "_view_name": "LayoutView",
            "align_content": null,
            "align_items": null,
            "align_self": null,
            "border": null,
            "bottom": null,
            "display": null,
            "flex": null,
            "flex_flow": null,
            "grid_area": null,
            "grid_auto_columns": null,
            "grid_auto_flow": null,
            "grid_auto_rows": null,
            "grid_column": null,
            "grid_gap": null,
            "grid_row": null,
            "grid_template_areas": null,
            "grid_template_columns": null,
            "grid_template_rows": null,
            "height": null,
            "justify_content": null,
            "justify_items": null,
            "left": null,
            "margin": null,
            "max_height": null,
            "max_width": null,
            "min_height": null,
            "min_width": null,
            "object_fit": null,
            "object_position": null,
            "order": null,
            "overflow": null,
            "overflow_x": null,
            "overflow_y": null,
            "padding": null,
            "right": null,
            "top": null,
            "visibility": null,
            "width": null
          }
        },
        "27962f9c27c442f78f85e2c8ae6c8245": {
          "model_module": "@jupyter-widgets/controls",
          "model_name": "ProgressStyleModel",
          "model_module_version": "1.5.0",
          "state": {
            "_model_module": "@jupyter-widgets/controls",
            "_model_module_version": "1.5.0",
            "_model_name": "ProgressStyleModel",
            "_view_count": null,
            "_view_module": "@jupyter-widgets/base",
            "_view_module_version": "1.2.0",
            "_view_name": "StyleView",
            "bar_color": null,
            "description_width": ""
          }
        },
        "d9e71281afa84980b34f61f8eccb7b75": {
          "model_module": "@jupyter-widgets/base",
          "model_name": "LayoutModel",
          "model_module_version": "1.2.0",
          "state": {
            "_model_module": "@jupyter-widgets/base",
            "_model_module_version": "1.2.0",
            "_model_name": "LayoutModel",
            "_view_count": null,
            "_view_module": "@jupyter-widgets/base",
            "_view_module_version": "1.2.0",
            "_view_name": "LayoutView",
            "align_content": null,
            "align_items": null,
            "align_self": null,
            "border": null,
            "bottom": null,
            "display": null,
            "flex": null,
            "flex_flow": null,
            "grid_area": null,
            "grid_auto_columns": null,
            "grid_auto_flow": null,
            "grid_auto_rows": null,
            "grid_column": null,
            "grid_gap": null,
            "grid_row": null,
            "grid_template_areas": null,
            "grid_template_columns": null,
            "grid_template_rows": null,
            "height": null,
            "justify_content": null,
            "justify_items": null,
            "left": null,
            "margin": null,
            "max_height": null,
            "max_width": null,
            "min_height": null,
            "min_width": null,
            "object_fit": null,
            "object_position": null,
            "order": null,
            "overflow": null,
            "overflow_x": null,
            "overflow_y": null,
            "padding": null,
            "right": null,
            "top": null,
            "visibility": null,
            "width": null
          }
        },
        "04170234e353475aa40506805c9269b1": {
          "model_module": "@jupyter-widgets/controls",
          "model_name": "DescriptionStyleModel",
          "model_module_version": "1.5.0",
          "state": {
            "_model_module": "@jupyter-widgets/controls",
            "_model_module_version": "1.5.0",
            "_model_name": "DescriptionStyleModel",
            "_view_count": null,
            "_view_module": "@jupyter-widgets/base",
            "_view_module_version": "1.2.0",
            "_view_name": "StyleView",
            "description_width": ""
          }
        },
        "c80895e485354b6e9500c9aab32d53ca": {
          "model_module": "@jupyter-widgets/controls",
          "model_name": "HBoxModel",
          "model_module_version": "1.5.0",
          "state": {
            "_dom_classes": [],
            "_model_module": "@jupyter-widgets/controls",
            "_model_module_version": "1.5.0",
            "_model_name": "HBoxModel",
            "_view_count": null,
            "_view_module": "@jupyter-widgets/controls",
            "_view_module_version": "1.5.0",
            "_view_name": "HBoxView",
            "box_style": "",
            "children": [
              "IPY_MODEL_5fbbec62d13749f4b20bdc278bc69d0f",
              "IPY_MODEL_03edd38f2d4744fba0276f6579484a50",
              "IPY_MODEL_1e3481e576d14a42b4ff2a058bb526d1"
            ],
            "layout": "IPY_MODEL_352ebfe843e14f2299353a2effcf1983"
          }
        },
        "5fbbec62d13749f4b20bdc278bc69d0f": {
          "model_module": "@jupyter-widgets/controls",
          "model_name": "HTMLModel",
          "model_module_version": "1.5.0",
          "state": {
            "_dom_classes": [],
            "_model_module": "@jupyter-widgets/controls",
            "_model_module_version": "1.5.0",
            "_model_name": "HTMLModel",
            "_view_count": null,
            "_view_module": "@jupyter-widgets/controls",
            "_view_module_version": "1.5.0",
            "_view_name": "HTMLView",
            "description": "",
            "description_tooltip": null,
            "layout": "IPY_MODEL_cc9ba7daa8a14046b3da76c8e9d9ac8a",
            "placeholder": "​",
            "style": "IPY_MODEL_7a341f501eeb4f4096850bbc2024cea5",
            "value": "vocab.json: 100%"
          }
        },
        "03edd38f2d4744fba0276f6579484a50": {
          "model_module": "@jupyter-widgets/controls",
          "model_name": "FloatProgressModel",
          "model_module_version": "1.5.0",
          "state": {
            "_dom_classes": [],
            "_model_module": "@jupyter-widgets/controls",
            "_model_module_version": "1.5.0",
            "_model_name": "FloatProgressModel",
            "_view_count": null,
            "_view_module": "@jupyter-widgets/controls",
            "_view_module_version": "1.5.0",
            "_view_name": "ProgressView",
            "bar_style": "success",
            "description": "",
            "description_tooltip": null,
            "layout": "IPY_MODEL_c85e054dbdb54683a1d97f17c4508819",
            "max": 898823,
            "min": 0,
            "orientation": "horizontal",
            "style": "IPY_MODEL_fba3b66ac9e54cb99ca4cc4ea74d3d82",
            "value": 898823
          }
        },
        "1e3481e576d14a42b4ff2a058bb526d1": {
          "model_module": "@jupyter-widgets/controls",
          "model_name": "HTMLModel",
          "model_module_version": "1.5.0",
          "state": {
            "_dom_classes": [],
            "_model_module": "@jupyter-widgets/controls",
            "_model_module_version": "1.5.0",
            "_model_name": "HTMLModel",
            "_view_count": null,
            "_view_module": "@jupyter-widgets/controls",
            "_view_module_version": "1.5.0",
            "_view_name": "HTMLView",
            "description": "",
            "description_tooltip": null,
            "layout": "IPY_MODEL_c02f662aef9843fa9113f1c034f98633",
            "placeholder": "​",
            "style": "IPY_MODEL_7ca8a53b6c21454fb0b457a17c5c39c5",
            "value": " 899k/899k [00:00&lt;00:00, 2.32MB/s]"
          }
        },
        "352ebfe843e14f2299353a2effcf1983": {
          "model_module": "@jupyter-widgets/base",
          "model_name": "LayoutModel",
          "model_module_version": "1.2.0",
          "state": {
            "_model_module": "@jupyter-widgets/base",
            "_model_module_version": "1.2.0",
            "_model_name": "LayoutModel",
            "_view_count": null,
            "_view_module": "@jupyter-widgets/base",
            "_view_module_version": "1.2.0",
            "_view_name": "LayoutView",
            "align_content": null,
            "align_items": null,
            "align_self": null,
            "border": null,
            "bottom": null,
            "display": null,
            "flex": null,
            "flex_flow": null,
            "grid_area": null,
            "grid_auto_columns": null,
            "grid_auto_flow": null,
            "grid_auto_rows": null,
            "grid_column": null,
            "grid_gap": null,
            "grid_row": null,
            "grid_template_areas": null,
            "grid_template_columns": null,
            "grid_template_rows": null,
            "height": null,
            "justify_content": null,
            "justify_items": null,
            "left": null,
            "margin": null,
            "max_height": null,
            "max_width": null,
            "min_height": null,
            "min_width": null,
            "object_fit": null,
            "object_position": null,
            "order": null,
            "overflow": null,
            "overflow_x": null,
            "overflow_y": null,
            "padding": null,
            "right": null,
            "top": null,
            "visibility": null,
            "width": null
          }
        },
        "cc9ba7daa8a14046b3da76c8e9d9ac8a": {
          "model_module": "@jupyter-widgets/base",
          "model_name": "LayoutModel",
          "model_module_version": "1.2.0",
          "state": {
            "_model_module": "@jupyter-widgets/base",
            "_model_module_version": "1.2.0",
            "_model_name": "LayoutModel",
            "_view_count": null,
            "_view_module": "@jupyter-widgets/base",
            "_view_module_version": "1.2.0",
            "_view_name": "LayoutView",
            "align_content": null,
            "align_items": null,
            "align_self": null,
            "border": null,
            "bottom": null,
            "display": null,
            "flex": null,
            "flex_flow": null,
            "grid_area": null,
            "grid_auto_columns": null,
            "grid_auto_flow": null,
            "grid_auto_rows": null,
            "grid_column": null,
            "grid_gap": null,
            "grid_row": null,
            "grid_template_areas": null,
            "grid_template_columns": null,
            "grid_template_rows": null,
            "height": null,
            "justify_content": null,
            "justify_items": null,
            "left": null,
            "margin": null,
            "max_height": null,
            "max_width": null,
            "min_height": null,
            "min_width": null,
            "object_fit": null,
            "object_position": null,
            "order": null,
            "overflow": null,
            "overflow_x": null,
            "overflow_y": null,
            "padding": null,
            "right": null,
            "top": null,
            "visibility": null,
            "width": null
          }
        },
        "7a341f501eeb4f4096850bbc2024cea5": {
          "model_module": "@jupyter-widgets/controls",
          "model_name": "DescriptionStyleModel",
          "model_module_version": "1.5.0",
          "state": {
            "_model_module": "@jupyter-widgets/controls",
            "_model_module_version": "1.5.0",
            "_model_name": "DescriptionStyleModel",
            "_view_count": null,
            "_view_module": "@jupyter-widgets/base",
            "_view_module_version": "1.2.0",
            "_view_name": "StyleView",
            "description_width": ""
          }
        },
        "c85e054dbdb54683a1d97f17c4508819": {
          "model_module": "@jupyter-widgets/base",
          "model_name": "LayoutModel",
          "model_module_version": "1.2.0",
          "state": {
            "_model_module": "@jupyter-widgets/base",
            "_model_module_version": "1.2.0",
            "_model_name": "LayoutModel",
            "_view_count": null,
            "_view_module": "@jupyter-widgets/base",
            "_view_module_version": "1.2.0",
            "_view_name": "LayoutView",
            "align_content": null,
            "align_items": null,
            "align_self": null,
            "border": null,
            "bottom": null,
            "display": null,
            "flex": null,
            "flex_flow": null,
            "grid_area": null,
            "grid_auto_columns": null,
            "grid_auto_flow": null,
            "grid_auto_rows": null,
            "grid_column": null,
            "grid_gap": null,
            "grid_row": null,
            "grid_template_areas": null,
            "grid_template_columns": null,
            "grid_template_rows": null,
            "height": null,
            "justify_content": null,
            "justify_items": null,
            "left": null,
            "margin": null,
            "max_height": null,
            "max_width": null,
            "min_height": null,
            "min_width": null,
            "object_fit": null,
            "object_position": null,
            "order": null,
            "overflow": null,
            "overflow_x": null,
            "overflow_y": null,
            "padding": null,
            "right": null,
            "top": null,
            "visibility": null,
            "width": null
          }
        },
        "fba3b66ac9e54cb99ca4cc4ea74d3d82": {
          "model_module": "@jupyter-widgets/controls",
          "model_name": "ProgressStyleModel",
          "model_module_version": "1.5.0",
          "state": {
            "_model_module": "@jupyter-widgets/controls",
            "_model_module_version": "1.5.0",
            "_model_name": "ProgressStyleModel",
            "_view_count": null,
            "_view_module": "@jupyter-widgets/base",
            "_view_module_version": "1.2.0",
            "_view_name": "StyleView",
            "bar_color": null,
            "description_width": ""
          }
        },
        "c02f662aef9843fa9113f1c034f98633": {
          "model_module": "@jupyter-widgets/base",
          "model_name": "LayoutModel",
          "model_module_version": "1.2.0",
          "state": {
            "_model_module": "@jupyter-widgets/base",
            "_model_module_version": "1.2.0",
            "_model_name": "LayoutModel",
            "_view_count": null,
            "_view_module": "@jupyter-widgets/base",
            "_view_module_version": "1.2.0",
            "_view_name": "LayoutView",
            "align_content": null,
            "align_items": null,
            "align_self": null,
            "border": null,
            "bottom": null,
            "display": null,
            "flex": null,
            "flex_flow": null,
            "grid_area": null,
            "grid_auto_columns": null,
            "grid_auto_flow": null,
            "grid_auto_rows": null,
            "grid_column": null,
            "grid_gap": null,
            "grid_row": null,
            "grid_template_areas": null,
            "grid_template_columns": null,
            "grid_template_rows": null,
            "height": null,
            "justify_content": null,
            "justify_items": null,
            "left": null,
            "margin": null,
            "max_height": null,
            "max_width": null,
            "min_height": null,
            "min_width": null,
            "object_fit": null,
            "object_position": null,
            "order": null,
            "overflow": null,
            "overflow_x": null,
            "overflow_y": null,
            "padding": null,
            "right": null,
            "top": null,
            "visibility": null,
            "width": null
          }
        },
        "7ca8a53b6c21454fb0b457a17c5c39c5": {
          "model_module": "@jupyter-widgets/controls",
          "model_name": "DescriptionStyleModel",
          "model_module_version": "1.5.0",
          "state": {
            "_model_module": "@jupyter-widgets/controls",
            "_model_module_version": "1.5.0",
            "_model_name": "DescriptionStyleModel",
            "_view_count": null,
            "_view_module": "@jupyter-widgets/base",
            "_view_module_version": "1.2.0",
            "_view_name": "StyleView",
            "description_width": ""
          }
        },
        "1e68418178a2422fa3286c0ef500643c": {
          "model_module": "@jupyter-widgets/controls",
          "model_name": "HBoxModel",
          "model_module_version": "1.5.0",
          "state": {
            "_dom_classes": [],
            "_model_module": "@jupyter-widgets/controls",
            "_model_module_version": "1.5.0",
            "_model_name": "HBoxModel",
            "_view_count": null,
            "_view_module": "@jupyter-widgets/controls",
            "_view_module_version": "1.5.0",
            "_view_name": "HBoxView",
            "box_style": "",
            "children": [
              "IPY_MODEL_d964cebe2e8947c68e8163f7235b2076",
              "IPY_MODEL_2252ebad93f94b399b4fdc42373088c2",
              "IPY_MODEL_ca4f0710af3648e681fdb926061edc44"
            ],
            "layout": "IPY_MODEL_7d09ca81fe5b4717a7a00bc5da7c4ac0"
          }
        },
        "d964cebe2e8947c68e8163f7235b2076": {
          "model_module": "@jupyter-widgets/controls",
          "model_name": "HTMLModel",
          "model_module_version": "1.5.0",
          "state": {
            "_dom_classes": [],
            "_model_module": "@jupyter-widgets/controls",
            "_model_module_version": "1.5.0",
            "_model_name": "HTMLModel",
            "_view_count": null,
            "_view_module": "@jupyter-widgets/controls",
            "_view_module_version": "1.5.0",
            "_view_name": "HTMLView",
            "description": "",
            "description_tooltip": null,
            "layout": "IPY_MODEL_77219f748b7540c3b2bd041d5249240a",
            "placeholder": "​",
            "style": "IPY_MODEL_b765a3d955944e49b50d76acd04abea3",
            "value": "merges.txt: 100%"
          }
        },
        "2252ebad93f94b399b4fdc42373088c2": {
          "model_module": "@jupyter-widgets/controls",
          "model_name": "FloatProgressModel",
          "model_module_version": "1.5.0",
          "state": {
            "_dom_classes": [],
            "_model_module": "@jupyter-widgets/controls",
            "_model_module_version": "1.5.0",
            "_model_name": "FloatProgressModel",
            "_view_count": null,
            "_view_module": "@jupyter-widgets/controls",
            "_view_module_version": "1.5.0",
            "_view_name": "ProgressView",
            "bar_style": "success",
            "description": "",
            "description_tooltip": null,
            "layout": "IPY_MODEL_9a83a41db92b4623935aaafa0cef6f1f",
            "max": 456318,
            "min": 0,
            "orientation": "horizontal",
            "style": "IPY_MODEL_257a25c34d4e402ca2519c556371a89a",
            "value": 456318
          }
        },
        "ca4f0710af3648e681fdb926061edc44": {
          "model_module": "@jupyter-widgets/controls",
          "model_name": "HTMLModel",
          "model_module_version": "1.5.0",
          "state": {
            "_dom_classes": [],
            "_model_module": "@jupyter-widgets/controls",
            "_model_module_version": "1.5.0",
            "_model_name": "HTMLModel",
            "_view_count": null,
            "_view_module": "@jupyter-widgets/controls",
            "_view_module_version": "1.5.0",
            "_view_name": "HTMLView",
            "description": "",
            "description_tooltip": null,
            "layout": "IPY_MODEL_3b68ee3a7acf4a4b9d3ca526aa1ac045",
            "placeholder": "​",
            "style": "IPY_MODEL_afcc923199f947748b30dc5ce233b3ae",
            "value": " 456k/456k [00:00&lt;00:00, 1.57MB/s]"
          }
        },
        "7d09ca81fe5b4717a7a00bc5da7c4ac0": {
          "model_module": "@jupyter-widgets/base",
          "model_name": "LayoutModel",
          "model_module_version": "1.2.0",
          "state": {
            "_model_module": "@jupyter-widgets/base",
            "_model_module_version": "1.2.0",
            "_model_name": "LayoutModel",
            "_view_count": null,
            "_view_module": "@jupyter-widgets/base",
            "_view_module_version": "1.2.0",
            "_view_name": "LayoutView",
            "align_content": null,
            "align_items": null,
            "align_self": null,
            "border": null,
            "bottom": null,
            "display": null,
            "flex": null,
            "flex_flow": null,
            "grid_area": null,
            "grid_auto_columns": null,
            "grid_auto_flow": null,
            "grid_auto_rows": null,
            "grid_column": null,
            "grid_gap": null,
            "grid_row": null,
            "grid_template_areas": null,
            "grid_template_columns": null,
            "grid_template_rows": null,
            "height": null,
            "justify_content": null,
            "justify_items": null,
            "left": null,
            "margin": null,
            "max_height": null,
            "max_width": null,
            "min_height": null,
            "min_width": null,
            "object_fit": null,
            "object_position": null,
            "order": null,
            "overflow": null,
            "overflow_x": null,
            "overflow_y": null,
            "padding": null,
            "right": null,
            "top": null,
            "visibility": null,
            "width": null
          }
        },
        "77219f748b7540c3b2bd041d5249240a": {
          "model_module": "@jupyter-widgets/base",
          "model_name": "LayoutModel",
          "model_module_version": "1.2.0",
          "state": {
            "_model_module": "@jupyter-widgets/base",
            "_model_module_version": "1.2.0",
            "_model_name": "LayoutModel",
            "_view_count": null,
            "_view_module": "@jupyter-widgets/base",
            "_view_module_version": "1.2.0",
            "_view_name": "LayoutView",
            "align_content": null,
            "align_items": null,
            "align_self": null,
            "border": null,
            "bottom": null,
            "display": null,
            "flex": null,
            "flex_flow": null,
            "grid_area": null,
            "grid_auto_columns": null,
            "grid_auto_flow": null,
            "grid_auto_rows": null,
            "grid_column": null,
            "grid_gap": null,
            "grid_row": null,
            "grid_template_areas": null,
            "grid_template_columns": null,
            "grid_template_rows": null,
            "height": null,
            "justify_content": null,
            "justify_items": null,
            "left": null,
            "margin": null,
            "max_height": null,
            "max_width": null,
            "min_height": null,
            "min_width": null,
            "object_fit": null,
            "object_position": null,
            "order": null,
            "overflow": null,
            "overflow_x": null,
            "overflow_y": null,
            "padding": null,
            "right": null,
            "top": null,
            "visibility": null,
            "width": null
          }
        },
        "b765a3d955944e49b50d76acd04abea3": {
          "model_module": "@jupyter-widgets/controls",
          "model_name": "DescriptionStyleModel",
          "model_module_version": "1.5.0",
          "state": {
            "_model_module": "@jupyter-widgets/controls",
            "_model_module_version": "1.5.0",
            "_model_name": "DescriptionStyleModel",
            "_view_count": null,
            "_view_module": "@jupyter-widgets/base",
            "_view_module_version": "1.2.0",
            "_view_name": "StyleView",
            "description_width": ""
          }
        },
        "9a83a41db92b4623935aaafa0cef6f1f": {
          "model_module": "@jupyter-widgets/base",
          "model_name": "LayoutModel",
          "model_module_version": "1.2.0",
          "state": {
            "_model_module": "@jupyter-widgets/base",
            "_model_module_version": "1.2.0",
            "_model_name": "LayoutModel",
            "_view_count": null,
            "_view_module": "@jupyter-widgets/base",
            "_view_module_version": "1.2.0",
            "_view_name": "LayoutView",
            "align_content": null,
            "align_items": null,
            "align_self": null,
            "border": null,
            "bottom": null,
            "display": null,
            "flex": null,
            "flex_flow": null,
            "grid_area": null,
            "grid_auto_columns": null,
            "grid_auto_flow": null,
            "grid_auto_rows": null,
            "grid_column": null,
            "grid_gap": null,
            "grid_row": null,
            "grid_template_areas": null,
            "grid_template_columns": null,
            "grid_template_rows": null,
            "height": null,
            "justify_content": null,
            "justify_items": null,
            "left": null,
            "margin": null,
            "max_height": null,
            "max_width": null,
            "min_height": null,
            "min_width": null,
            "object_fit": null,
            "object_position": null,
            "order": null,
            "overflow": null,
            "overflow_x": null,
            "overflow_y": null,
            "padding": null,
            "right": null,
            "top": null,
            "visibility": null,
            "width": null
          }
        },
        "257a25c34d4e402ca2519c556371a89a": {
          "model_module": "@jupyter-widgets/controls",
          "model_name": "ProgressStyleModel",
          "model_module_version": "1.5.0",
          "state": {
            "_model_module": "@jupyter-widgets/controls",
            "_model_module_version": "1.5.0",
            "_model_name": "ProgressStyleModel",
            "_view_count": null,
            "_view_module": "@jupyter-widgets/base",
            "_view_module_version": "1.2.0",
            "_view_name": "StyleView",
            "bar_color": null,
            "description_width": ""
          }
        },
        "3b68ee3a7acf4a4b9d3ca526aa1ac045": {
          "model_module": "@jupyter-widgets/base",
          "model_name": "LayoutModel",
          "model_module_version": "1.2.0",
          "state": {
            "_model_module": "@jupyter-widgets/base",
            "_model_module_version": "1.2.0",
            "_model_name": "LayoutModel",
            "_view_count": null,
            "_view_module": "@jupyter-widgets/base",
            "_view_module_version": "1.2.0",
            "_view_name": "LayoutView",
            "align_content": null,
            "align_items": null,
            "align_self": null,
            "border": null,
            "bottom": null,
            "display": null,
            "flex": null,
            "flex_flow": null,
            "grid_area": null,
            "grid_auto_columns": null,
            "grid_auto_flow": null,
            "grid_auto_rows": null,
            "grid_column": null,
            "grid_gap": null,
            "grid_row": null,
            "grid_template_areas": null,
            "grid_template_columns": null,
            "grid_template_rows": null,
            "height": null,
            "justify_content": null,
            "justify_items": null,
            "left": null,
            "margin": null,
            "max_height": null,
            "max_width": null,
            "min_height": null,
            "min_width": null,
            "object_fit": null,
            "object_position": null,
            "order": null,
            "overflow": null,
            "overflow_x": null,
            "overflow_y": null,
            "padding": null,
            "right": null,
            "top": null,
            "visibility": null,
            "width": null
          }
        },
        "afcc923199f947748b30dc5ce233b3ae": {
          "model_module": "@jupyter-widgets/controls",
          "model_name": "DescriptionStyleModel",
          "model_module_version": "1.5.0",
          "state": {
            "_model_module": "@jupyter-widgets/controls",
            "_model_module_version": "1.5.0",
            "_model_name": "DescriptionStyleModel",
            "_view_count": null,
            "_view_module": "@jupyter-widgets/base",
            "_view_module_version": "1.2.0",
            "_view_name": "StyleView",
            "description_width": ""
          }
        },
        "083572939ba149188a5c29f44999ec8f": {
          "model_module": "@jupyter-widgets/controls",
          "model_name": "HBoxModel",
          "model_module_version": "1.5.0",
          "state": {
            "_dom_classes": [],
            "_model_module": "@jupyter-widgets/controls",
            "_model_module_version": "1.5.0",
            "_model_name": "HBoxModel",
            "_view_count": null,
            "_view_module": "@jupyter-widgets/controls",
            "_view_module_version": "1.5.0",
            "_view_name": "HBoxView",
            "box_style": "",
            "children": [
              "IPY_MODEL_cb3ac09a26494c13b0e4f22336910cfd",
              "IPY_MODEL_df7314a0d16143e5921e5799ab703117",
              "IPY_MODEL_8e6f6ec809c340a69cd168a00d256a6d"
            ],
            "layout": "IPY_MODEL_7fc9c0c3d60e4a3c9c434b572d0724ab"
          }
        },
        "cb3ac09a26494c13b0e4f22336910cfd": {
          "model_module": "@jupyter-widgets/controls",
          "model_name": "HTMLModel",
          "model_module_version": "1.5.0",
          "state": {
            "_dom_classes": [],
            "_model_module": "@jupyter-widgets/controls",
            "_model_module_version": "1.5.0",
            "_model_name": "HTMLModel",
            "_view_count": null,
            "_view_module": "@jupyter-widgets/controls",
            "_view_module_version": "1.5.0",
            "_view_name": "HTMLView",
            "description": "",
            "description_tooltip": null,
            "layout": "IPY_MODEL_a4d4fb4223dc400fa55e9406ad0bb7b7",
            "placeholder": "​",
            "style": "IPY_MODEL_a04fc6a26941455fb92205b5c0ee39c4",
            "value": "tokenizer.json: 100%"
          }
        },
        "df7314a0d16143e5921e5799ab703117": {
          "model_module": "@jupyter-widgets/controls",
          "model_name": "FloatProgressModel",
          "model_module_version": "1.5.0",
          "state": {
            "_dom_classes": [],
            "_model_module": "@jupyter-widgets/controls",
            "_model_module_version": "1.5.0",
            "_model_name": "FloatProgressModel",
            "_view_count": null,
            "_view_module": "@jupyter-widgets/controls",
            "_view_module_version": "1.5.0",
            "_view_name": "ProgressView",
            "bar_style": "success",
            "description": "",
            "description_tooltip": null,
            "layout": "IPY_MODEL_a9e25b12c61043909d69b0da7cf28cd8",
            "max": 1355863,
            "min": 0,
            "orientation": "horizontal",
            "style": "IPY_MODEL_6875962f69dc406a9ffb91d28ad58a9e",
            "value": 1355863
          }
        },
        "8e6f6ec809c340a69cd168a00d256a6d": {
          "model_module": "@jupyter-widgets/controls",
          "model_name": "HTMLModel",
          "model_module_version": "1.5.0",
          "state": {
            "_dom_classes": [],
            "_model_module": "@jupyter-widgets/controls",
            "_model_module_version": "1.5.0",
            "_model_name": "HTMLModel",
            "_view_count": null,
            "_view_module": "@jupyter-widgets/controls",
            "_view_module_version": "1.5.0",
            "_view_name": "HTMLView",
            "description": "",
            "description_tooltip": null,
            "layout": "IPY_MODEL_6c5d1d56a267484ab0fdd4a0142e9505",
            "placeholder": "​",
            "style": "IPY_MODEL_86393c602ebd4c59a457d84709ac5807",
            "value": " 1.36M/1.36M [00:00&lt;00:00, 2.80MB/s]"
          }
        },
        "7fc9c0c3d60e4a3c9c434b572d0724ab": {
          "model_module": "@jupyter-widgets/base",
          "model_name": "LayoutModel",
          "model_module_version": "1.2.0",
          "state": {
            "_model_module": "@jupyter-widgets/base",
            "_model_module_version": "1.2.0",
            "_model_name": "LayoutModel",
            "_view_count": null,
            "_view_module": "@jupyter-widgets/base",
            "_view_module_version": "1.2.0",
            "_view_name": "LayoutView",
            "align_content": null,
            "align_items": null,
            "align_self": null,
            "border": null,
            "bottom": null,
            "display": null,
            "flex": null,
            "flex_flow": null,
            "grid_area": null,
            "grid_auto_columns": null,
            "grid_auto_flow": null,
            "grid_auto_rows": null,
            "grid_column": null,
            "grid_gap": null,
            "grid_row": null,
            "grid_template_areas": null,
            "grid_template_columns": null,
            "grid_template_rows": null,
            "height": null,
            "justify_content": null,
            "justify_items": null,
            "left": null,
            "margin": null,
            "max_height": null,
            "max_width": null,
            "min_height": null,
            "min_width": null,
            "object_fit": null,
            "object_position": null,
            "order": null,
            "overflow": null,
            "overflow_x": null,
            "overflow_y": null,
            "padding": null,
            "right": null,
            "top": null,
            "visibility": null,
            "width": null
          }
        },
        "a4d4fb4223dc400fa55e9406ad0bb7b7": {
          "model_module": "@jupyter-widgets/base",
          "model_name": "LayoutModel",
          "model_module_version": "1.2.0",
          "state": {
            "_model_module": "@jupyter-widgets/base",
            "_model_module_version": "1.2.0",
            "_model_name": "LayoutModel",
            "_view_count": null,
            "_view_module": "@jupyter-widgets/base",
            "_view_module_version": "1.2.0",
            "_view_name": "LayoutView",
            "align_content": null,
            "align_items": null,
            "align_self": null,
            "border": null,
            "bottom": null,
            "display": null,
            "flex": null,
            "flex_flow": null,
            "grid_area": null,
            "grid_auto_columns": null,
            "grid_auto_flow": null,
            "grid_auto_rows": null,
            "grid_column": null,
            "grid_gap": null,
            "grid_row": null,
            "grid_template_areas": null,
            "grid_template_columns": null,
            "grid_template_rows": null,
            "height": null,
            "justify_content": null,
            "justify_items": null,
            "left": null,
            "margin": null,
            "max_height": null,
            "max_width": null,
            "min_height": null,
            "min_width": null,
            "object_fit": null,
            "object_position": null,
            "order": null,
            "overflow": null,
            "overflow_x": null,
            "overflow_y": null,
            "padding": null,
            "right": null,
            "top": null,
            "visibility": null,
            "width": null
          }
        },
        "a04fc6a26941455fb92205b5c0ee39c4": {
          "model_module": "@jupyter-widgets/controls",
          "model_name": "DescriptionStyleModel",
          "model_module_version": "1.5.0",
          "state": {
            "_model_module": "@jupyter-widgets/controls",
            "_model_module_version": "1.5.0",
            "_model_name": "DescriptionStyleModel",
            "_view_count": null,
            "_view_module": "@jupyter-widgets/base",
            "_view_module_version": "1.2.0",
            "_view_name": "StyleView",
            "description_width": ""
          }
        },
        "a9e25b12c61043909d69b0da7cf28cd8": {
          "model_module": "@jupyter-widgets/base",
          "model_name": "LayoutModel",
          "model_module_version": "1.2.0",
          "state": {
            "_model_module": "@jupyter-widgets/base",
            "_model_module_version": "1.2.0",
            "_model_name": "LayoutModel",
            "_view_count": null,
            "_view_module": "@jupyter-widgets/base",
            "_view_module_version": "1.2.0",
            "_view_name": "LayoutView",
            "align_content": null,
            "align_items": null,
            "align_self": null,
            "border": null,
            "bottom": null,
            "display": null,
            "flex": null,
            "flex_flow": null,
            "grid_area": null,
            "grid_auto_columns": null,
            "grid_auto_flow": null,
            "grid_auto_rows": null,
            "grid_column": null,
            "grid_gap": null,
            "grid_row": null,
            "grid_template_areas": null,
            "grid_template_columns": null,
            "grid_template_rows": null,
            "height": null,
            "justify_content": null,
            "justify_items": null,
            "left": null,
            "margin": null,
            "max_height": null,
            "max_width": null,
            "min_height": null,
            "min_width": null,
            "object_fit": null,
            "object_position": null,
            "order": null,
            "overflow": null,
            "overflow_x": null,
            "overflow_y": null,
            "padding": null,
            "right": null,
            "top": null,
            "visibility": null,
            "width": null
          }
        },
        "6875962f69dc406a9ffb91d28ad58a9e": {
          "model_module": "@jupyter-widgets/controls",
          "model_name": "ProgressStyleModel",
          "model_module_version": "1.5.0",
          "state": {
            "_model_module": "@jupyter-widgets/controls",
            "_model_module_version": "1.5.0",
            "_model_name": "ProgressStyleModel",
            "_view_count": null,
            "_view_module": "@jupyter-widgets/base",
            "_view_module_version": "1.2.0",
            "_view_name": "StyleView",
            "bar_color": null,
            "description_width": ""
          }
        },
        "6c5d1d56a267484ab0fdd4a0142e9505": {
          "model_module": "@jupyter-widgets/base",
          "model_name": "LayoutModel",
          "model_module_version": "1.2.0",
          "state": {
            "_model_module": "@jupyter-widgets/base",
            "_model_module_version": "1.2.0",
            "_model_name": "LayoutModel",
            "_view_count": null,
            "_view_module": "@jupyter-widgets/base",
            "_view_module_version": "1.2.0",
            "_view_name": "LayoutView",
            "align_content": null,
            "align_items": null,
            "align_self": null,
            "border": null,
            "bottom": null,
            "display": null,
            "flex": null,
            "flex_flow": null,
            "grid_area": null,
            "grid_auto_columns": null,
            "grid_auto_flow": null,
            "grid_auto_rows": null,
            "grid_column": null,
            "grid_gap": null,
            "grid_row": null,
            "grid_template_areas": null,
            "grid_template_columns": null,
            "grid_template_rows": null,
            "height": null,
            "justify_content": null,
            "justify_items": null,
            "left": null,
            "margin": null,
            "max_height": null,
            "max_width": null,
            "min_height": null,
            "min_width": null,
            "object_fit": null,
            "object_position": null,
            "order": null,
            "overflow": null,
            "overflow_x": null,
            "overflow_y": null,
            "padding": null,
            "right": null,
            "top": null,
            "visibility": null,
            "width": null
          }
        },
        "86393c602ebd4c59a457d84709ac5807": {
          "model_module": "@jupyter-widgets/controls",
          "model_name": "DescriptionStyleModel",
          "model_module_version": "1.5.0",
          "state": {
            "_model_module": "@jupyter-widgets/controls",
            "_model_module_version": "1.5.0",
            "_model_name": "DescriptionStyleModel",
            "_view_count": null,
            "_view_module": "@jupyter-widgets/base",
            "_view_module_version": "1.2.0",
            "_view_name": "StyleView",
            "description_width": ""
          }
        },
        "fed8d3166cef413dad288d2a749cd24c": {
          "model_module": "@jupyter-widgets/controls",
          "model_name": "HBoxModel",
          "model_module_version": "1.5.0",
          "state": {
            "_dom_classes": [],
            "_model_module": "@jupyter-widgets/controls",
            "_model_module_version": "1.5.0",
            "_model_name": "HBoxModel",
            "_view_count": null,
            "_view_module": "@jupyter-widgets/controls",
            "_view_module_version": "1.5.0",
            "_view_name": "HBoxView",
            "box_style": "",
            "children": [
              "IPY_MODEL_8cf0b1564740475aa22a79e8600aefc8",
              "IPY_MODEL_5afda4cb0f554b008c4fc7fa9c257bcb",
              "IPY_MODEL_b9019587e5d84cfba281cee1bb6ba0e8"
            ],
            "layout": "IPY_MODEL_5ede3db9d1fd49cdbd9b399ab17064c0"
          }
        },
        "8cf0b1564740475aa22a79e8600aefc8": {
          "model_module": "@jupyter-widgets/controls",
          "model_name": "HTMLModel",
          "model_module_version": "1.5.0",
          "state": {
            "_dom_classes": [],
            "_model_module": "@jupyter-widgets/controls",
            "_model_module_version": "1.5.0",
            "_model_name": "HTMLModel",
            "_view_count": null,
            "_view_module": "@jupyter-widgets/controls",
            "_view_module_version": "1.5.0",
            "_view_name": "HTMLView",
            "description": "",
            "description_tooltip": null,
            "layout": "IPY_MODEL_fba74b6b7a7c487ab421f2df10723aee",
            "placeholder": "​",
            "style": "IPY_MODEL_2032416813194992bdce73f5fed79667",
            "value": "model.safetensors: 100%"
          }
        },
        "5afda4cb0f554b008c4fc7fa9c257bcb": {
          "model_module": "@jupyter-widgets/controls",
          "model_name": "FloatProgressModel",
          "model_module_version": "1.5.0",
          "state": {
            "_dom_classes": [],
            "_model_module": "@jupyter-widgets/controls",
            "_model_module_version": "1.5.0",
            "_model_name": "FloatProgressModel",
            "_view_count": null,
            "_view_module": "@jupyter-widgets/controls",
            "_view_module_version": "1.5.0",
            "_view_name": "ProgressView",
            "bar_style": "success",
            "description": "",
            "description_tooltip": null,
            "layout": "IPY_MODEL_b84f3f28213a4c7c823876bb17922ffb",
            "max": 1625222120,
            "min": 0,
            "orientation": "horizontal",
            "style": "IPY_MODEL_d51240a40f0e4b5180970afea2e5cc76",
            "value": 1625222120
          }
        },
        "b9019587e5d84cfba281cee1bb6ba0e8": {
          "model_module": "@jupyter-widgets/controls",
          "model_name": "HTMLModel",
          "model_module_version": "1.5.0",
          "state": {
            "_dom_classes": [],
            "_model_module": "@jupyter-widgets/controls",
            "_model_module_version": "1.5.0",
            "_model_name": "HTMLModel",
            "_view_count": null,
            "_view_module": "@jupyter-widgets/controls",
            "_view_module_version": "1.5.0",
            "_view_name": "HTMLView",
            "description": "",
            "description_tooltip": null,
            "layout": "IPY_MODEL_a39021ff7e2849a6835d53eb72a955e9",
            "placeholder": "​",
            "style": "IPY_MODEL_b1d26fdc803949e193ee0f9bdc853655",
            "value": " 1.63G/1.63G [00:04&lt;00:00, 328MB/s]"
          }
        },
        "5ede3db9d1fd49cdbd9b399ab17064c0": {
          "model_module": "@jupyter-widgets/base",
          "model_name": "LayoutModel",
          "model_module_version": "1.2.0",
          "state": {
            "_model_module": "@jupyter-widgets/base",
            "_model_module_version": "1.2.0",
            "_model_name": "LayoutModel",
            "_view_count": null,
            "_view_module": "@jupyter-widgets/base",
            "_view_module_version": "1.2.0",
            "_view_name": "LayoutView",
            "align_content": null,
            "align_items": null,
            "align_self": null,
            "border": null,
            "bottom": null,
            "display": null,
            "flex": null,
            "flex_flow": null,
            "grid_area": null,
            "grid_auto_columns": null,
            "grid_auto_flow": null,
            "grid_auto_rows": null,
            "grid_column": null,
            "grid_gap": null,
            "grid_row": null,
            "grid_template_areas": null,
            "grid_template_columns": null,
            "grid_template_rows": null,
            "height": null,
            "justify_content": null,
            "justify_items": null,
            "left": null,
            "margin": null,
            "max_height": null,
            "max_width": null,
            "min_height": null,
            "min_width": null,
            "object_fit": null,
            "object_position": null,
            "order": null,
            "overflow": null,
            "overflow_x": null,
            "overflow_y": null,
            "padding": null,
            "right": null,
            "top": null,
            "visibility": null,
            "width": null
          }
        },
        "fba74b6b7a7c487ab421f2df10723aee": {
          "model_module": "@jupyter-widgets/base",
          "model_name": "LayoutModel",
          "model_module_version": "1.2.0",
          "state": {
            "_model_module": "@jupyter-widgets/base",
            "_model_module_version": "1.2.0",
            "_model_name": "LayoutModel",
            "_view_count": null,
            "_view_module": "@jupyter-widgets/base",
            "_view_module_version": "1.2.0",
            "_view_name": "LayoutView",
            "align_content": null,
            "align_items": null,
            "align_self": null,
            "border": null,
            "bottom": null,
            "display": null,
            "flex": null,
            "flex_flow": null,
            "grid_area": null,
            "grid_auto_columns": null,
            "grid_auto_flow": null,
            "grid_auto_rows": null,
            "grid_column": null,
            "grid_gap": null,
            "grid_row": null,
            "grid_template_areas": null,
            "grid_template_columns": null,
            "grid_template_rows": null,
            "height": null,
            "justify_content": null,
            "justify_items": null,
            "left": null,
            "margin": null,
            "max_height": null,
            "max_width": null,
            "min_height": null,
            "min_width": null,
            "object_fit": null,
            "object_position": null,
            "order": null,
            "overflow": null,
            "overflow_x": null,
            "overflow_y": null,
            "padding": null,
            "right": null,
            "top": null,
            "visibility": null,
            "width": null
          }
        },
        "2032416813194992bdce73f5fed79667": {
          "model_module": "@jupyter-widgets/controls",
          "model_name": "DescriptionStyleModel",
          "model_module_version": "1.5.0",
          "state": {
            "_model_module": "@jupyter-widgets/controls",
            "_model_module_version": "1.5.0",
            "_model_name": "DescriptionStyleModel",
            "_view_count": null,
            "_view_module": "@jupyter-widgets/base",
            "_view_module_version": "1.2.0",
            "_view_name": "StyleView",
            "description_width": ""
          }
        },
        "b84f3f28213a4c7c823876bb17922ffb": {
          "model_module": "@jupyter-widgets/base",
          "model_name": "LayoutModel",
          "model_module_version": "1.2.0",
          "state": {
            "_model_module": "@jupyter-widgets/base",
            "_model_module_version": "1.2.0",
            "_model_name": "LayoutModel",
            "_view_count": null,
            "_view_module": "@jupyter-widgets/base",
            "_view_module_version": "1.2.0",
            "_view_name": "LayoutView",
            "align_content": null,
            "align_items": null,
            "align_self": null,
            "border": null,
            "bottom": null,
            "display": null,
            "flex": null,
            "flex_flow": null,
            "grid_area": null,
            "grid_auto_columns": null,
            "grid_auto_flow": null,
            "grid_auto_rows": null,
            "grid_column": null,
            "grid_gap": null,
            "grid_row": null,
            "grid_template_areas": null,
            "grid_template_columns": null,
            "grid_template_rows": null,
            "height": null,
            "justify_content": null,
            "justify_items": null,
            "left": null,
            "margin": null,
            "max_height": null,
            "max_width": null,
            "min_height": null,
            "min_width": null,
            "object_fit": null,
            "object_position": null,
            "order": null,
            "overflow": null,
            "overflow_x": null,
            "overflow_y": null,
            "padding": null,
            "right": null,
            "top": null,
            "visibility": null,
            "width": null
          }
        },
        "d51240a40f0e4b5180970afea2e5cc76": {
          "model_module": "@jupyter-widgets/controls",
          "model_name": "ProgressStyleModel",
          "model_module_version": "1.5.0",
          "state": {
            "_model_module": "@jupyter-widgets/controls",
            "_model_module_version": "1.5.0",
            "_model_name": "ProgressStyleModel",
            "_view_count": null,
            "_view_module": "@jupyter-widgets/base",
            "_view_module_version": "1.2.0",
            "_view_name": "StyleView",
            "bar_color": null,
            "description_width": ""
          }
        },
        "a39021ff7e2849a6835d53eb72a955e9": {
          "model_module": "@jupyter-widgets/base",
          "model_name": "LayoutModel",
          "model_module_version": "1.2.0",
          "state": {
            "_model_module": "@jupyter-widgets/base",
            "_model_module_version": "1.2.0",
            "_model_name": "LayoutModel",
            "_view_count": null,
            "_view_module": "@jupyter-widgets/base",
            "_view_module_version": "1.2.0",
            "_view_name": "LayoutView",
            "align_content": null,
            "align_items": null,
            "align_self": null,
            "border": null,
            "bottom": null,
            "display": null,
            "flex": null,
            "flex_flow": null,
            "grid_area": null,
            "grid_auto_columns": null,
            "grid_auto_flow": null,
            "grid_auto_rows": null,
            "grid_column": null,
            "grid_gap": null,
            "grid_row": null,
            "grid_template_areas": null,
            "grid_template_columns": null,
            "grid_template_rows": null,
            "height": null,
            "justify_content": null,
            "justify_items": null,
            "left": null,
            "margin": null,
            "max_height": null,
            "max_width": null,
            "min_height": null,
            "min_width": null,
            "object_fit": null,
            "object_position": null,
            "order": null,
            "overflow": null,
            "overflow_x": null,
            "overflow_y": null,
            "padding": null,
            "right": null,
            "top": null,
            "visibility": null,
            "width": null
          }
        },
        "b1d26fdc803949e193ee0f9bdc853655": {
          "model_module": "@jupyter-widgets/controls",
          "model_name": "DescriptionStyleModel",
          "model_module_version": "1.5.0",
          "state": {
            "_model_module": "@jupyter-widgets/controls",
            "_model_module_version": "1.5.0",
            "_model_name": "DescriptionStyleModel",
            "_view_count": null,
            "_view_module": "@jupyter-widgets/base",
            "_view_module_version": "1.2.0",
            "_view_name": "StyleView",
            "description_width": ""
          }
        },
        "0fd01f2be0d34ffab8a88f4e4ea54959": {
          "model_module": "@jupyter-widgets/controls",
          "model_name": "HBoxModel",
          "model_module_version": "1.5.0",
          "state": {
            "_dom_classes": [],
            "_model_module": "@jupyter-widgets/controls",
            "_model_module_version": "1.5.0",
            "_model_name": "HBoxModel",
            "_view_count": null,
            "_view_module": "@jupyter-widgets/controls",
            "_view_module_version": "1.5.0",
            "_view_name": "HBoxView",
            "box_style": "",
            "children": [
              "IPY_MODEL_6fef4b3992da4e9ba2989df13d222a68",
              "IPY_MODEL_1021740f1d8a4113b94c3334d649a87b",
              "IPY_MODEL_4ebd3127a8b5437c85f60996ecaddd24"
            ],
            "layout": "IPY_MODEL_eadeb872c8fe41548eb53cdf1abe6418"
          }
        },
        "6fef4b3992da4e9ba2989df13d222a68": {
          "model_module": "@jupyter-widgets/controls",
          "model_name": "HTMLModel",
          "model_module_version": "1.5.0",
          "state": {
            "_dom_classes": [],
            "_model_module": "@jupyter-widgets/controls",
            "_model_module_version": "1.5.0",
            "_model_name": "HTMLModel",
            "_view_count": null,
            "_view_module": "@jupyter-widgets/controls",
            "_view_module_version": "1.5.0",
            "_view_name": "HTMLView",
            "description": "",
            "description_tooltip": null,
            "layout": "IPY_MODEL_7a1b3215bd06476eb311b97042d949cb",
            "placeholder": "​",
            "style": "IPY_MODEL_496d9297bb524e3a980707bb26fd6fdb",
            "value": "generation_config.json: 100%"
          }
        },
        "1021740f1d8a4113b94c3334d649a87b": {
          "model_module": "@jupyter-widgets/controls",
          "model_name": "FloatProgressModel",
          "model_module_version": "1.5.0",
          "state": {
            "_dom_classes": [],
            "_model_module": "@jupyter-widgets/controls",
            "_model_module_version": "1.5.0",
            "_model_name": "FloatProgressModel",
            "_view_count": null,
            "_view_module": "@jupyter-widgets/controls",
            "_view_module_version": "1.5.0",
            "_view_name": "ProgressView",
            "bar_style": "success",
            "description": "",
            "description_tooltip": null,
            "layout": "IPY_MODEL_1fb205518b454b4a953e918b6f6c7655",
            "max": 363,
            "min": 0,
            "orientation": "horizontal",
            "style": "IPY_MODEL_94e3a5b3af064e0d86ff82a5ad8dd78c",
            "value": 363
          }
        },
        "4ebd3127a8b5437c85f60996ecaddd24": {
          "model_module": "@jupyter-widgets/controls",
          "model_name": "HTMLModel",
          "model_module_version": "1.5.0",
          "state": {
            "_dom_classes": [],
            "_model_module": "@jupyter-widgets/controls",
            "_model_module_version": "1.5.0",
            "_model_name": "HTMLModel",
            "_view_count": null,
            "_view_module": "@jupyter-widgets/controls",
            "_view_module_version": "1.5.0",
            "_view_name": "HTMLView",
            "description": "",
            "description_tooltip": null,
            "layout": "IPY_MODEL_7b20c6b6366a42baa437c49c896d28d8",
            "placeholder": "​",
            "style": "IPY_MODEL_9a23129d797c49cfa186984521727521",
            "value": " 363/363 [00:00&lt;00:00, 30.0kB/s]"
          }
        },
        "eadeb872c8fe41548eb53cdf1abe6418": {
          "model_module": "@jupyter-widgets/base",
          "model_name": "LayoutModel",
          "model_module_version": "1.2.0",
          "state": {
            "_model_module": "@jupyter-widgets/base",
            "_model_module_version": "1.2.0",
            "_model_name": "LayoutModel",
            "_view_count": null,
            "_view_module": "@jupyter-widgets/base",
            "_view_module_version": "1.2.0",
            "_view_name": "LayoutView",
            "align_content": null,
            "align_items": null,
            "align_self": null,
            "border": null,
            "bottom": null,
            "display": null,
            "flex": null,
            "flex_flow": null,
            "grid_area": null,
            "grid_auto_columns": null,
            "grid_auto_flow": null,
            "grid_auto_rows": null,
            "grid_column": null,
            "grid_gap": null,
            "grid_row": null,
            "grid_template_areas": null,
            "grid_template_columns": null,
            "grid_template_rows": null,
            "height": null,
            "justify_content": null,
            "justify_items": null,
            "left": null,
            "margin": null,
            "max_height": null,
            "max_width": null,
            "min_height": null,
            "min_width": null,
            "object_fit": null,
            "object_position": null,
            "order": null,
            "overflow": null,
            "overflow_x": null,
            "overflow_y": null,
            "padding": null,
            "right": null,
            "top": null,
            "visibility": null,
            "width": null
          }
        },
        "7a1b3215bd06476eb311b97042d949cb": {
          "model_module": "@jupyter-widgets/base",
          "model_name": "LayoutModel",
          "model_module_version": "1.2.0",
          "state": {
            "_model_module": "@jupyter-widgets/base",
            "_model_module_version": "1.2.0",
            "_model_name": "LayoutModel",
            "_view_count": null,
            "_view_module": "@jupyter-widgets/base",
            "_view_module_version": "1.2.0",
            "_view_name": "LayoutView",
            "align_content": null,
            "align_items": null,
            "align_self": null,
            "border": null,
            "bottom": null,
            "display": null,
            "flex": null,
            "flex_flow": null,
            "grid_area": null,
            "grid_auto_columns": null,
            "grid_auto_flow": null,
            "grid_auto_rows": null,
            "grid_column": null,
            "grid_gap": null,
            "grid_row": null,
            "grid_template_areas": null,
            "grid_template_columns": null,
            "grid_template_rows": null,
            "height": null,
            "justify_content": null,
            "justify_items": null,
            "left": null,
            "margin": null,
            "max_height": null,
            "max_width": null,
            "min_height": null,
            "min_width": null,
            "object_fit": null,
            "object_position": null,
            "order": null,
            "overflow": null,
            "overflow_x": null,
            "overflow_y": null,
            "padding": null,
            "right": null,
            "top": null,
            "visibility": null,
            "width": null
          }
        },
        "496d9297bb524e3a980707bb26fd6fdb": {
          "model_module": "@jupyter-widgets/controls",
          "model_name": "DescriptionStyleModel",
          "model_module_version": "1.5.0",
          "state": {
            "_model_module": "@jupyter-widgets/controls",
            "_model_module_version": "1.5.0",
            "_model_name": "DescriptionStyleModel",
            "_view_count": null,
            "_view_module": "@jupyter-widgets/base",
            "_view_module_version": "1.2.0",
            "_view_name": "StyleView",
            "description_width": ""
          }
        },
        "1fb205518b454b4a953e918b6f6c7655": {
          "model_module": "@jupyter-widgets/base",
          "model_name": "LayoutModel",
          "model_module_version": "1.2.0",
          "state": {
            "_model_module": "@jupyter-widgets/base",
            "_model_module_version": "1.2.0",
            "_model_name": "LayoutModel",
            "_view_count": null,
            "_view_module": "@jupyter-widgets/base",
            "_view_module_version": "1.2.0",
            "_view_name": "LayoutView",
            "align_content": null,
            "align_items": null,
            "align_self": null,
            "border": null,
            "bottom": null,
            "display": null,
            "flex": null,
            "flex_flow": null,
            "grid_area": null,
            "grid_auto_columns": null,
            "grid_auto_flow": null,
            "grid_auto_rows": null,
            "grid_column": null,
            "grid_gap": null,
            "grid_row": null,
            "grid_template_areas": null,
            "grid_template_columns": null,
            "grid_template_rows": null,
            "height": null,
            "justify_content": null,
            "justify_items": null,
            "left": null,
            "margin": null,
            "max_height": null,
            "max_width": null,
            "min_height": null,
            "min_width": null,
            "object_fit": null,
            "object_position": null,
            "order": null,
            "overflow": null,
            "overflow_x": null,
            "overflow_y": null,
            "padding": null,
            "right": null,
            "top": null,
            "visibility": null,
            "width": null
          }
        },
        "94e3a5b3af064e0d86ff82a5ad8dd78c": {
          "model_module": "@jupyter-widgets/controls",
          "model_name": "ProgressStyleModel",
          "model_module_version": "1.5.0",
          "state": {
            "_model_module": "@jupyter-widgets/controls",
            "_model_module_version": "1.5.0",
            "_model_name": "ProgressStyleModel",
            "_view_count": null,
            "_view_module": "@jupyter-widgets/base",
            "_view_module_version": "1.2.0",
            "_view_name": "StyleView",
            "bar_color": null,
            "description_width": ""
          }
        },
        "7b20c6b6366a42baa437c49c896d28d8": {
          "model_module": "@jupyter-widgets/base",
          "model_name": "LayoutModel",
          "model_module_version": "1.2.0",
          "state": {
            "_model_module": "@jupyter-widgets/base",
            "_model_module_version": "1.2.0",
            "_model_name": "LayoutModel",
            "_view_count": null,
            "_view_module": "@jupyter-widgets/base",
            "_view_module_version": "1.2.0",
            "_view_name": "LayoutView",
            "align_content": null,
            "align_items": null,
            "align_self": null,
            "border": null,
            "bottom": null,
            "display": null,
            "flex": null,
            "flex_flow": null,
            "grid_area": null,
            "grid_auto_columns": null,
            "grid_auto_flow": null,
            "grid_auto_rows": null,
            "grid_column": null,
            "grid_gap": null,
            "grid_row": null,
            "grid_template_areas": null,
            "grid_template_columns": null,
            "grid_template_rows": null,
            "height": null,
            "justify_content": null,
            "justify_items": null,
            "left": null,
            "margin": null,
            "max_height": null,
            "max_width": null,
            "min_height": null,
            "min_width": null,
            "object_fit": null,
            "object_position": null,
            "order": null,
            "overflow": null,
            "overflow_x": null,
            "overflow_y": null,
            "padding": null,
            "right": null,
            "top": null,
            "visibility": null,
            "width": null
          }
        },
        "9a23129d797c49cfa186984521727521": {
          "model_module": "@jupyter-widgets/controls",
          "model_name": "DescriptionStyleModel",
          "model_module_version": "1.5.0",
          "state": {
            "_model_module": "@jupyter-widgets/controls",
            "_model_module_version": "1.5.0",
            "_model_name": "DescriptionStyleModel",
            "_view_count": null,
            "_view_module": "@jupyter-widgets/base",
            "_view_module_version": "1.2.0",
            "_view_name": "StyleView",
            "description_width": ""
          }
        }
      }
    }
  },
  "cells": [
    {
      "cell_type": "markdown",
      "source": [
        "# Calculating Perplexity"
      ],
      "metadata": {
        "id": "U_7y0W0jvSRw"
      }
    },
    {
      "cell_type": "code",
      "execution_count": null,
      "metadata": {
        "id": "yAowhPD0eNwK",
        "colab": {
          "base_uri": "https://localhost:8080/",
          "height": 313,
          "referenced_widgets": [
            "ff3a3482768e4ade92da5f4ba3b4587a",
            "3fc4476342ad47329c9bc0f384f50962",
            "f1ca4cd2f87f4fec938cf4ee8a6d2376",
            "7de04c046f204ccab3e5ada02dcbeab5",
            "6294dc2788804167902434a5cc1eff0e",
            "ece34f279bca440ab9a086b84e7fd4c6",
            "4b035889ee264c82ac39ad9647e428b7",
            "7d15455a07a34862884b8471f742d1a1",
            "27962f9c27c442f78f85e2c8ae6c8245",
            "d9e71281afa84980b34f61f8eccb7b75",
            "04170234e353475aa40506805c9269b1",
            "c80895e485354b6e9500c9aab32d53ca",
            "5fbbec62d13749f4b20bdc278bc69d0f",
            "03edd38f2d4744fba0276f6579484a50",
            "1e3481e576d14a42b4ff2a058bb526d1",
            "352ebfe843e14f2299353a2effcf1983",
            "cc9ba7daa8a14046b3da76c8e9d9ac8a",
            "7a341f501eeb4f4096850bbc2024cea5",
            "c85e054dbdb54683a1d97f17c4508819",
            "fba3b66ac9e54cb99ca4cc4ea74d3d82",
            "c02f662aef9843fa9113f1c034f98633",
            "7ca8a53b6c21454fb0b457a17c5c39c5",
            "1e68418178a2422fa3286c0ef500643c",
            "d964cebe2e8947c68e8163f7235b2076",
            "2252ebad93f94b399b4fdc42373088c2",
            "ca4f0710af3648e681fdb926061edc44",
            "7d09ca81fe5b4717a7a00bc5da7c4ac0",
            "77219f748b7540c3b2bd041d5249240a",
            "b765a3d955944e49b50d76acd04abea3",
            "9a83a41db92b4623935aaafa0cef6f1f",
            "257a25c34d4e402ca2519c556371a89a",
            "3b68ee3a7acf4a4b9d3ca526aa1ac045",
            "afcc923199f947748b30dc5ce233b3ae",
            "083572939ba149188a5c29f44999ec8f",
            "cb3ac09a26494c13b0e4f22336910cfd",
            "df7314a0d16143e5921e5799ab703117",
            "8e6f6ec809c340a69cd168a00d256a6d",
            "7fc9c0c3d60e4a3c9c434b572d0724ab",
            "a4d4fb4223dc400fa55e9406ad0bb7b7",
            "a04fc6a26941455fb92205b5c0ee39c4",
            "a9e25b12c61043909d69b0da7cf28cd8",
            "6875962f69dc406a9ffb91d28ad58a9e",
            "6c5d1d56a267484ab0fdd4a0142e9505",
            "86393c602ebd4c59a457d84709ac5807",
            "fed8d3166cef413dad288d2a749cd24c",
            "8cf0b1564740475aa22a79e8600aefc8",
            "5afda4cb0f554b008c4fc7fa9c257bcb",
            "b9019587e5d84cfba281cee1bb6ba0e8",
            "5ede3db9d1fd49cdbd9b399ab17064c0",
            "fba74b6b7a7c487ab421f2df10723aee",
            "2032416813194992bdce73f5fed79667",
            "b84f3f28213a4c7c823876bb17922ffb",
            "d51240a40f0e4b5180970afea2e5cc76",
            "a39021ff7e2849a6835d53eb72a955e9",
            "b1d26fdc803949e193ee0f9bdc853655",
            "0fd01f2be0d34ffab8a88f4e4ea54959",
            "6fef4b3992da4e9ba2989df13d222a68",
            "1021740f1d8a4113b94c3334d649a87b",
            "4ebd3127a8b5437c85f60996ecaddd24",
            "eadeb872c8fe41548eb53cdf1abe6418",
            "7a1b3215bd06476eb311b97042d949cb",
            "496d9297bb524e3a980707bb26fd6fdb",
            "1fb205518b454b4a953e918b6f6c7655",
            "94e3a5b3af064e0d86ff82a5ad8dd78c",
            "7b20c6b6366a42baa437c49c896d28d8",
            "9a23129d797c49cfa186984521727521"
          ]
        },
        "outputId": "20097e09-27ca-4228-ddb9-2a33bd4288f6"
      },
      "outputs": [
        {
          "output_type": "stream",
          "name": "stderr",
          "text": [
            "/usr/local/lib/python3.10/dist-packages/huggingface_hub/utils/_token.py:88: UserWarning: \n",
            "The secret `HF_TOKEN` does not exist in your Colab secrets.\n",
            "To authenticate with the Hugging Face Hub, create a token in your settings tab (https://huggingface.co/settings/tokens), set it as secret in your Google Colab and restart your session.\n",
            "You will be able to reuse this secret in all of your notebooks.\n",
            "Please note that authentication is recommended but still optional to access public models or datasets.\n",
            "  warnings.warn(\n"
          ]
        },
        {
          "output_type": "display_data",
          "data": {
            "text/plain": [
              "config.json:   0%|          | 0.00/1.58k [00:00<?, ?B/s]"
            ],
            "application/vnd.jupyter.widget-view+json": {
              "version_major": 2,
              "version_minor": 0,
              "model_id": "ff3a3482768e4ade92da5f4ba3b4587a"
            }
          },
          "metadata": {}
        },
        {
          "output_type": "display_data",
          "data": {
            "text/plain": [
              "vocab.json:   0%|          | 0.00/899k [00:00<?, ?B/s]"
            ],
            "application/vnd.jupyter.widget-view+json": {
              "version_major": 2,
              "version_minor": 0,
              "model_id": "c80895e485354b6e9500c9aab32d53ca"
            }
          },
          "metadata": {}
        },
        {
          "output_type": "display_data",
          "data": {
            "text/plain": [
              "merges.txt:   0%|          | 0.00/456k [00:00<?, ?B/s]"
            ],
            "application/vnd.jupyter.widget-view+json": {
              "version_major": 2,
              "version_minor": 0,
              "model_id": "1e68418178a2422fa3286c0ef500643c"
            }
          },
          "metadata": {}
        },
        {
          "output_type": "display_data",
          "data": {
            "text/plain": [
              "tokenizer.json:   0%|          | 0.00/1.36M [00:00<?, ?B/s]"
            ],
            "application/vnd.jupyter.widget-view+json": {
              "version_major": 2,
              "version_minor": 0,
              "model_id": "083572939ba149188a5c29f44999ec8f"
            }
          },
          "metadata": {}
        },
        {
          "output_type": "display_data",
          "data": {
            "text/plain": [
              "model.safetensors:   0%|          | 0.00/1.63G [00:00<?, ?B/s]"
            ],
            "application/vnd.jupyter.widget-view+json": {
              "version_major": 2,
              "version_minor": 0,
              "model_id": "fed8d3166cef413dad288d2a749cd24c"
            }
          },
          "metadata": {}
        },
        {
          "output_type": "display_data",
          "data": {
            "text/plain": [
              "generation_config.json:   0%|          | 0.00/363 [00:00<?, ?B/s]"
            ],
            "application/vnd.jupyter.widget-view+json": {
              "version_major": 2,
              "version_minor": 0,
              "model_id": "0fd01f2be0d34ffab8a88f4e4ea54959"
            }
          },
          "metadata": {}
        }
      ],
      "source": [
        "# Load model directly\n",
        "from transformers import AutoTokenizer, AutoModelForSeq2SeqLM\n",
        "\n",
        "tokenizer = AutoTokenizer.from_pretrained(\"facebook/bart-large-cnn\")\n",
        "model = AutoModelForSeq2SeqLM.from_pretrained(\"facebook/bart-large-cnn\")\n",
        "#input_ids = tokenizer(prompt, return_tensors=\"pt\").input_ids"
      ]
    },
    {
      "cell_type": "code",
      "source": [
        "import torch\n",
        "prompts = [ \"Words hold immense power. They can inspire, uplift, and transform lives. A well-crafted sentence has the ability to ignite imagination, stir emotions, and leave an indelible mark on the human psyche. It's a testament to the remarkable capacity of language to transcend barriers and forge connections.\",\n",
        "    \"The natural world is a tapestry of wonders. From the majestic peaks of snow-capped mountains to the intricate dance of life in the depths of the oceans, nature's artistry is a constant source of awe and reverence. It reminds us of our humble place in the grand scheme of existence and our responsibility to protect its fragile beauty.\",\n",
        "    \"Creativity is the lifeblood of progress. It fuels innovation, drives artistic expression, and propels us forward. In a world that often values conformity, embracing our creative spirit allows us to challenge the status quo, question the established norms, and pave the way for new possibilities.\",\n",
        "    \"Resilience is the hallmark of the human spirit. It is the ability to rise above adversity, to adapt and evolve in the face of challenges. Like a sturdy oak that withstands the fiercest storms, resilience empowers us to bend but never break, emerging stronger and wiser from life's trials.\",\n",
        "    \"Kindness is a universal language that transcends boundaries and cultures. A simple act of compassion, a gentle word of encouragement, or a genuine smile can have a profound impact, creating ripples of positivity that touch the lives of others. In a world that often appears harsh and unforgiving, kindness is a beacon of hope and humanity.\"]\n",
        "device = \"cuda\" if torch.cuda.is_available() else \"cpu\"\n",
        "model.to(device)"
      ],
      "metadata": {
        "colab": {
          "base_uri": "https://localhost:8080/"
        },
        "id": "O1UTtzUoebx5",
        "outputId": "1aa4787f-941b-4f77-b874-adf0d6cb45e0"
      },
      "execution_count": null,
      "outputs": [
        {
          "output_type": "execute_result",
          "data": {
            "text/plain": [
              "BartForConditionalGeneration(\n",
              "  (model): BartModel(\n",
              "    (shared): Embedding(50264, 1024, padding_idx=1)\n",
              "    (encoder): BartEncoder(\n",
              "      (embed_tokens): Embedding(50264, 1024, padding_idx=1)\n",
              "      (embed_positions): BartLearnedPositionalEmbedding(1026, 1024)\n",
              "      (layers): ModuleList(\n",
              "        (0-11): 12 x BartEncoderLayer(\n",
              "          (self_attn): BartSdpaAttention(\n",
              "            (k_proj): Linear(in_features=1024, out_features=1024, bias=True)\n",
              "            (v_proj): Linear(in_features=1024, out_features=1024, bias=True)\n",
              "            (q_proj): Linear(in_features=1024, out_features=1024, bias=True)\n",
              "            (out_proj): Linear(in_features=1024, out_features=1024, bias=True)\n",
              "          )\n",
              "          (self_attn_layer_norm): LayerNorm((1024,), eps=1e-05, elementwise_affine=True)\n",
              "          (activation_fn): GELUActivation()\n",
              "          (fc1): Linear(in_features=1024, out_features=4096, bias=True)\n",
              "          (fc2): Linear(in_features=4096, out_features=1024, bias=True)\n",
              "          (final_layer_norm): LayerNorm((1024,), eps=1e-05, elementwise_affine=True)\n",
              "        )\n",
              "      )\n",
              "      (layernorm_embedding): LayerNorm((1024,), eps=1e-05, elementwise_affine=True)\n",
              "    )\n",
              "    (decoder): BartDecoder(\n",
              "      (embed_tokens): Embedding(50264, 1024, padding_idx=1)\n",
              "      (embed_positions): BartLearnedPositionalEmbedding(1026, 1024)\n",
              "      (layers): ModuleList(\n",
              "        (0-11): 12 x BartDecoderLayer(\n",
              "          (self_attn): BartSdpaAttention(\n",
              "            (k_proj): Linear(in_features=1024, out_features=1024, bias=True)\n",
              "            (v_proj): Linear(in_features=1024, out_features=1024, bias=True)\n",
              "            (q_proj): Linear(in_features=1024, out_features=1024, bias=True)\n",
              "            (out_proj): Linear(in_features=1024, out_features=1024, bias=True)\n",
              "          )\n",
              "          (activation_fn): GELUActivation()\n",
              "          (self_attn_layer_norm): LayerNorm((1024,), eps=1e-05, elementwise_affine=True)\n",
              "          (encoder_attn): BartSdpaAttention(\n",
              "            (k_proj): Linear(in_features=1024, out_features=1024, bias=True)\n",
              "            (v_proj): Linear(in_features=1024, out_features=1024, bias=True)\n",
              "            (q_proj): Linear(in_features=1024, out_features=1024, bias=True)\n",
              "            (out_proj): Linear(in_features=1024, out_features=1024, bias=True)\n",
              "          )\n",
              "          (encoder_attn_layer_norm): LayerNorm((1024,), eps=1e-05, elementwise_affine=True)\n",
              "          (fc1): Linear(in_features=1024, out_features=4096, bias=True)\n",
              "          (fc2): Linear(in_features=4096, out_features=1024, bias=True)\n",
              "          (final_layer_norm): LayerNorm((1024,), eps=1e-05, elementwise_affine=True)\n",
              "        )\n",
              "      )\n",
              "      (layernorm_embedding): LayerNorm((1024,), eps=1e-05, elementwise_affine=True)\n",
              "    )\n",
              "  )\n",
              "  (lm_head): Linear(in_features=1024, out_features=50264, bias=False)\n",
              ")"
            ]
          },
          "metadata": {},
          "execution_count": 24
        }
      ]
    },
    {
      "cell_type": "code",
      "source": [
        "\n",
        "torch.random.manual_seed(42)\n",
        "#Top- K sampling\n",
        "generation_params = {\n",
        "    #\"greedy_search\": {\"do_sample\": False, \"max_length\": 50},\n",
        "    #\"beam_search\": {\"num_beams\": 5, \"max_length\": 50, \"early_stopping\": True},\n",
        "    #\"top_k_sampling\": {\"do_sample\": True, \"top_k\": 50, \"max_length\": 50},\n",
        "    \"top_p_sampling\": {\"do_sample\": True, \"top_p\": 0.6, \"max_length\": 30, \"min_length\": 0 }\n",
        "}"
      ],
      "metadata": {
        "id": "kLpUuRQlepzT"
      },
      "execution_count": null,
      "outputs": []
    },
    {
      "cell_type": "code",
      "source": [
        "def calculate_perplexity(generated_text):\n",
        "    encodings = tokenizer(generated_text, return_tensors=\"pt\").to(device)\n",
        "    input_ids = encodings.input_ids\n",
        "    stride = 512\n",
        "    max_length = 1024\n",
        "    seq_len = input_ids.size(1)\n",
        "\n",
        "    nlls = []\n",
        "    prev_end_loc = 0\n",
        "    for begin_loc in range(0, seq_len, stride):\n",
        "        end_loc = min(begin_loc + max_length, seq_len)\n",
        "        trg_len = end_loc - prev_end_loc  # may be different from stride on last loop\n",
        "        input_ids_segment = input_ids[:, begin_loc:end_loc]\n",
        "        target_ids = input_ids_segment.clone()\n",
        "        target_ids[:, :-trg_len] = -100\n",
        "\n",
        "        with torch.no_grad():\n",
        "            outputs = model(input_ids_segment, labels=target_ids)\n",
        "            neg_log_likelihood = outputs.loss\n",
        "\n",
        "        nlls.append(neg_log_likelihood)\n",
        "\n",
        "        prev_end_loc = end_loc\n",
        "        if end_loc == seq_len:\n",
        "            break\n",
        "    return torch.exp(torch.stack(nlls).mean())"
      ],
      "metadata": {
        "id": "TlSGR8miTpV5"
      },
      "execution_count": null,
      "outputs": []
    },
    {
      "cell_type": "code",
      "source": [
        "perplexities = {}\n",
        "for prompt in prompts:\n",
        "  for strategy_name, params in generation_params.items():\n",
        "      input_ids = tokenizer(prompt, return_tensors=\"pt\").input_ids.to(device)\n",
        "      generated_outputs = model.generate(input_ids, **params, pad_token_id=tokenizer.eos_token_id)\n",
        "      generated_text = tokenizer.decode(generated_outputs[0], skip_special_tokens=True)\n",
        "      perplexity = calculate_perplexity(generated_text)\n",
        "      perplexities[strategy_name] = perplexity\n",
        "      print(f\"Strategy: {strategy_name}\\nGenerated Text: {generated_text}\\nPerplexity: {perplexity}\\n\")"
      ],
      "metadata": {
        "id": "m1KGBSuCg0Ie",
        "colab": {
          "base_uri": "https://localhost:8080/"
        },
        "outputId": "cb7a5dc2-7391-4660-b2d7-6c8a3b6206dd"
      },
      "execution_count": null,
      "outputs": [
        {
          "output_type": "stream",
          "name": "stdout",
          "text": [
            "Strategy: top_p_sampling\n",
            "Generated Text: A well-crafted sentence has the ability to ignite imagination, stir emotions, and leave an indelible mark on the human\n",
            "Perplexity: 1.7641046047210693\n",
            "\n",
            "Strategy: top_p_sampling\n",
            "Generated Text: The natural world is a tapestry of wonders. From the majestic peaks of snow-capped mountains to the intricate dance of life\n",
            "Perplexity: 1.5699129104614258\n",
            "\n",
            "Strategy: top_p_sampling\n",
            "Generated Text: Creativity is the lifeblood of progress. It fuels innovation, drives artistic expression, and propels us forward. In a world that\n",
            "Perplexity: 1.4054306745529175\n",
            "\n",
            "Strategy: top_p_sampling\n",
            "Generated Text: Resilience is the hallmark of the human spirit. It is the ability to rise above adversity. Like a sturdy oak that withstands\n",
            "Perplexity: 1.5952272415161133\n",
            "\n",
            "Strategy: top_p_sampling\n",
            "Generated Text: Kindness is a universal language that transcends boundaries and cultures. A simple act of compassion, a gentle word of encouragement, or a\n",
            "Perplexity: 1.4771292209625244\n",
            "\n"
          ]
        }
      ]
    },
    {
      "cell_type": "markdown",
      "source": [
        "# LOADING DATASET"
      ],
      "metadata": {
        "id": "jOQd1Yvhvd8x"
      }
    },
    {
      "cell_type": "code",
      "source": [
        "from datasets import load_dataset\n",
        "cnn=load_dataset(\"cnn_dailymail\", '2.0.0')"
      ],
      "metadata": {
        "id": "K1eYuOf-MW2S"
      },
      "execution_count": null,
      "outputs": []
    },
    {
      "cell_type": "code",
      "source": [],
      "metadata": {
        "id": "CXVtqqpXlTcS"
      },
      "execution_count": null,
      "outputs": []
    },
    {
      "cell_type": "code",
      "source": [
        "cnn['train']['article'][0]"
      ],
      "metadata": {
        "colab": {
          "base_uri": "https://localhost:8080/",
          "height": 122
        },
        "id": "AL9QpeRPR05X",
        "outputId": "79d45e55-6b8c-43e1-fc8c-869c47808b2e"
      },
      "execution_count": null,
      "outputs": [
        {
          "output_type": "execute_result",
          "data": {
            "text/plain": [
              "'LONDON, England (Reuters) -- Harry Potter star Daniel Radcliffe gains access to a reported £20 million ($41.1 million) fortune as he turns 18 on Monday, but he insists the money won\\'t cast a spell on him. Daniel Radcliffe as Harry Potter in \"Harry Potter and the Order of the Phoenix\" To the disappointment of gossip columnists around the world, the young actor says he has no plans to fritter his cash away on fast cars, drink and celebrity parties. \"I don\\'t plan to be one of those people who, as soon as they turn 18, suddenly buy themselves a massive sports car collection or something similar,\" he told an Australian interviewer earlier this month. \"I don\\'t think I\\'ll be particularly extravagant. \"The things I like buying are things that cost about 10 pounds -- books and CDs and DVDs.\" At 18, Radcliffe will be able to gamble in a casino, buy a drink in a pub or see the horror film \"Hostel: Part II,\" currently six places below his number one movie on the UK box office chart. Details of how he\\'ll mark his landmark birthday are under wraps. His agent and publicist had no comment on his plans. \"I\\'ll definitely have some sort of party,\" he said in an interview. \"Hopefully none of you will be reading about it.\" Radcliffe\\'s earnings from the first five Potter films have been held in a trust fund which he has not been able to touch. Despite his growing fame and riches, the actor says he is keeping his feet firmly on the ground. \"People are always looking to say \\'kid star goes off the rails,\\'\" he told reporters last month. \"But I try very hard not to go that way because it would be too easy for them.\" His latest outing as the boy wizard in \"Harry Potter and the Order of the Phoenix\" is breaking records on both sides of the Atlantic and he will reprise the role in the last two films.  Watch I-Reporter give her review of Potter\\'s latest » . There is life beyond Potter, however. The Londoner has filmed a TV movie called \"My Boy Jack,\" about author Rudyard Kipling and his son, due for release later this year. He will also appear in \"December Boys,\" an Australian film about four boys who escape an orphanage. Earlier this year, he made his stage debut playing a tortured teenager in Peter Shaffer\\'s \"Equus.\" Meanwhile, he is braced for even closer media scrutiny now that he\\'s legally an adult: \"I just think I\\'m going to be more sort of fair game,\" he told Reuters. E-mail to a friend . Copyright 2007 Reuters. All rights reserved.This material may not be published, broadcast, rewritten, or redistributed.'"
            ],
            "application/vnd.google.colaboratory.intrinsic+json": {
              "type": "string"
            }
          },
          "metadata": {},
          "execution_count": 51
        }
      ]
    },
    {
      "cell_type": "code",
      "source": [
        "#def preprocess_function(examples):\n",
        "    #return tokenizer(examples['article'], truncation=True)"
      ],
      "metadata": {
        "id": "ef-sNVXTRk5h"
      },
      "execution_count": null,
      "outputs": []
    },
    {
      "cell_type": "code",
      "source": [
        "#tokenized_cnn = cnn.map(preprocess_function, batched=True)"
      ],
      "metadata": {
        "id": "W-ybpvm9RvFw"
      },
      "execution_count": null,
      "outputs": []
    },
    {
      "cell_type": "code",
      "source": [
        "#article_input_ids = tokenized_cnn['test']['input_ids'][0]"
      ],
      "metadata": {
        "id": "FDoquTIhcvgz"
      },
      "execution_count": null,
      "outputs": []
    },
    {
      "cell_type": "code",
      "source": [
        "#input_tensors = [torch.tensor([ids]) for ids in article_input_ids]"
      ],
      "metadata": {
        "id": "Sv5g868WcyZB"
      },
      "execution_count": null,
      "outputs": []
    },
    {
      "cell_type": "code",
      "source": [
        "#outputs = []\n",
        "#for input_tensor in input_tensors:\n",
        "#    output = model.generate(input_tensor, **params, pad_token_id=tokenizer.eos_token_id)\n",
        " #   tokenizer.batch_decode(output, skip_special_tokens=True)"
      ],
      "metadata": {
        "id": "WsWQKUNbcyfj"
      },
      "execution_count": null,
      "outputs": []
    },
    {
      "cell_type": "code",
      "source": [],
      "metadata": {
        "id": "te-o4MhnfE8T"
      },
      "execution_count": null,
      "outputs": []
    },
    {
      "cell_type": "code",
      "source": [
        "#output = model.generate(article_input_ids, **params, pad_token_id=tokenizer.eos_token_id)\n",
        "#tokenizer.batch_decode(output, skip_special_tokens=True)"
      ],
      "metadata": {
        "id": "9tb6U8eOe0m6"
      },
      "execution_count": null,
      "outputs": []
    },
    {
      "cell_type": "code",
      "source": [
        "# Counter to track generated summaries\n",
        "#summary_count = 0\n",
        "\n",
        "#for article in cnn['test']['article']:\n",
        "  # Break the loop if 50 summaries are generated\n",
        " # if summary_count >= 50:\n",
        " #   break\n",
        "\n",
        " # tokenized_article = tokenizer(article, truncation=True)\n",
        " # input_ids = torch.tensor(tokenized_article['input_ids'])\n",
        " # output = model.generate(input_ids, **params, pad_token_id=tokenizer.eos_token_id)\n",
        "\n",
        "  # Process the generated summary (e.g., print or store)\n",
        "  #print(f\"Summary {summary_count + 1}:\", output[0]['generated_text'])  # Accessing generated text from the first output element\n",
        "\n",
        " # summary_count += 1\n"
      ],
      "metadata": {
        "id": "FKArRc6ZnHrm"
      },
      "execution_count": null,
      "outputs": []
    },
    {
      "cell_type": "code",
      "source": [
        "cnn['test']['article'][0]"
      ],
      "metadata": {
        "colab": {
          "base_uri": "https://localhost:8080/",
          "height": 122
        },
        "id": "nB6w51BhnQnj",
        "outputId": "da1a6573-3bcd-471b-cb6e-69458c0d7a8f"
      },
      "execution_count": null,
      "outputs": [
        {
          "output_type": "execute_result",
          "data": {
            "text/plain": [
              "'(CNN)The Palestinian Authority officially became the 123rd member of the International Criminal Court on Wednesday, a step that gives the court jurisdiction over alleged crimes in Palestinian territories. The formal accession was marked with a ceremony at The Hague, in the Netherlands, where the court is based. The Palestinians signed the ICC\\'s founding Rome Statute in January, when they also accepted its jurisdiction over alleged crimes committed \"in the occupied Palestinian territory, including East Jerusalem, since June 13, 2014.\" Later that month, the ICC opened a preliminary examination into the situation in Palestinian territories, paving the way for possible war crimes investigations against Israelis. As members of the court, Palestinians may be subject to counter-charges as well. Israel and the United States, neither of which is an ICC member, opposed the Palestinians\\' efforts to join the body. But Palestinian Foreign Minister Riad al-Malki, speaking at Wednesday\\'s ceremony, said it was a move toward greater justice. \"As Palestine formally becomes a State Party to the Rome Statute today, the world is also a step closer to ending a long era of impunity and injustice,\" he said, according to an ICC news release. \"Indeed, today brings us closer to our shared goals of justice and peace.\" Judge Kuniko Ozaki, a vice president of the ICC, said acceding to the treaty was just the first step for the Palestinians. \"As the Rome Statute today enters into force for the State of Palestine, Palestine acquires all the rights as well as responsibilities that come with being a State Party to the Statute. These are substantive commitments, which cannot be taken lightly,\" she said. Rights group Human Rights Watch welcomed the development. \"Governments seeking to penalize Palestine for joining the ICC should immediately end their pressure, and countries that support universal acceptance of the court\\'s treaty should speak out to welcome its membership,\" said Balkees Jarrah, international justice counsel for the group. \"What\\'s objectionable is the attempts to undermine international justice, not Palestine\\'s decision to join a treaty to which over 100 countries around the world are members.\" In January, when the preliminary ICC examination was opened, Israeli Prime Minister Benjamin Netanyahu described it as an outrage, saying the court was overstepping its boundaries. The United States also said it \"strongly\" disagreed with the court\\'s decision. \"As we have said repeatedly, we do not believe that Palestine is a state and therefore we do not believe that it is eligible to join the ICC,\" the State Department said in a statement. It urged the warring sides to resolve their differences through direct negotiations. \"We will continue to oppose actions against Israel at the ICC as counterproductive to the cause of peace,\" it said. But the ICC begs to differ with the definition of a state for its purposes and refers to the territories as \"Palestine.\" While a preliminary examination is not a formal investigation, it allows the court to review evidence and determine whether to investigate suspects on both sides. Prosecutor Fatou Bensouda said her office would \"conduct its analysis in full independence and impartiality.\" The war between Israel and Hamas militants in Gaza last summer left more than 2,000 people dead. The inquiry will include alleged war crimes committed since June. The International Criminal Court was set up in 2002 to prosecute genocide, crimes against humanity and war crimes. CNN\\'s Vasco Cotovio, Kareem Khadder and Faith Karimi contributed to this report.'"
            ],
            "application/vnd.google.colaboratory.intrinsic+json": {
              "type": "string"
            }
          },
          "metadata": {},
          "execution_count": 52
        }
      ]
    },
    {
      "cell_type": "code",
      "source": [
        "import pandas as pd\n",
        "df=pd.DataFrame()"
      ],
      "metadata": {
        "id": "z_tfq6NdG-Um"
      },
      "execution_count": null,
      "outputs": []
    },
    {
      "cell_type": "code",
      "source": [
        "#!pip install evaluate, rouge_score, bert_score"
      ],
      "metadata": {
        "id": "4l1ydTXAJT5m"
      },
      "execution_count": null,
      "outputs": []
    },
    {
      "cell_type": "markdown",
      "source": [
        "# SETTING UP EVALUATION METRICS"
      ],
      "metadata": {
        "id": "9viDsgTVvj8W"
      }
    },
    {
      "cell_type": "code",
      "source": [
        "import evaluate\n",
        "rouge_score=evaluate.load('rouge')\n",
        "bert_score=evaluate.load('bertscore')"
      ],
      "metadata": {
        "id": "marZRYXXJLy8"
      },
      "execution_count": null,
      "outputs": []
    },
    {
      "cell_type": "markdown",
      "source": [
        "# Loop Through first 50 items to generate summaries"
      ],
      "metadata": {
        "id": "-2hqBEdsvo_v"
      }
    },
    {
      "cell_type": "code",
      "source": [
        "import pandas as pd\n",
        "\n",
        "rouge_1_scores = []\n",
        "rouge_2_scores = []\n",
        "rouge_l_scores = []\n",
        "rouge_lsum_scores = []\n",
        "bert_precision_scores = []\n",
        "bert_recall_scores = []\n",
        "bert_f1_scores = []\n",
        "\n",
        "for i in range(50):\n",
        "    a = cnn['test']['article'][i]\n",
        "    r=cnn[f'test']['highlights'][i]\n",
        "    b = tokenizer(a, truncation=True, return_tensors=\"pt\", max_length=1024).input_ids.to(device)\n",
        "    o = model.generate(b, **params, pad_token_id=tokenizer.eos_token_id)\n",
        "    gt = tokenizer.decode(o[0], skip_special_tokens=True)\n",
        "\n",
        "    rouge_score_value = rouge_score.compute(predictions=[gt], references=[cnn['test']['highlights'][i]])\n",
        "    #print(rouge_score_value.keys())\n",
        "    rouge_1_scores.append(rouge_score_value['rouge1'])\n",
        "    rouge_2_scores.append(rouge_score_value['rouge2'])\n",
        "    rouge_l_scores.append(rouge_score_value['rougeL'])\n",
        "    rouge_lsum_scores.append(rouge_score_value['rougeLsum'])\n",
        "\n",
        "    bert_score_value = bert_score.compute(predictions=[gt], references=[cnn['test']['highlights'][i]], lang=\"en\")\n",
        "    #print(bert_score_value.keys())\n",
        "    bert_precision_scores.append(bert_score_value['f1'][0])\n",
        "    bert_recall_scores.append(bert_score_value['recall'][0])\n",
        "    bert_f1_scores.append(bert_score_value['f1'][0])\n",
        "\n",
        "    # Create a new DataFrame or append to an existing one\n",
        "    if i == 0:\n",
        "        df = pd.DataFrame({'Input Text': [a], 'Generated Text': [gt], 'Rouge Score': [rouge_score_value], 'BERT Score': [bert_score_value]})\n",
        "    else:\n",
        "        new_row = pd.DataFrame({'Input Text': [a], 'Generated Text': [gt], 'Rouge Score': [rouge_score_value], 'BERT Score': [bert_score_value]}, index=[i])\n",
        "        df = pd.concat([df, new_row], ignore_index=True)\n",
        "\n",
        "    print(f\"Generated text {i}: {gt}\\n Rouge: {rouge_score_value} \\n Bert_Score: {bert_score_value}\")"
      ],
      "metadata": {
        "id": "vrTSSR66Moco",
        "colab": {
          "base_uri": "https://localhost:8080/"
        },
        "outputId": "9118c05c-a479-4ca6-dbd9-5dc545b9ddf2"
      },
      "execution_count": null,
      "outputs": [
        {
          "output_type": "stream",
          "name": "stdout",
          "text": [
            "Generated text 0: The Palestinian Authority becomes the 123rd member of the International Criminal Court. The move gives the court jurisdiction over alleged crimes in Palestinian territories.\n",
            " Rouge: {'rouge1': 0.44827586206896547, 'rouge2': 0.25, 'rougeL': 0.31034482758620696, 'rougeLsum': 0.44827586206896547} \n",
            " Bert_Score: {'precision': [0.9076894521713257], 'recall': [0.8876417279243469], 'f1': [0.8975536227226257], 'hashcode': 'roberta-large_L17_no-idf_version=0.3.12(hug_trans=4.38.2)'}\n",
            "Generated text 1: A dog apparently hit by a car and buried in a field survives. The dog, now named Theia, was found emaciated\n",
            " Rouge: {'rouge1': 0.4375, 'rouge2': 0.25806451612903225, 'rougeL': 0.40625, 'rougeLsum': 0.40625} \n",
            " Bert_Score: {'precision': [0.9049350619316101], 'recall': [0.8699348568916321], 'f1': [0.8870898485183716], 'hashcode': 'roberta-large_L17_no-idf_version=0.3.12(hug_trans=4.38.2)'}\n",
            "Generated text 2: Mohammad Javad Zarif is the Iranian foreign minister. He has been John Kerry's opposite number in securing a breakthrough in nuclear discussions\n",
            " Rouge: {'rouge1': 0.48275862068965525, 'rouge2': 0.25, 'rougeL': 0.3103448275862069, 'rougeLsum': 0.48275862068965525} \n",
            " Bert_Score: {'precision': [0.9066729545593262], 'recall': [0.879257321357727], 'f1': [0.8927547335624695], 'hashcode': 'roberta-large_L17_no-idf_version=0.3.12(hug_trans=4.38.2)'}\n",
            "Generated text 3: The five were exposed to Ebola in Sierra Leone in March. None of them developed the deadly virus.\n",
            " Rouge: {'rouge1': 0.4333333333333334, 'rouge2': 0.20689655172413793, 'rougeL': 0.36666666666666675, 'rougeLsum': 0.4} \n",
            " Bert_Score: {'precision': [0.9297922849655151], 'recall': [0.8665285110473633], 'f1': [0.8970463871955872], 'hashcode': 'roberta-large_L17_no-idf_version=0.3.12(hug_trans=4.38.2)'}\n",
            "Generated text 4: The student is no longer on campus and will face student conduct review. Officials are still trying to determine if other people were involved. The\n",
            " Rouge: {'rouge1': 0.44776119402985076, 'rouge2': 0.24615384615384614, 'rougeL': 0.3880597014925373, 'rougeLsum': 0.41791044776119407} \n",
            " Bert_Score: {'precision': [0.9154406189918518], 'recall': [0.8750228881835938], 'f1': [0.8947755694389343], 'hashcode': 'roberta-large_L17_no-idf_version=0.3.12(hug_trans=4.38.2)'}\n",
            "Generated text 5: Trey Moses asked Ellie Meredith to be his prom date. Trey is a star basketball player at Eastern High School in Kentucky.\n",
            " Rouge: {'rouge1': 0.2608695652173913, 'rouge2': 0.04545454545454545, 'rougeL': 0.13043478260869565, 'rougeLsum': 0.17391304347826086} \n",
            " Bert_Score: {'precision': [0.8739451169967651], 'recall': [0.8457883596420288], 'f1': [0.8596361875534058], 'hashcode': 'roberta-large_L17_no-idf_version=0.3.12(hug_trans=4.38.2)'}\n",
            "Generated text 6: Amnesty International says governments are using the threat of terrorism to advance executions. At least 607 people were executed around the world in 2014\n",
            " Rouge: {'rouge1': 0.3846153846153846, 'rouge2': 0.26315789473684215, 'rougeL': 0.30769230769230765, 'rougeLsum': 0.30769230769230765} \n",
            " Bert_Score: {'precision': [0.9104962348937988], 'recall': [0.862553596496582], 'f1': [0.8858767747879028], 'hashcode': 'roberta-large_L17_no-idf_version=0.3.12(hug_trans=4.38.2)'}\n",
            "Generated text 7: Andrew Getty, 47, had \"several health issues,\" police say. The coroner's preliminary assessment is there was no foul play involved\n",
            " Rouge: {'rouge1': 0.27692307692307694, 'rouge2': 0.09523809523809525, 'rougeL': 0.24615384615384614, 'rougeLsum': 0.27692307692307694} \n",
            " Bert_Score: {'precision': [0.8991583585739136], 'recall': [0.8798809051513672], 'f1': [0.8894152045249939], 'hashcode': 'roberta-large_L17_no-idf_version=0.3.12(hug_trans=4.38.2)'}\n",
            "Generated text 8: Maysak gained super typhoon status just a few days ago. It's now a tropical storm, but still packing winds\n",
            " Rouge: {'rouge1': 0.47826086956521735, 'rouge2': 0.1818181818181818, 'rougeL': 0.3043478260869565, 'rougeLsum': 0.3913043478260869} \n",
            " Bert_Score: {'precision': [0.8998421430587769], 'recall': [0.8744633793830872], 'f1': [0.8869712352752686], 'hashcode': 'roberta-large_L17_no-idf_version=0.3.12(hug_trans=4.38.2)'}\n",
            "Generated text 9: Bob Barker returned to \"The Price Is Right\" for the first time in eight years. Barker hosted the show for 35 years before stepping\n",
            " Rouge: {'rouge1': 0.46511627906976744, 'rouge2': 0.2926829268292683, 'rougeL': 0.4186046511627907, 'rougeLsum': 0.46511627906976744} \n",
            " Bert_Score: {'precision': [0.9088485240936279], 'recall': [0.9040718078613281], 'f1': [0.9064539074897766], 'hashcode': 'roberta-large_L17_no-idf_version=0.3.12(hug_trans=4.38.2)'}\n",
            "Generated text 10: Yahya Rashid, 19, was arrested at Luton airport on Tuesday. He's charged with engaging in conduct in preparation of\n",
            " Rouge: {'rouge1': 0.4150943396226416, 'rouge2': 0.23529411764705882, 'rougeL': 0.4150943396226416, 'rougeLsum': 0.4150943396226416} \n",
            " Bert_Score: {'precision': [0.869042158126831], 'recall': [0.8764337301254272], 'f1': [0.8727222681045532], 'hashcode': 'roberta-large_L17_no-idf_version=0.3.12(hug_trans=4.38.2)'}\n",
            "Generated text 11: Paul Walker died in a car crash in November 2013. The film \"Furious 7\" is released Friday.\n",
            " Rouge: {'rouge1': 0.38095238095238104, 'rouge2': 0.1, 'rougeL': 0.3333333333333333, 'rougeLsum': 0.3333333333333333} \n",
            " Bert_Score: {'precision': [0.9060274362564087], 'recall': [0.867763876914978], 'f1': [0.8864829540252686], 'hashcode': 'roberta-large_L17_no-idf_version=0.3.12(hug_trans=4.38.2)'}\n",
            "Generated text 12: Anne Frank died of typhus in a Nazi concentration camp at the age of 15. Researchers re-examined archives of the Red\n",
            " Rouge: {'rouge1': 0.34615384615384615, 'rouge2': 0.19999999999999998, 'rougeL': 0.30769230769230765, 'rougeLsum': 0.34615384615384615} \n",
            " Bert_Score: {'precision': [0.8835710287094116], 'recall': [0.8553885817527771], 'f1': [0.8692514300346375], 'hashcode': 'roberta-large_L17_no-idf_version=0.3.12(hug_trans=4.38.2)'}\n",
            "Generated text 13: Mike Pence is drawing huge heat for his controversial decision to sign a religious freedom law.\n",
            " Rouge: {'rouge1': 0.09999999999999999, 'rouge2': 0.0, 'rougeL': 0.03333333333333333, 'rougeLsum': 0.06666666666666667} \n",
            " Bert_Score: {'precision': [0.858191728591919], 'recall': [0.8220570683479309], 'f1': [0.8397359251976013], 'hashcode': 'roberta-large_L17_no-idf_version=0.3.12(hug_trans=4.38.2)'}\n",
            "Generated text 14: Mötley Crüe's Vince Neil reminded us of the dangers of tackling \"The Star-Spangled Banner\" The late\n",
            " Rouge: {'rouge1': 0.05555555555555556, 'rouge2': 0.0, 'rougeL': 0.05555555555555556, 'rougeLsum': 0.05555555555555556} \n",
            " Bert_Score: {'precision': [0.8106385469436646], 'recall': [0.8401138186454773], 'f1': [0.82511305809021], 'hashcode': 'roberta-large_L17_no-idf_version=0.3.12(hug_trans=4.38.2)'}\n",
            "Generated text 15: Walmart is emerging as a bellwether for shifting public opinion on hot-button political issues. Former Minnesota Gov. Tim Paw\n",
            " Rouge: {'rouge1': 0.12307692307692307, 'rouge2': 0.0, 'rougeL': 0.061538461538461535, 'rougeLsum': 0.12307692307692307} \n",
            " Bert_Score: {'precision': [0.8423318266868591], 'recall': [0.8163818120956421], 'f1': [0.8291538953781128], 'hashcode': 'roberta-large_L17_no-idf_version=0.3.12(hug_trans=4.38.2)'}\n",
            "Generated text 16: Amnesty International releases its annual review of the death penalty worldwide. In Pakistan, the government lifted a six-year moratorium on the execution\n",
            " Rouge: {'rouge1': 0.4482758620689655, 'rouge2': 0.3928571428571429, 'rougeL': 0.4482758620689655, 'rougeLsum': 0.4482758620689655} \n",
            " Bert_Score: {'precision': [0.9262118339538574], 'recall': [0.8681076169013977], 'f1': [0.8962189555168152], 'hashcode': 'roberta-large_L17_no-idf_version=0.3.12(hug_trans=4.38.2)'}\n",
            "Generated text 17: French prosecutor says he's not aware of any video footage from on board the plane. Two magazines claim to have found cell phone video of\n",
            " Rouge: {'rouge1': 0.16, 'rouge2': 0.0273972602739726, 'rougeL': 0.13333333333333333, 'rougeLsum': 0.16} \n",
            " Bert_Score: {'precision': [0.8721697926521301], 'recall': [0.8322675228118896], 'f1': [0.8517516255378723], 'hashcode': 'roberta-large_L17_no-idf_version=0.3.12(hug_trans=4.38.2)'}\n",
            "Generated text 18: The Rev. Robert H. Schuller was diagnosed with esophageal cancer in August 2013. He was also the founder of\n",
            " Rouge: {'rouge1': 0.5652173913043478, 'rouge2': 0.27272727272727276, 'rougeL': 0.5217391304347826, 'rougeLsum': 0.5217391304347826} \n",
            " Bert_Score: {'precision': [0.9429805874824524], 'recall': [0.8938652873039246], 'f1': [0.917766273021698], 'hashcode': 'roberta-large_L17_no-idf_version=0.3.12(hug_trans=4.38.2)'}\n",
            "Generated text 19: Michele Bachmann compares President Obama to the co-pilot of the doomed Germanwings flight. Bachmann is no stranger to\n",
            " Rouge: {'rouge1': 0.23076923076923078, 'rouge2': 0.12000000000000002, 'rougeL': 0.19230769230769232, 'rougeLsum': 0.23076923076923078} \n",
            " Bert_Score: {'precision': [0.8656915426254272], 'recall': [0.8361790776252747], 'f1': [0.8506793975830078], 'hashcode': 'roberta-large_L17_no-idf_version=0.3.12(hug_trans=4.38.2)'}\n",
            "Generated text 20: Louis Jordan, 37, was found by a container ship hundreds of miles from land. He had been at sea for more than two months\n",
            " Rouge: {'rouge1': 0.16666666666666669, 'rouge2': 0.06896551724137931, 'rougeL': 0.16666666666666669, 'rougeLsum': 0.16666666666666669} \n",
            " Bert_Score: {'precision': [0.8641538619995117], 'recall': [0.8401859998703003], 'f1': [0.8520013689994812], 'hashcode': 'roberta-large_L17_no-idf_version=0.3.12(hug_trans=4.38.2)'}\n",
            "Generated text 21: U.S. and its negotiating partners reached a very strong framework agreement with Iran. Peter Bergen: The debate that has already begun\n",
            " Rouge: {'rouge1': 0.21874999999999997, 'rouge2': 0.03225806451612904, 'rougeL': 0.09374999999999999, 'rougeLsum': 0.09374999999999999} \n",
            " Bert_Score: {'precision': [0.8767364621162415], 'recall': [0.8328462839126587], 'f1': [0.8542279601097107], 'hashcode': 'roberta-large_L17_no-idf_version=0.3.12(hug_trans=4.38.2)'}\n",
            "Generated text 22: California is a breadbasket to the nation, growing more than a third of its vegetables. The drought is affecting other parts of the\n",
            " Rouge: {'rouge1': 0.3692307692307692, 'rouge2': 0.06349206349206349, 'rougeL': 0.1846153846153846, 'rougeLsum': 0.27692307692307694} \n",
            " Bert_Score: {'precision': [0.8483997583389282], 'recall': [0.8337243795394897], 'f1': [0.8409980535507202], 'hashcode': 'roberta-large_L17_no-idf_version=0.3.12(hug_trans=4.38.2)'}\n",
            "Generated text 23: Keonna Thomas, 30, is one of three women arrested this week on terror charges. Two New York women were also taken into custody\n",
            " Rouge: {'rouge1': 0.4210526315789474, 'rouge2': 0.2909090909090909, 'rougeL': 0.3508771929824562, 'rougeLsum': 0.3508771929824562} \n",
            " Bert_Score: {'precision': [0.9164036512374878], 'recall': [0.8795811533927917], 'f1': [0.8976149559020996], 'hashcode': 'roberta-large_L17_no-idf_version=0.3.12(hug_trans=4.38.2)'}\n",
            "Generated text 24: Iranian sports official says women will be allowed to attend some sports events. The ban has been in place since the Islamic Revolution in 1979\n",
            " Rouge: {'rouge1': 0.5384615384615384, 'rouge2': 0.2, 'rougeL': 0.3846153846153846, 'rougeLsum': 0.4230769230769231} \n",
            " Bert_Score: {'precision': [0.9100302457809448], 'recall': [0.8918566703796387], 'f1': [0.9008517861366272], 'hashcode': 'roberta-large_L17_no-idf_version=0.3.12(hug_trans=4.38.2)'}\n",
            "Generated text 25: Online activity has become the alternative to traditional mainstream media in authoritarian countries. The lack of access to traditional print and broadcast media is\n",
            " Rouge: {'rouge1': 0.2898550724637681, 'rouge2': 0.059701492537313425, 'rougeL': 0.26086956521739135, 'rougeLsum': 0.26086956521739135} \n",
            " Bert_Score: {'precision': [0.859919548034668], 'recall': [0.833476722240448], 'f1': [0.8464916348457336], 'hashcode': 'roberta-large_L17_no-idf_version=0.3.12(hug_trans=4.38.2)'}\n",
            "Generated text 26: Avril Lavigne says she was bedridden for five months after contracting Lyme disease. \"I felt like I couldn't breathe, I\n",
            " Rouge: {'rouge1': 0.3111111111111111, 'rouge2': 0.18604651162790697, 'rougeL': 0.26666666666666666, 'rougeLsum': 0.3111111111111111} \n",
            " Bert_Score: {'precision': [0.8746227622032166], 'recall': [0.8702769875526428], 'f1': [0.8724444508552551], 'hashcode': 'roberta-large_L17_no-idf_version=0.3.12(hug_trans=4.38.2)'}\n",
            "Generated text 27: Former heavyweight champ Mike Tyson lived in a gaudy, abandoned mansion in Ohio. CNN's Karl Penhaul spoke to a shepherd who\n",
            " Rouge: {'rouge1': 0.3255813953488372, 'rouge2': 0.14634146341463414, 'rougeL': 0.18604651162790697, 'rougeLsum': 0.2790697674418604} \n",
            " Bert_Score: {'precision': [0.8575219511985779], 'recall': [0.8548563122749329], 'f1': [0.8561870455741882], 'hashcode': 'roberta-large_L17_no-idf_version=0.3.12(hug_trans=4.38.2)'}\n",
            "Generated text 28: Israeli Prime Minister Benjamin Netanyahu says he sees better options than \"this bad deal or war\" His comments come as Democrats and Republicans spar over\n",
            " Rouge: {'rouge1': 0.20833333333333331, 'rouge2': 0.043478260869565216, 'rougeL': 0.20833333333333331, 'rougeLsum': 0.20833333333333331} \n",
            " Bert_Score: {'precision': [0.8617395162582397], 'recall': [0.8751577138900757], 'f1': [0.8683967590332031], 'hashcode': 'roberta-large_L17_no-idf_version=0.3.12(hug_trans=4.38.2)'}\n",
            "Generated text 29: Memories Pizza in Walkerton, Indiana, refused to cater a same-sex couple's wedding. Critics said the new law would allow\n",
            " Rouge: {'rouge1': 0.4782608695652174, 'rouge2': 0.3636363636363636, 'rougeL': 0.43478260869565216, 'rougeLsum': 0.391304347826087} \n",
            " Bert_Score: {'precision': [0.8951526284217834], 'recall': [0.8885678648948669], 'f1': [0.891848087310791], 'hashcode': 'roberta-large_L17_no-idf_version=0.3.12(hug_trans=4.38.2)'}\n",
            "Generated text 30: Police in Malegaon, in the western state of Maharashtra, are requiring identity cards for an unusual group of residents: Cattle.\n",
            " Rouge: {'rouge1': 0.2368421052631579, 'rouge2': 0.05405405405405405, 'rougeL': 0.15789473684210525, 'rougeLsum': 0.21052631578947364} \n",
            " Bert_Score: {'precision': [0.9007969498634338], 'recall': [0.8654810786247253], 'f1': [0.882785975933075], 'hashcode': 'roberta-large_L17_no-idf_version=0.3.12(hug_trans=4.38.2)'}\n",
            "Generated text 31: It's hard to swallow the idea of a single person being stranded at sea for days, weeks, if not months. Miracles do\n",
            " Rouge: {'rouge1': 0.18181818181818182, 'rouge2': 0.03125, 'rougeL': 0.09090909090909091, 'rougeLsum': 0.12121212121212122} \n",
            " Bert_Score: {'precision': [0.8613158464431763], 'recall': [0.8403622508049011], 'f1': [0.8507100939750671], 'hashcode': 'roberta-large_L17_no-idf_version=0.3.12(hug_trans=4.38.2)'}\n",
            "Generated text 32: The Large Hadron Collider (LHC), a particle accelerator and the largest machine in the world, is ready for action following a two\n",
            " Rouge: {'rouge1': 0.45, 'rouge2': 0.2631578947368421, 'rougeL': 0.39999999999999997, 'rougeLsum': 0.45} \n",
            " Bert_Score: {'precision': [0.9068867564201355], 'recall': [0.8983120918273926], 'f1': [0.9025790095329285], 'hashcode': 'roberta-large_L17_no-idf_version=0.3.12(hug_trans=4.38.2)'}\n",
            "Generated text 33: Kevone Charleston, 36, is suspected of 32 commercial robberies dating to November 2013. FBI agents and task force officers were following him\n",
            " Rouge: {'rouge1': 0.20833333333333331, 'rouge2': 0.08695652173913043, 'rougeL': 0.16666666666666669, 'rougeLsum': 0.12499999999999997} \n",
            " Bert_Score: {'precision': [0.8380582332611084], 'recall': [0.8562437295913696], 'f1': [0.8470534086227417], 'hashcode': 'roberta-large_L17_no-idf_version=0.3.12(hug_trans=4.38.2)'}\n",
            "Generated text 34: The total lunar eclipse will only last four minutes and 43 seconds. It started at 3:16 a.m. Pacific Daylight Time\n",
            " Rouge: {'rouge1': 0.3508771929824561, 'rouge2': 0.2545454545454545, 'rougeL': 0.3508771929824561, 'rougeLsum': 0.3508771929824561} \n",
            " Bert_Score: {'precision': [0.8978192806243896], 'recall': [0.8641843795776367], 'f1': [0.8806807994842529], 'hashcode': 'roberta-large_L17_no-idf_version=0.3.12(hug_trans=4.38.2)'}\n",
            "Generated text 35: Somalia-based Al-Shabaab has been behind a string of recent attacks in Kenya. The group is predominantly driven by\n",
            " Rouge: {'rouge1': 0.25000000000000006, 'rouge2': 0.06451612903225806, 'rougeL': 0.18749999999999997, 'rougeLsum': 0.21875} \n",
            " Bert_Score: {'precision': [0.883092999458313], 'recall': [0.8538020849227905], 'f1': [0.8682006001472473], 'hashcode': 'roberta-large_L17_no-idf_version=0.3.12(hug_trans=4.38.2)'}\n",
            "Generated text 36: Easter is a cornerstone event in the Christian faith, but it's surrounded by interesting quirks. Unlike Christmas, it doesn't fall on\n",
            " Rouge: {'rouge1': 0.3508771929824562, 'rouge2': 0.2545454545454546, 'rougeL': 0.3508771929824562, 'rougeLsum': 0.3508771929824562} \n",
            " Bert_Score: {'precision': [0.9008277654647827], 'recall': [0.8775949478149414], 'f1': [0.8890596032142639], 'hashcode': 'roberta-large_L17_no-idf_version=0.3.12(hug_trans=4.38.2)'}\n",
            "Generated text 37: The NCAA says it has no legal responsibility \"to ensure the academic integrity of the courses offered to student-athletes at its member institutions\n",
            " Rouge: {'rouge1': 0.34374999999999994, 'rouge2': 0.0967741935483871, 'rougeL': 0.21875, 'rougeLsum': 0.25} \n",
            " Bert_Score: {'precision': [0.8988555669784546], 'recall': [0.8671419620513916], 'f1': [0.882714033126831], 'hashcode': 'roberta-large_L17_no-idf_version=0.3.12(hug_trans=4.38.2)'}\n",
            "Generated text 38: A Connecticut teen who has been forced to have chemotherapy will remain in temporary custody. The 17-year-old is in remission after nearly\n",
            " Rouge: {'rouge1': 0.2333333333333333, 'rouge2': 0.034482758620689655, 'rougeL': 0.2, 'rougeLsum': 0.2} \n",
            " Bert_Score: {'precision': [0.8819496035575867], 'recall': [0.8579172492027283], 'f1': [0.869767427444458], 'hashcode': 'roberta-large_L17_no-idf_version=0.3.12(hug_trans=4.38.2)'}\n",
            "Generated text 39: \"Uptown Funk!\" is the longest-leading Billboard Hot 100 of the 2010s. It's also just the 10th single\n",
            " Rouge: {'rouge1': 0.17777777777777778, 'rouge2': 0.0, 'rougeL': 0.17777777777777778, 'rougeLsum': 0.17777777777777778} \n",
            " Bert_Score: {'precision': [0.8368082046508789], 'recall': [0.8221282958984375], 'f1': [0.8294033408164978], 'hashcode': 'roberta-large_L17_no-idf_version=0.3.12(hug_trans=4.38.2)'}\n",
            "Generated text 40: The temperature was recorded at Argentina's Esperanza Base on the northern tip of the Antarctica Peninsula. The World Meteorological Organization is in the\n",
            " Rouge: {'rouge1': 0.6222222222222222, 'rouge2': 0.5116279069767442, 'rougeL': 0.6222222222222222, 'rougeLsum': 0.6222222222222222} \n",
            " Bert_Score: {'precision': [0.9008231163024902], 'recall': [0.9198877811431885], 'f1': [0.9102556705474854], 'hashcode': 'roberta-large_L17_no-idf_version=0.3.12(hug_trans=4.38.2)'}\n",
            "Generated text 41: The U.S. Religious Freedom Restoration Act became law in 1993. So far, 20 states have some version of the religious liberty law\n",
            " Rouge: {'rouge1': 0.0821917808219178, 'rouge2': 0.0, 'rougeL': 0.0547945205479452, 'rougeLsum': 0.0821917808219178} \n",
            " Bert_Score: {'precision': [0.828853964805603], 'recall': [0.8085619211196899], 'f1': [0.8185821771621704], 'hashcode': 'roberta-large_L17_no-idf_version=0.3.12(hug_trans=4.38.2)'}\n",
            "Generated text 42: Robert Lewis Burns Jr. was part of the genre-defining band's original lineup. He died after his car hit a mailbox and\n",
            " Rouge: {'rouge1': 0.6956521739130435, 'rouge2': 0.5909090909090909, 'rougeL': 0.6956521739130435, 'rougeLsum': 0.6956521739130435} \n",
            " Bert_Score: {'precision': [0.9355967044830322], 'recall': [0.901288628578186], 'f1': [0.9181222319602966], 'hashcode': 'roberta-large_L17_no-idf_version=0.3.12(hug_trans=4.38.2)'}\n",
            "Generated text 43: Kim Ki-Jong is accused of stabbing U.S. Ambassador Mark Lippert in Seoul. He is also charged with assaulting\n",
            " Rouge: {'rouge1': 0.5666666666666667, 'rouge2': 0.41379310344827586, 'rougeL': 0.43333333333333335, 'rougeLsum': 0.5333333333333333} \n",
            " Bert_Score: {'precision': [0.954025387763977], 'recall': [0.8949292302131653], 'f1': [0.9235329031944275], 'hashcode': 'roberta-large_L17_no-idf_version=0.3.12(hug_trans=4.38.2)'}\n",
            "Generated text 44: Rurik Jutting, 29, is charged with two counts of murder in Hong Kong. A court hearing that was to determine\n",
            " Rouge: {'rouge1': 0.4186046511627907, 'rouge2': 0.0975609756097561, 'rougeL': 0.18604651162790697, 'rougeLsum': 0.27906976744186046} \n",
            " Bert_Score: {'precision': [0.8858650326728821], 'recall': [0.8745288252830505], 'f1': [0.8801604509353638], 'hashcode': 'roberta-large_L17_no-idf_version=0.3.12(hug_trans=4.38.2)'}\n",
            "Generated text 45: Thai Smile unveils colorful new livery featuring Jake, Finn and Princess Bubblegum. The interior of the plane also has an\n",
            " Rouge: {'rouge1': 0.13043478260869565, 'rouge2': 0.04545454545454545, 'rougeL': 0.13043478260869565, 'rougeLsum': 0.13043478260869565} \n",
            " Bert_Score: {'precision': [0.8640385270118713], 'recall': [0.8323293328285217], 'f1': [0.8478875756263733], 'hashcode': 'roberta-large_L17_no-idf_version=0.3.12(hug_trans=4.38.2)'}\n",
            "Generated text 46: Manning is serving a 35-year prison sentence for leaking thousands of classified documents. She said she will be using a voice phone to\n",
            " Rouge: {'rouge1': 0.8799999999999999, 'rouge2': 0.7916666666666667, 'rougeL': 0.8799999999999999, 'rougeLsum': 0.8799999999999999} \n",
            " Bert_Score: {'precision': [0.9751830101013184], 'recall': [0.9518852233886719], 'f1': [0.9633932709693909], 'hashcode': 'roberta-large_L17_no-idf_version=0.3.12(hug_trans=4.38.2)'}\n",
            "Generated text 47: President Barack Obama tied himself to the mast of a nuclear deal with Iran even before he became the Democratic candidate for president. Peter Bergen\n",
            " Rouge: {'rouge1': 0.2909090909090909, 'rouge2': 0.07547169811320754, 'rougeL': 0.2909090909090909, 'rougeLsum': 0.2909090909090909} \n",
            " Bert_Score: {'precision': [0.853915274143219], 'recall': [0.8368686437606812], 'f1': [0.8453059792518616], 'hashcode': 'roberta-large_L17_no-idf_version=0.3.12(hug_trans=4.38.2)'}\n",
            "Generated text 48: \"Furious 7\" is getting the widest release in Universal's history. It has booked more than 10,500 screens in 63 territories\n",
            " Rouge: {'rouge1': 0.21818181818181817, 'rouge2': 0.07547169811320754, 'rougeL': 0.18181818181818182, 'rougeLsum': 0.18181818181818182} \n",
            " Bert_Score: {'precision': [0.8702916502952576], 'recall': [0.8512316942214966], 'f1': [0.8606561422348022], 'hashcode': 'roberta-large_L17_no-idf_version=0.3.12(hug_trans=4.38.2)'}\n",
            "Generated text 49: Deion Sanders Jr. tweeted that he only eats \"hood doughnuts\" His father reminded him he has a trust fund, a condo\n",
            " Rouge: {'rouge1': 0.37209302325581395, 'rouge2': 0.14634146341463414, 'rougeL': 0.3255813953488372, 'rougeLsum': 0.3255813953488372} \n",
            " Bert_Score: {'precision': [0.8899291753768921], 'recall': [0.8630045056343079], 'f1': [0.8762600421905518], 'hashcode': 'roberta-large_L17_no-idf_version=0.3.12(hug_trans=4.38.2)'}\n"
          ]
        }
      ]
    },
    {
      "cell_type": "code",
      "source": [
        "avg_rouge_1 = sum(rouge_1_scores) / len(rouge_1_scores)\n",
        "avg_rouge_2 = sum(rouge_2_scores) / len(rouge_2_scores)\n",
        "avg_rouge_l = sum(rouge_l_scores) / len(rouge_l_scores)\n",
        "avg_rouge_lsum = sum(rouge_lsum_scores) / len(rouge_lsum_scores)\n",
        "avg_bert_precision = sum(bert_precision_scores) / len(bert_precision_scores)\n",
        "avg_bert_recall = sum(bert_recall_scores) / len(bert_recall_scores)\n",
        "avg_bert_f1 = sum(bert_f1_scores) / len(bert_f1_scores)"
      ],
      "metadata": {
        "id": "dxEuVbQc2BkV"
      },
      "execution_count": null,
      "outputs": []
    },
    {
      "cell_type": "code",
      "source": [
        "print(f\"Average ROUGE-1 F1: {avg_rouge_1}\")\n",
        "print(f\"Average ROUGE-2 F1: {avg_rouge_2}\")\n",
        "print(f\"Average ROUGE-L F1: {avg_rouge_l}\")\n",
        "print(f\"Average ROUGE-LSum F1: {avg_rouge_lsum}\")\n",
        "print(f\"Average BERT Precision: {avg_bert_precision}\")\n",
        "print(f\"Average BERT Recall: {avg_bert_recall}\")\n",
        "print(f\"Average BERT F1: {avg_bert_f1}\")"
      ],
      "metadata": {
        "colab": {
          "base_uri": "https://localhost:8080/"
        },
        "id": "lZ70nPsd2Jj5",
        "outputId": "f7787fb7-8727-444a-a114-c57ee1f7c5ae"
      },
      "execution_count": null,
      "outputs": [
        {
          "output_type": "stream",
          "name": "stdout",
          "text": [
            "Average ROUGE-1 F1: 0.34656756860018945\n",
            "Average ROUGE-2 F1: 0.17562301578724493\n",
            "Average ROUGE-L F1: 0.2866074194233454\n",
            "Average ROUGE-LSum F1: 0.31418048373863267\n",
            "Average BERT Precision: 0.8752924418449402\n",
            "Average BERT Recall: 0.8638383138179779\n",
            "Average BERT F1: 0.8752924418449402\n"
          ]
        }
      ]
    },
    {
      "cell_type": "markdown",
      "source": [
        "# Export Results"
      ],
      "metadata": {
        "id": "awvTqBaYv0hc"
      }
    },
    {
      "cell_type": "code",
      "source": [
        "df.to_csv('Top-P Sampling.csv')"
      ],
      "metadata": {
        "id": "Ddm5CwqFS_R1"
      },
      "execution_count": null,
      "outputs": []
    },
    {
      "cell_type": "code",
      "source": [
        "from google.colab import files\n",
        "files.download('Top-P Sampling.csv')"
      ],
      "metadata": {
        "id": "bT-c8-RfTyoL"
      },
      "execution_count": null,
      "outputs": []
    },
    {
      "cell_type": "markdown",
      "source": [
        "# Coherence\n"
      ],
      "metadata": {
        "id": "PioUPdLrrpbC"
      }
    },
    {
      "cell_type": "code",
      "source": [
        "from nltk import agreement\n",
        "rater1=[5,5,4,5,4,3,5,4,3,4,4,5,4,3,3,4,5,4,4,4]\n",
        "rater2=[5,5,4,5,4,4,5,4,3,4,4,5,4,3,3,4,5,4,4,4]\n",
        "rater3=[5,5,4,5,4,5,5,4,3,4,4,5,4,4,3,4,5,4,4,4]\n",
        "rater4=[5,5,5,3,5,4,5,4,3,4,4,3,4,4,3,5,4,4,5,5]"
      ],
      "metadata": {
        "id": "e9a490YQna8H"
      },
      "execution_count": null,
      "outputs": []
    },
    {
      "cell_type": "markdown",
      "source": [
        "# Factuality"
      ],
      "metadata": {
        "id": "qkRNZgRgrte7"
      }
    },
    {
      "cell_type": "code",
      "source": [
        "rater1 = [4,4,3,4,5,4,5,4,5,5,5,4,5,4,4,5,4,5,5,4]\n",
        "rater2 = [4,3,4,5,5,4,5,4,5,5,5,5,5,4,4,5,5,5,5,5]\n",
        "rater3 = [5,5,5,5,5,5,5,5,5,5,5,5,5,5,5,5,5,5,5,5]\n",
        "rater4 = [4,4,5,3,4,5,3,4,2,3,4,3,4,3,2,5,3,4,5,5]"
      ],
      "metadata": {
        "id": "QvmCGdtFrlIk"
      },
      "execution_count": null,
      "outputs": []
    },
    {
      "cell_type": "markdown",
      "source": [
        "# Formality"
      ],
      "metadata": {
        "id": "UecyUk3nrxmX"
      }
    },
    {
      "cell_type": "code",
      "source": [
        "rater1 = [3,4,4,4,3,4,4,3,4,4,4,4,4,3,4,3,3,4,4,5]\n",
        "rater2 = [3,4,4,5,4,3,4,4,5,4,4,4,3,4,4,4,3,4,4,5]\n",
        "rater3 = [5,4,4,5,4,4,4,4,4,4,4,5,4,4,3,4,5,4,4,4]\n",
        "rater4 = [4,4,4,3,5,4,4,4,3,4,3,3,3,3,2,5,5,3,5,4]"
      ],
      "metadata": {
        "id": "A3FRhKtSrlXV"
      },
      "execution_count": null,
      "outputs": []
    },
    {
      "cell_type": "code",
      "source": [
        "taskdata = [[0, str(i), str(rater1[i])] for i in range(0, len(rater1))] + \\\n",
        "           [[1, str(i), str(rater2[i])] for i in range(0, len(rater2))] + \\\n",
        "           [[2, str(i), str(rater3[i])] for i in range(0, len(rater3))] + \\\n",
        "           [[3, str(i), str(rater4[i])] for i in range(0, len(rater4))]\n",
        "ratingtask = agreement.AnnotationTask(data=taskdata)\n",
        "print(\"alpha \" + str(ratingtask.alpha()))"
      ],
      "metadata": {
        "id": "mfKp5DjXnpdV",
        "colab": {
          "base_uri": "https://localhost:8080/"
        },
        "outputId": "e4692579-bb4b-4f72-ffca-4f189bb9c272"
      },
      "execution_count": null,
      "outputs": [
        {
          "output_type": "stream",
          "name": "stdout",
          "text": [
            "alpha 0.015297450424929027\n"
          ]
        }
      ]
    },
    {
      "cell_type": "code",
      "source": [],
      "metadata": {
        "id": "_jZ8Z7W1oCvz"
      },
      "execution_count": null,
      "outputs": []
    }
  ]
}