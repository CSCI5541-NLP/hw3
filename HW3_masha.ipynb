{
  "cells": [
    {
      "cell_type": "markdown",
      "metadata": {
        "id": "-ifzRLcf6pGs"
      },
      "source": [
        "Task 1"
      ]
    },
    {
      "cell_type": "code",
      "execution_count": 99,
      "metadata": {
        "colab": {
          "base_uri": "https://localhost:8080/"
        },
        "id": "PNu9UwX061se",
        "outputId": "d94346a2-1c73-4554-d688-40e3dc432cd2"
      },
      "outputs": [
        {
          "output_type": "stream",
          "name": "stdout",
          "text": [
            "Requirement already satisfied: datasets in /usr/local/lib/python3.10/dist-packages (2.18.0)\n",
            "Requirement already satisfied: filelock in /usr/local/lib/python3.10/dist-packages (from datasets) (3.13.1)\n",
            "Requirement already satisfied: numpy>=1.17 in /usr/local/lib/python3.10/dist-packages (from datasets) (1.25.2)\n",
            "Requirement already satisfied: pyarrow>=12.0.0 in /usr/local/lib/python3.10/dist-packages (from datasets) (14.0.2)\n",
            "Requirement already satisfied: pyarrow-hotfix in /usr/local/lib/python3.10/dist-packages (from datasets) (0.6)\n",
            "Requirement already satisfied: dill<0.3.9,>=0.3.0 in /usr/local/lib/python3.10/dist-packages (from datasets) (0.3.8)\n",
            "Requirement already satisfied: pandas in /usr/local/lib/python3.10/dist-packages (from datasets) (1.5.3)\n",
            "Requirement already satisfied: requests>=2.19.0 in /usr/local/lib/python3.10/dist-packages (from datasets) (2.31.0)\n",
            "Requirement already satisfied: tqdm>=4.62.1 in /usr/local/lib/python3.10/dist-packages (from datasets) (4.66.2)\n",
            "Requirement already satisfied: xxhash in /usr/local/lib/python3.10/dist-packages (from datasets) (3.4.1)\n",
            "Requirement already satisfied: multiprocess in /usr/local/lib/python3.10/dist-packages (from datasets) (0.70.16)\n",
            "Requirement already satisfied: fsspec[http]<=2024.2.0,>=2023.1.0 in /usr/local/lib/python3.10/dist-packages (from datasets) (2023.6.0)\n",
            "Requirement already satisfied: aiohttp in /usr/local/lib/python3.10/dist-packages (from datasets) (3.9.3)\n",
            "Requirement already satisfied: huggingface-hub>=0.19.4 in /usr/local/lib/python3.10/dist-packages (from datasets) (0.20.3)\n",
            "Requirement already satisfied: packaging in /usr/local/lib/python3.10/dist-packages (from datasets) (24.0)\n",
            "Requirement already satisfied: pyyaml>=5.1 in /usr/local/lib/python3.10/dist-packages (from datasets) (6.0.1)\n",
            "Requirement already satisfied: aiosignal>=1.1.2 in /usr/local/lib/python3.10/dist-packages (from aiohttp->datasets) (1.3.1)\n",
            "Requirement already satisfied: attrs>=17.3.0 in /usr/local/lib/python3.10/dist-packages (from aiohttp->datasets) (23.2.0)\n",
            "Requirement already satisfied: frozenlist>=1.1.1 in /usr/local/lib/python3.10/dist-packages (from aiohttp->datasets) (1.4.1)\n",
            "Requirement already satisfied: multidict<7.0,>=4.5 in /usr/local/lib/python3.10/dist-packages (from aiohttp->datasets) (6.0.5)\n",
            "Requirement already satisfied: yarl<2.0,>=1.0 in /usr/local/lib/python3.10/dist-packages (from aiohttp->datasets) (1.9.4)\n",
            "Requirement already satisfied: async-timeout<5.0,>=4.0 in /usr/local/lib/python3.10/dist-packages (from aiohttp->datasets) (4.0.3)\n",
            "Requirement already satisfied: typing-extensions>=3.7.4.3 in /usr/local/lib/python3.10/dist-packages (from huggingface-hub>=0.19.4->datasets) (4.10.0)\n",
            "Requirement already satisfied: charset-normalizer<4,>=2 in /usr/local/lib/python3.10/dist-packages (from requests>=2.19.0->datasets) (3.3.2)\n",
            "Requirement already satisfied: idna<4,>=2.5 in /usr/local/lib/python3.10/dist-packages (from requests>=2.19.0->datasets) (3.6)\n",
            "Requirement already satisfied: urllib3<3,>=1.21.1 in /usr/local/lib/python3.10/dist-packages (from requests>=2.19.0->datasets) (2.0.7)\n",
            "Requirement already satisfied: certifi>=2017.4.17 in /usr/local/lib/python3.10/dist-packages (from requests>=2.19.0->datasets) (2024.2.2)\n",
            "Requirement already satisfied: python-dateutil>=2.8.1 in /usr/local/lib/python3.10/dist-packages (from pandas->datasets) (2.8.2)\n",
            "Requirement already satisfied: pytz>=2020.1 in /usr/local/lib/python3.10/dist-packages (from pandas->datasets) (2023.4)\n",
            "Requirement already satisfied: six>=1.5 in /usr/local/lib/python3.10/dist-packages (from python-dateutil>=2.8.1->pandas->datasets) (1.16.0)\n"
          ]
        }
      ],
      "source": [
        "!pip install datasets"
      ]
    },
    {
      "cell_type": "code",
      "execution_count": 100,
      "metadata": {
        "id": "w87EM9eIdC5M"
      },
      "outputs": [],
      "source": [
        "from transformers import AutoTokenizer, AutoModelForCausalLM\n",
        "import torch\n",
        "from tqdm import tqdm"
      ]
    },
    {
      "cell_type": "code",
      "execution_count": 101,
      "metadata": {
        "id": "A7pGOK7pxXkk"
      },
      "outputs": [],
      "source": [
        "\n",
        "tokenizer = AutoTokenizer.from_pretrained(\"gpt2\")\n",
        "tokenizer.pad_token_id = tokenizer.eos_token_id\n",
        "model = AutoModelForCausalLM.from_pretrained(\"gpt2\")"
      ]
    },
    {
      "cell_type": "code",
      "execution_count": 102,
      "metadata": {
        "colab": {
          "base_uri": "https://localhost:8080/"
        },
        "id": "qM4dyW8hJLbO",
        "outputId": "3c01f376-6cb7-4038-d146-40669ddfac5e"
      },
      "outputs": [
        {
          "output_type": "execute_result",
          "data": {
            "text/plain": [
              "['Today I believe we can finally get to the point where we can make a difference in the lives of the people of the United States of America.\\n']"
            ]
          },
          "metadata": {},
          "execution_count": 102
        }
      ],
      "source": [
        "prompt = \"Today I believe we can finally\"\n",
        "input_ids = tokenizer(prompt, return_tensors=\"pt\").input_ids\n",
        "\n",
        "outputs = model.generate(input_ids, num_beams=1, do_sample=False, max_length=30, pad_token_id=tokenizer.eos_token_id)\n",
        "generated_text = tokenizer.batch_decode(outputs, skip_special_tokens=True)\n",
        "generated_text"
      ]
    },
    {
      "cell_type": "code",
      "source": [
        "encodings = tokenizer(generated_text, return_tensors=\"pt\").input_ids"
      ],
      "metadata": {
        "id": "BSkN-gz_V5kP"
      },
      "execution_count": 103,
      "outputs": []
    },
    {
      "cell_type": "code",
      "execution_count": 104,
      "metadata": {
        "colab": {
          "base_uri": "https://localhost:8080/"
        },
        "id": "naDZJeW2a-dB",
        "outputId": "9a86394d-2d17-40dd-ac21-16287dac9a57"
      },
      "outputs": [
        {
          "output_type": "stream",
          "name": "stderr",
          "text": [
            "  0%|          | 0/1 [00:00<?, ?it/s]\n"
          ]
        },
        {
          "output_type": "execute_result",
          "data": {
            "text/plain": [
              "tensor(6.2287)"
            ]
          },
          "metadata": {},
          "execution_count": 104
        }
      ],
      "source": [
        "device = \"cpu\"\n",
        "max_length = model.config.n_positions\n",
        "stride = 512\n",
        "seq_len = encodings.size(1)\n",
        "\n",
        "nlls = []\n",
        "prev_end_loc = 0\n",
        "for begin_loc in tqdm(range(0, seq_len, stride)):\n",
        "    end_loc = min(begin_loc + max_length, seq_len)\n",
        "    trg_len = end_loc - prev_end_loc  # may be different from stride on last loop\n",
        "    input_ids = encodings[:, begin_loc:end_loc].to(device)\n",
        "    target_ids = input_ids.clone()\n",
        "    target_ids[:, :-trg_len] = -100\n",
        "\n",
        "    with torch.no_grad():\n",
        "        outputs = model(input_ids, labels=target_ids)\n",
        "\n",
        "        # loss is calculated using CrossEntropyLoss which averages over valid labels\n",
        "        # N.B. the model only calculates loss over trg_len - 1 labels, because it internally shifts the labels\n",
        "        # to the left by 1.\n",
        "        neg_log_likelihood = outputs.loss\n",
        "\n",
        "    nlls.append(neg_log_likelihood)\n",
        "\n",
        "    prev_end_loc = end_loc\n",
        "    if end_loc == seq_len:\n",
        "        break\n",
        "\n",
        "ppl = torch.exp(torch.stack(nlls).mean())\n",
        "ppl"
      ]
    },
    {
      "cell_type": "code",
      "execution_count": 106,
      "metadata": {
        "colab": {
          "base_uri": "https://localhost:8080/"
        },
        "id": "aPVuu7-5JrKl",
        "outputId": "69333323-f9f4-4b42-aba1-c9f121e3b053"
      },
      "outputs": [
        {
          "output_type": "execute_result",
          "data": {
            "text/plain": [
              "[\"With a heavy heart, I am going to take a break from the game and focus on the next game. I'm going to focus on the next\"]"
            ]
          },
          "metadata": {},
          "execution_count": 106
        }
      ],
      "source": [
        "prompt = \"With a heavy heart\"\n",
        "input_ids = tokenizer(prompt, return_tensors=\"pt\").input_ids\n",
        "outputs1 = model.generate(input_ids, num_beams=1, do_sample=False, max_length=30, pad_token_id=tokenizer.eos_token_id)\n",
        "generated_text = tokenizer.batch_decode(outputs1, skip_special_tokens=True)\n",
        "generated_text"
      ]
    },
    {
      "cell_type": "code",
      "source": [
        "encodings = tokenizer(generated_text, return_tensors=\"pt\").input_ids"
      ],
      "metadata": {
        "id": "rf9LTNNMXGSb"
      },
      "execution_count": 107,
      "outputs": []
    },
    {
      "cell_type": "code",
      "execution_count": 108,
      "metadata": {
        "colab": {
          "base_uri": "https://localhost:8080/"
        },
        "id": "Jnt9t_MLdKPG",
        "outputId": "da8bb6c3-deab-4b37-a231-e19a3907763b"
      },
      "outputs": [
        {
          "output_type": "stream",
          "name": "stderr",
          "text": [
            "  0%|          | 0/1 [00:00<?, ?it/s]\n"
          ]
        },
        {
          "output_type": "execute_result",
          "data": {
            "text/plain": [
              "tensor(6.2029)"
            ]
          },
          "metadata": {},
          "execution_count": 108
        }
      ],
      "source": [
        "device = \"cpu\"\n",
        "max_length = model.config.n_positions\n",
        "stride = 512\n",
        "seq_len = encodings.size(1)\n",
        "\n",
        "nlls = []\n",
        "prev_end_loc = 0\n",
        "for begin_loc in tqdm(range(0, seq_len, stride)):\n",
        "    end_loc = min(begin_loc + max_length, seq_len)\n",
        "    trg_len = end_loc - prev_end_loc  # may be different from stride on last loop\n",
        "    input_ids = encodings[:, begin_loc:end_loc].to(device)\n",
        "    target_ids = input_ids.clone()\n",
        "    target_ids[:, :-trg_len] = -100\n",
        "\n",
        "    with torch.no_grad():\n",
        "        outputs = model(input_ids, labels=target_ids)\n",
        "\n",
        "        # loss is calculated using CrossEntropyLoss which averages over valid labels\n",
        "        # N.B. the model only calculates loss over trg_len - 1 labels, because it internally shifts the labels\n",
        "        # to the left by 1.\n",
        "        neg_log_likelihood = outputs.loss\n",
        "\n",
        "    nlls.append(neg_log_likelihood)\n",
        "\n",
        "    prev_end_loc = end_loc\n",
        "    if end_loc == seq_len:\n",
        "        break\n",
        "\n",
        "ppl = torch.exp(torch.stack(nlls).mean())\n",
        "ppl"
      ]
    },
    {
      "cell_type": "code",
      "execution_count": 110,
      "metadata": {
        "colab": {
          "base_uri": "https://localhost:8080/"
        },
        "id": "9boBTpNRLJDc",
        "outputId": "3b5eb225-abb1-40d8-d6e4-e3b32f1e2ce7"
      },
      "outputs": [
        {
          "output_type": "execute_result",
          "data": {
            "text/plain": [
              "['Standing on the edge of the cliff, the two men were able to get out of the way of the two men\\'s pursuers.\\n\\n\"']"
            ]
          },
          "metadata": {},
          "execution_count": 110
        }
      ],
      "source": [
        "prompt = \"Standing on the edge\"\n",
        "input_ids = tokenizer(prompt, return_tensors=\"pt\").input_ids\n",
        "outputs2 = model.generate(input_ids, num_beams=1, do_sample=False, max_length=30, pad_token_id=tokenizer.eos_token_id)\n",
        "generated_text = tokenizer.batch_decode(outputs2, skip_special_tokens=True)\n",
        "generated_text"
      ]
    },
    {
      "cell_type": "code",
      "source": [
        "encodings = tokenizer(generated_text, return_tensors=\"pt\").input_ids"
      ],
      "metadata": {
        "id": "rWuhyIBxXlnx"
      },
      "execution_count": 111,
      "outputs": []
    },
    {
      "cell_type": "code",
      "execution_count": 112,
      "metadata": {
        "colab": {
          "base_uri": "https://localhost:8080/"
        },
        "id": "wLwD54MzdOpu",
        "outputId": "372cad54-bd21-4507-a83b-6b28467e8f42"
      },
      "outputs": [
        {
          "output_type": "stream",
          "name": "stderr",
          "text": [
            "  0%|          | 0/1 [00:00<?, ?it/s]\n"
          ]
        },
        {
          "output_type": "execute_result",
          "data": {
            "text/plain": [
              "tensor(6.5713)"
            ]
          },
          "metadata": {},
          "execution_count": 112
        }
      ],
      "source": [
        "device = \"cpu\"\n",
        "max_length = model.config.n_positions\n",
        "stride = 512\n",
        "seq_len = encodings.size(1)\n",
        "\n",
        "nlls = []\n",
        "prev_end_loc = 0\n",
        "for begin_loc in tqdm(range(0, seq_len, stride)):\n",
        "    end_loc = min(begin_loc + max_length, seq_len)\n",
        "    trg_len = end_loc - prev_end_loc  # may be different from stride on last loop\n",
        "    input_ids = encodings[:, begin_loc:end_loc].to(device)\n",
        "    target_ids = input_ids.clone()\n",
        "    target_ids[:, :-trg_len] = -100\n",
        "\n",
        "    with torch.no_grad():\n",
        "        outputs = model(input_ids, labels=target_ids)\n",
        "\n",
        "        # loss is calculated using CrossEntropyLoss which averages over valid labels\n",
        "        # N.B. the model only calculates loss over trg_len - 1 labels, because it internally shifts the labels\n",
        "        # to the left by 1.\n",
        "        neg_log_likelihood = outputs.loss\n",
        "\n",
        "    nlls.append(neg_log_likelihood)\n",
        "\n",
        "    prev_end_loc = end_loc\n",
        "    if end_loc == seq_len:\n",
        "        break\n",
        "\n",
        "ppl = torch.exp(torch.stack(nlls).mean())\n",
        "ppl"
      ]
    },
    {
      "cell_type": "code",
      "execution_count": 113,
      "metadata": {
        "id": "AZlkFJlmTUrv"
      },
      "outputs": [],
      "source": [
        "prompt = \"Surrounded by strangers\"\n",
        "input_ids = tokenizer(prompt, return_tensors=\"pt\").input_ids\n",
        "outputs3 = model.generate(input_ids, num_beams=1, do_sample=False, max_length=30, pad_token_id=tokenizer.eos_token_id)\n",
        "generated_text = tokenizer.batch_decode(outputs3, skip_special_tokens=True)"
      ]
    },
    {
      "cell_type": "code",
      "source": [
        "encodings = tokenizer(generated_text, return_tensors=\"pt\").input_ids"
      ],
      "metadata": {
        "id": "M8j_Uaw6YSqS"
      },
      "execution_count": 114,
      "outputs": []
    },
    {
      "cell_type": "code",
      "execution_count": 115,
      "metadata": {
        "colab": {
          "base_uri": "https://localhost:8080/"
        },
        "id": "by4kdoLtdQlR",
        "outputId": "dba4ea07-f3d0-47ec-af74-a5aebe321f21"
      },
      "outputs": [
        {
          "output_type": "stream",
          "name": "stderr",
          "text": [
            "  0%|          | 0/1 [00:00<?, ?it/s]\n"
          ]
        },
        {
          "output_type": "execute_result",
          "data": {
            "text/plain": [
              "tensor(9.0802)"
            ]
          },
          "metadata": {},
          "execution_count": 115
        }
      ],
      "source": [
        "device = \"cpu\"\n",
        "max_length = model.config.n_positions\n",
        "stride = 512\n",
        "seq_len = encodings.size(1)\n",
        "\n",
        "nlls = []\n",
        "prev_end_loc = 0\n",
        "for begin_loc in tqdm(range(0, seq_len, stride)):\n",
        "    end_loc = min(begin_loc + max_length, seq_len)\n",
        "    trg_len = end_loc - prev_end_loc  # may be different from stride on last loop\n",
        "    input_ids = encodings[:, begin_loc:end_loc].to(device)\n",
        "    target_ids = input_ids.clone()\n",
        "    target_ids[:, :-trg_len] = -100\n",
        "\n",
        "    with torch.no_grad():\n",
        "        outputs = model(input_ids, labels=target_ids)\n",
        "\n",
        "        # loss is calculated using CrossEntropyLoss which averages over valid labels\n",
        "        # N.B. the model only calculates loss over trg_len - 1 labels, because it internally shifts the labels\n",
        "        # to the left by 1.\n",
        "        neg_log_likelihood = outputs.loss\n",
        "\n",
        "    nlls.append(neg_log_likelihood)\n",
        "\n",
        "    prev_end_loc = end_loc\n",
        "    if end_loc == seq_len:\n",
        "        break\n",
        "\n",
        "ppl = torch.exp(torch.stack(nlls).mean())\n",
        "ppl"
      ]
    },
    {
      "cell_type": "code",
      "execution_count": 116,
      "metadata": {
        "colab": {
          "base_uri": "https://localhost:8080/"
        },
        "id": "ga7aqO8JWzUY",
        "outputId": "4ed67f20-ff72-4682-992c-d7a3b93ccd37"
      },
      "outputs": [
        {
          "output_type": "execute_result",
          "data": {
            "text/plain": [
              "['Caught in a dilemma, the two men are forced to fight for their lives.\\n\\nThe film is set in the same year as the first']"
            ]
          },
          "metadata": {},
          "execution_count": 116
        }
      ],
      "source": [
        "prompt = \"Caught in a dilemma,\"\n",
        "input_ids = tokenizer(prompt, return_tensors=\"pt\").input_ids\n",
        "outputs4 = model.generate(input_ids, num_beams=1, do_sample=False, max_length=30, pad_token_id=tokenizer.eos_token_id)\n",
        "generated_text = tokenizer.batch_decode(outputs4, skip_special_tokens=True)\n",
        "generated_text"
      ]
    },
    {
      "cell_type": "code",
      "source": [
        "encodings = tokenizer(generated_text, return_tensors=\"pt\").input_ids"
      ],
      "metadata": {
        "id": "V28jlpy8Yeuy"
      },
      "execution_count": 117,
      "outputs": []
    },
    {
      "cell_type": "code",
      "execution_count": 118,
      "metadata": {
        "colab": {
          "base_uri": "https://localhost:8080/"
        },
        "id": "1L3en8IcdSr9",
        "outputId": "70033481-4eb6-4316-b964-df4efa5f0847"
      },
      "outputs": [
        {
          "output_type": "stream",
          "name": "stderr",
          "text": [
            "  0%|          | 0/1 [00:00<?, ?it/s]\n"
          ]
        },
        {
          "output_type": "execute_result",
          "data": {
            "text/plain": [
              "tensor(10.4501)"
            ]
          },
          "metadata": {},
          "execution_count": 118
        }
      ],
      "source": [
        "device = \"cpu\"\n",
        "max_length = model.config.n_positions\n",
        "stride = 512\n",
        "seq_len = encodings.size(1)\n",
        "\n",
        "nlls = []\n",
        "prev_end_loc = 0\n",
        "for begin_loc in tqdm(range(0, seq_len, stride)):\n",
        "    end_loc = min(begin_loc + max_length, seq_len)\n",
        "    trg_len = end_loc - prev_end_loc  # may be different from stride on last loop\n",
        "    input_ids = encodings[:, begin_loc:end_loc].to(device)\n",
        "    target_ids = input_ids.clone()\n",
        "    target_ids[:, :-trg_len] = -100\n",
        "\n",
        "    with torch.no_grad():\n",
        "        outputs = model(input_ids, labels=target_ids)\n",
        "\n",
        "        # loss is calculated using CrossEntropyLoss which averages over valid labels\n",
        "        # N.B. the model only calculates loss over trg_len - 1 labels, because it internally shifts the labels\n",
        "        # to the left by 1.\n",
        "        neg_log_likelihood = outputs.loss\n",
        "\n",
        "    nlls.append(neg_log_likelihood)\n",
        "\n",
        "    prev_end_loc = end_loc\n",
        "    if end_loc == seq_len:\n",
        "        break\n",
        "\n",
        "ppl = torch.exp(torch.stack(nlls).mean())\n",
        "ppl"
      ]
    },
    {
      "cell_type": "code",
      "execution_count": 120,
      "metadata": {
        "colab": {
          "base_uri": "https://localhost:8080/"
        },
        "id": "xzXSb7A5TcG4",
        "outputId": "bded5187-cb37-447b-840d-e8c170c1cd79"
      },
      "outputs": [
        {
          "output_type": "execute_result",
          "data": {
            "text/plain": [
              "['At the crossroads of the two worlds, the two worlds are not the same. The two worlds are not the same. The two worlds are not']"
            ]
          },
          "metadata": {},
          "execution_count": 120
        }
      ],
      "source": [
        "prompt = \"At the crossroads\"\n",
        "input_ids = tokenizer(prompt, return_tensors=\"pt\").input_ids\n",
        "outputs5 = model.generate(input_ids, num_beams=1, do_sample=False, max_length=30, pad_token_id=tokenizer.eos_token_id)\n",
        "generated_text = tokenizer.batch_decode(outputs5, skip_special_tokens=True)\n",
        "generated_text"
      ]
    },
    {
      "cell_type": "code",
      "source": [
        "encodings = tokenizer(generated_text, return_tensors=\"pt\").input_ids"
      ],
      "metadata": {
        "id": "oCdrPPWAYqqp"
      },
      "execution_count": 121,
      "outputs": []
    },
    {
      "cell_type": "code",
      "execution_count": 122,
      "metadata": {
        "colab": {
          "base_uri": "https://localhost:8080/"
        },
        "id": "D6F9xruMdU1l",
        "outputId": "162cf446-2fc2-44c0-a85b-a119cb3ffdc5"
      },
      "outputs": [
        {
          "output_type": "stream",
          "name": "stderr",
          "text": [
            "  0%|          | 0/1 [00:00<?, ?it/s]\n"
          ]
        },
        {
          "output_type": "execute_result",
          "data": {
            "text/plain": [
              "tensor(5.3548)"
            ]
          },
          "metadata": {},
          "execution_count": 122
        }
      ],
      "source": [
        "device = \"cpu\"\n",
        "max_length = model.config.n_positions\n",
        "stride = 512\n",
        "seq_len = encodings.size(1)\n",
        "\n",
        "nlls = []\n",
        "prev_end_loc = 0\n",
        "for begin_loc in tqdm(range(0, seq_len, stride)):\n",
        "    end_loc = min(begin_loc + max_length, seq_len)\n",
        "    trg_len = end_loc - prev_end_loc  # may be different from stride on last loop\n",
        "    input_ids = encodings[:, begin_loc:end_loc].to(device)\n",
        "    target_ids = input_ids.clone()\n",
        "    target_ids[:, :-trg_len] = -100\n",
        "\n",
        "    with torch.no_grad():\n",
        "        outputs = model(input_ids, labels=target_ids)\n",
        "\n",
        "        # loss is calculated using CrossEntropyLoss which averages over valid labels\n",
        "        # N.B. the model only calculates loss over trg_len - 1 labels, because it internally shifts the labels\n",
        "        # to the left by 1.\n",
        "        neg_log_likelihood = outputs.loss\n",
        "\n",
        "    nlls.append(neg_log_likelihood)\n",
        "\n",
        "    prev_end_loc = end_loc\n",
        "    if end_loc == seq_len:\n",
        "        break\n",
        "\n",
        "ppl = torch.exp(torch.stack(nlls).mean())\n",
        "ppl"
      ]
    },
    {
      "cell_type": "markdown",
      "metadata": {
        "id": "zqS3HEQi6llT"
      },
      "source": [
        "Task 2"
      ]
    },
    {
      "cell_type": "code",
      "execution_count": 127,
      "metadata": {
        "id": "OAkr09az6j6f"
      },
      "outputs": [],
      "source": [
        "from datasets import load_dataset\n",
        "dataset = load_dataset('cnn_dailymail', '1.0.0')\n"
      ]
    },
    {
      "cell_type": "code",
      "execution_count": 128,
      "metadata": {
        "colab": {
          "base_uri": "https://localhost:8080/"
        },
        "id": "rtFWlLhJ93Fd",
        "outputId": "08995f00-0fab-4e38-bfac-468a5cc208bf"
      },
      "outputs": [
        {
          "output_type": "execute_result",
          "data": {
            "text/plain": [
              "DatasetDict({\n",
              "    train: Dataset({\n",
              "        features: ['article', 'highlights', 'id'],\n",
              "        num_rows: 287113\n",
              "    })\n",
              "    validation: Dataset({\n",
              "        features: ['article', 'highlights', 'id'],\n",
              "        num_rows: 13368\n",
              "    })\n",
              "    test: Dataset({\n",
              "        features: ['article', 'highlights', 'id'],\n",
              "        num_rows: 11490\n",
              "    })\n",
              "})"
            ]
          },
          "metadata": {},
          "execution_count": 128
        }
      ],
      "source": [
        "dataset"
      ]
    },
    {
      "cell_type": "code",
      "execution_count": 129,
      "metadata": {
        "id": "q2k8F9_R-B2r"
      },
      "outputs": [],
      "source": [
        "# Load model directly\n",
        "from transformers import AutoTokenizer, AutoModelForSeq2SeqLM\n",
        "\n",
        "tokenizer = AutoTokenizer.from_pretrained(\"facebook/bart-large-cnn\")\n",
        "model = AutoModelForSeq2SeqLM.from_pretrained(\"facebook/bart-large-cnn\")\n",
        "# tokenizer = AutoTokenizer.from_pretrained(\"gniemiec/t5-small-finetuned-xsum\")\n",
        "# model = AutoModelForSeq2SeqLM.from_pretrained(\"gniemiec/t5-small-finetuned-xsum\")"
      ]
    },
    {
      "cell_type": "code",
      "execution_count": 131,
      "metadata": {
        "id": "72PNtwo4AS4H"
      },
      "outputs": [],
      "source": [
        "test_dataset = dataset[\"test\"]\n",
        "\n",
        "sentence_list = []\n",
        "# Iterate through elements in the test dataset\n",
        "counter = 0\n",
        "for item in test_dataset:\n",
        "  if counter == 50:\n",
        "    break\n",
        "  # Access and process each item in the test dataset\n",
        "\n",
        "  sentence_list.append(item[\"article\"])\n",
        "  counter += 1"
      ]
    },
    {
      "cell_type": "code",
      "source": [
        "len(sentence_list[14])"
      ],
      "metadata": {
        "colab": {
          "base_uri": "https://localhost:8080/"
        },
        "id": "Z7pMC8GQbvLu",
        "outputId": "8f892342-8b82-4ec5-c379-ba431c5a31d7"
      },
      "execution_count": 138,
      "outputs": [
        {
          "output_type": "execute_result",
          "data": {
            "text/plain": [
              "1619"
            ]
          },
          "metadata": {},
          "execution_count": 138
        }
      ]
    },
    {
      "cell_type": "code",
      "source": [
        "max_length = tokenizer.model_max_length\n",
        "print(\"Maximum sequence length for this BART model:\", max_length)"
      ],
      "metadata": {
        "colab": {
          "base_uri": "https://localhost:8080/"
        },
        "id": "p1Hgg8IpcWEO",
        "outputId": "79f9c864-7338-4fbe-ee56-dc76816520b4"
      },
      "execution_count": 139,
      "outputs": [
        {
          "output_type": "stream",
          "name": "stdout",
          "text": [
            "Maximum sequence length for this BART model: 1024\n"
          ]
        }
      ]
    },
    {
      "cell_type": "code",
      "execution_count": 142,
      "metadata": {
        "colab": {
          "base_uri": "https://localhost:8080/"
        },
        "id": "w2T_iF2nAafS",
        "outputId": "273d9825-fd86-4b19-fd8d-49c2016b1d05"
      },
      "outputs": [
        {
          "output_type": "stream",
          "name": "stdout",
          "text": [
            "['The Palestinian Authority becomes the 123rd member of the International Criminal Court. The move gives the court jurisdiction over alleged crimes in Palestinian territories.']\n",
            "['A dog apparently hit by a car and buried in a field survives. The dog, now named Theia, was found emaciated']\n",
            "[\"Mohammad Javad Zarif is the Iranian foreign minister. He has been John Kerry's opposite number in securing a breakthrough in nuclear discussions\"]\n",
            "['The five were exposed to Ebola in Sierra Leone in March. None developed the deadly virus. They are clinicians for Partners in Health, a']\n",
            "['The student admitted to hanging the noose, Duke University says. The student is no longer on campus and will face student conduct review.']\n",
            "['Trey Moses, a star basketball player, asked Ellie Meredith, a freshman with Down syndrome, to be his prom date. Photos of']\n",
            "[\"Amnesty International says governments are using the threat of terrorism to advance executions. The organization's annual report catalogs the use of state-\"]\n",
            "['Andrew Getty, 47, was found dead in his home. He was the grandson of oil tycoon J. Paul Getty. The Getty']\n",
            "[\"Maysak gained super typhoon status just a few days ago. It's now a tropical storm, but still packing winds\"]\n",
            "['Bob Barker returned to \"The Price Is Right\" for the first time in eight years. Barker hosted the show for 35 years before stepping']\n",
            "[\"Yahya Rashid, 19, was arrested at Luton airport on Tuesday. He's charged with engaging in conduct in preparation of\"]\n",
            "['Paul Walker died in a car crash in November 2013. The film \"Furious 7\" is released Friday. There have been multiple t']\n",
            "['Anne Frank died of typhus in a Nazi concentration camp at the age of 15. The date of death had previously been determined by Dutch']\n",
            "['Mike Pence is drawing huge heat for his controversial decision to sign a religious freedom law. Julian Zelizer: The issue of LGBT rights will']\n",
            "[\"Mötley Crüe's Vince Neil butchered the song at an Arena Football League game. The late Whitney\"]\n",
            "[\"Walmart's opposition to Indiana and Arkansas religious freedom laws is latest sign of growing support for gay rights. The company is emerging\"]\n",
            "['Amnesty International releases its annual review of the death penalty worldwide. Amnesty International: Governments using death penalty in misguided attempt to tackle crime.']\n",
            "[\"French prosecutor says he's not aware of any video footage from on board the plane. German media reports that they have found cell phone video\"]\n",
            "['The Rev. Robert H. Schuller was diagnosed with esophageal cancer in August 2013. He was also the founder of']\n",
            "['Michele Bachmann compared President Obama to the co-pilot of the doomed Germanwings flight. Bachmann is a former Republican']\n",
            "['Louis Jordan, 37, was found by a container ship hundreds of miles from land. He had been at sea for more than two months']\n",
            "['U.S. and its negotiating partners reached a strong framework agreement with Iran on its nuclear program. Peter Bergen: The']\n",
            "['California is a breadbasket to the nation, growing more than a third of its vegetables. The drought is affecting other states, too']\n",
            "[\"Keonna Thomas, 30, is charged with trying to travel overseas to fight for ISIS. She's one of three women arrested this week\"]\n",
            "['Iranian sports official says women will be allowed to attend some sports events. The ban was imposed after the Islamic Revolution in 1979. FIFA']\n",
            "['Online activity has become the alternative to traditional mainstream media in authoritarian countries. But it still brings resistance, some of it legal,']\n",
            "['Avril Lavigne says she was bedridden for five months after contracting Lyme disease. \"I felt like I couldn\\'t breathe, I']\n",
            "[\"Mike Tyson lived in a gaudy, abandoned mansion in Ohio in the 1980s and '90s. The home featured an indoor\"]\n",
            "['Israeli Prime Minister Benjamin Netanyahu says he sees better options than \"this bad deal or war\" His comments come as Democrats and Republicans spar over']\n",
            "[\"Memories Pizza in Indiana refused to cater a same-sex couple's wedding. Critics said the new law would allow businesses to discriminate against\"]\n",
            "['Police in Malegaon, India, are requiring identity cards for residents of the city. The order follows a recent state-wide ban']\n",
            "[\"It's hard to swallow the idea of a single person being stranded at sea for days, weeks, if not months and somehow\"]\n",
            "['The Large Hadron Collider (LHC) is the largest particle accelerator in the world. The purpose of the project is to recreate the']\n",
            "['Kevone Charleston, 36, is suspected of 32 commercial robberies dating to November 2013. He was shot and wounded by FBI agents and']\n",
            "[\"The total lunar eclipse will last nearly five minutes. It will be visible from western North America. It's the shortest total lunar\"]\n",
            "['Al-Shabaab has claimed an attack on Garissa University College in eastern Kenya. The attack is another step in the ongoing escalation']\n",
            "[\"Easter is a cornerstone event in the Christian faith, but it's surrounded by interesting quirks. Unlike Christmas, it doesn't fall on\"]\n",
            "['The NCAA says it has no legal responsibility to ensure the academic integrity of courses offered to student-athletes. The NCAA has']\n",
            "['A Connecticut teen who has been forced to have chemotherapy will remain in temporary custody. The 17-year-old is in remission after nearly']\n",
            "['\"Uptown Funk!\" is the longest-leading Billboard Hot 100 of the 2010s. It\\'s also just the 10th single']\n",
            "[\"The temperature was recorded at Argentina's Esperanza Base. The World Meteorological Organization is setting up an ad-hoc committee. Researchers\"]\n",
            "['The U.S. Religious Freedom Restoration Act was passed in 1993. 20 states have some version of the law, but claims']\n",
            "[\"Robert Lewis Burns Jr. was part of the genre-defining band's original lineup. He died after his car hit a mailbox and\"]\n",
            "['Kim Ki-Jong is charged with attempted murder, assault and business obstruction. U.S. Ambassador Mark Lippert was stabbed']\n",
            "['Rurik Jutting, 29, is charged with two counts of murder in Hong Kong. A court hearing to determine whether there']\n",
            "['Thai Smile unveils colorful new livery featuring Jake, Finn and Princess Bubblegum. The interior of the plane also has an']\n",
            "['Manning is serving a 35-year prison sentence for leaking thousands of classified documents. She said she will be using a voice phone to']\n",
            "[\"President Obama has a huge political stake in the Iran nuclear talks, says Peter Bergen. He says the President's political standing\"]\n",
            "['\"Furious 7\" is getting the widest release in Universal\\'s history. It has booked more than 10,500 screens in 63 territories']\n",
            "['Deion Sanders Jr. tweeted that he only eats \"hood doughnuts\" His father responded, reminding him he has a trust fund,']\n"
          ]
        }
      ],
      "source": [
        "for i in range(len(sentence_list)):\n",
        "  input_ids = tokenizer(sentence_list[i], return_tensors=\"pt\", max_length=1024, truncation=True).input_ids\n",
        "  outputs1 = model.generate(input_ids, num_beams=1, do_sample=False, max_length=30)\n",
        "  print(tokenizer.batch_decode(outputs1, skip_special_tokens=True))\n"
      ]
    },
    {
      "cell_type": "code",
      "source": [
        "for i in range(len(sentence_list)):\n",
        "  print(sentence_list[i][:1024])"
      ],
      "metadata": {
        "colab": {
          "base_uri": "https://localhost:8080/"
        },
        "id": "ECl4b8fffvIW",
        "outputId": "59693caa-5461-4413-d35d-aecdf95ccfb1"
      },
      "execution_count": 145,
      "outputs": [
        {
          "output_type": "stream",
          "name": "stdout",
          "text": [
            "(CNN)The Palestinian Authority officially became the 123rd member of the International Criminal Court on Wednesday, a step that gives the court jurisdiction over alleged crimes in Palestinian territories. The formal accession was marked with a ceremony at The Hague, in the Netherlands, where the court is based. The Palestinians signed the ICC's founding Rome Statute in January, when they also accepted its jurisdiction over alleged crimes committed \"in the occupied Palestinian territory, including East Jerusalem, since June 13, 2014.\" Later that month, the ICC opened a preliminary examination into the situation in Palestinian territories, paving the way for possible war crimes investigations against Israelis. As members of the court, Palestinians may be subject to counter-charges as well. Israel and the United States, neither of which is an ICC member, opposed the Palestinians' efforts to join the body. But Palestinian Foreign Minister Riad al-Malki, speaking at Wednesday's ceremony, said it was a move toward \n",
            "(CNN)Never mind cats having nine lives. A stray pooch in Washington State has used up at least three of her own after being hit by a car, apparently whacked on the head with a hammer in a misguided mercy killing and then buried in a field -- only to survive. That's according to Washington State University, where the dog -- a friendly white-and-black bully breed mix now named Theia -- has been receiving care at the Veterinary Teaching Hospital. Four days after her apparent death, the dog managed to stagger to a nearby farm, dirt-covered and emaciated, where she was found by a worker who took her to a vet for help. She was taken in by Moses Lake, Washington, resident Sara Mellado. \"Considering everything that she's been through, she's incredibly gentle and loving,\" Mellado said, according to WSU News. \"She's a true miracle dog and she deserves a good life.\" Theia is only one year old but the dog's brush with death did not leave her unscathed. She suffered a dislocated jaw, leg injuries and a caved-in sinus cavi\n",
            "(CNN)If you've been following the news lately, there are certain things you doubtless know about Mohammad Javad Zarif. He is, of course, the Iranian foreign minister. He has been U.S. Secretary of State John Kerry's opposite number in securing a breakthrough in nuclear discussions that could lead to an end to sanctions against Iran -- if the details can be worked out in the coming weeks. And he received a hero's welcome as he arrived in Iran on a sunny Friday morning. \"Long live Zarif,\" crowds chanted as his car rolled slowly down the packed street. You may well have read that he is \"polished\" and, unusually for one burdened with such weighty issues, \"jovial.\" An Internet search for \"Mohammad Javad Zarif\" and \"jovial\" yields thousands of results. He certainly has gone a long way to bring Iran in from the cold and allow it to rejoin the international community. But there are some facts about Zarif that are less well-known. Here are six: . In September 2013, Zarif tweeted \"Happy Rosh Hashanah,\" referring to the\n",
            "(CNN)Five Americans who were monitored for three weeks at an Omaha, Nebraska, hospital after being exposed to Ebola in West Africa have been released, a Nebraska Medicine spokesman said in an email Wednesday. One of the five had a heart-related issue on Saturday and has been discharged but hasn't left the area, Taylor Wilson wrote. The others have already gone home. They were exposed to Ebola in Sierra Leone in March, but none developed the deadly virus. They are clinicians for Partners in Health, a Boston-based aid group. They all had contact with a colleague who was diagnosed with the disease and is being treated at the National Institutes of Health in Bethesda, Maryland. As of Monday, that health care worker is in fair condition. The Centers for Disease Control and Prevention in Atlanta has said the last of 17 patients who were being monitored are expected to be released by Thursday. More than 10,000 people have died in a West African epidemic of Ebola that dates to December 2013, according to the World He\n",
            "(CNN)A Duke student has admitted to hanging a noose made of rope from a tree near a student union, university officials said Thursday. The prestigious private school didn't identify the student, citing federal privacy laws. In a news release, it said the student was no longer on campus and will face student conduct review. The student was identified during an investigation by campus police and the office of student affairs and admitted to placing the noose on the tree early Wednesday, the university said. Officials are still trying to determine if other people were involved. Criminal investigations into the incident are ongoing as well. Students and faculty members marched Wednesday afternoon chanting \"We are not afraid. We stand together,\"  after pictures of the noose were passed around on social media. At a forum held on the steps of Duke Chapel, close to where the noose was discovered at 2 a.m., hundreds of people gathered. \"You came here for the reason that you want to say with me, 'This is no Duke we wil\n",
            "(CNN)He's a blue chip college basketball recruit. She's a high school freshman with Down syndrome. At first glance Trey Moses and Ellie Meredith couldn't be more different. But all that changed Thursday when Trey asked Ellie to be his prom date. Trey -- a star on Eastern High School's basketball team in Louisville, Kentucky, who's headed to play college ball next year at Ball State -- was originally going to take his girlfriend to Eastern's prom. So why is he taking Ellie instead? \"She's great... she listens and she's easy to talk to\" he said. Trey made the prom-posal (yes, that's what they are calling invites to prom these days) in the gym during Ellie's P.E. class. Trina Helson, a teacher at Eastern, alerted the school's newspaper staff to the prom-posal and posted photos of Trey and Ellie on Twitter that have gone viral. She wasn't surpristed by Trey's actions. \"That's the kind of person Trey is,\" she said. To help make sure she said yes, Trey entered the gym armed with flowers and a poster that read \"Let'\n",
            "(CNN)Governments around the world are using the threat of terrorism -- real or perceived -- to advance executions, Amnesty International alleges in its annual report on the death penalty. \"The dark trend of governments using the death penalty in a futile attempt to tackle real or imaginary threats to state security and public safety was stark last year,\" said Salil Shetty, Amnesty's Secretary General in a release. \"It is shameful that so many states around the world are essentially playing with people's lives -- putting people to death for 'terrorism' or to quell internal instability on the ill-conceived premise of deterrence.\" The report, \"Death Sentences and Executions 2014,\" cites the example of Pakistan lifting a six-year moratorium on the execution of civilians following the horrific attack on a school in Peshawar in December. China is also mentioned, as having used the death penalty as a tool in its \"Strike Hard\" campaign against terrorism in the restive far-western province of Xinjiang. The annual repo\n",
            "(CNN)Andrew Getty, one of the heirs to billions of oil money, appears to have died of natural causes, a Los Angeles Police Department spokesman said. The coroner's preliminary assessment is there was no foul play involved in the death of Getty, grandson of oil tycoon J. Paul Getty, said Detective Meghan Aguilar. Andrew Getty, 47, had \"several health issues,\" Aguilar said, adding that an autopsy will be conducted. There is no criminal investigation underway, he said. Some medication had also been recovered from Getty's home, though investigators don't know whether Getty was taking it or what his medical history was, Ed Winter, assistant chief in the Los Angeles County coroner's office, told CNN affiliate KTLA Tuesday night. KTLA reported that Getty was found on his side near a bathroom in his home. Getty's parents, Ann and Gordon Getty, released a statement confirming their son's death and asking for privacy. Where the Getty family fortune came from . Gordon Getty is one of three living sons of J. Paul Getty, \n",
            "(CNN)Filipinos are being warned to be on guard for flash floods and landslides as tropical storm Maysak approached the Asian island nation Saturday. Just a few days ago, Maysak gained super typhoon status thanks to its sustained 150 mph winds. It has since lost a lot of steam as it has spun west in the Pacific Ocean. It's now classified as a tropical storm, according to the Philippine national weather service, which calls it a different name, Chedeng. It boasts steady winds of more than 70 mph (115 kph) and gusts up to 90 mph as of 5 p.m. (5 a.m. ET) Saturday. Still, that doesn't mean Maysak won't pack a wallop. Authorities took preemptive steps to keep people safe such as barring outdoor activities like swimming, surfing, diving and boating in some locales, as well as a number of precautionary evacuations. Gabriel Llave, a disaster official, told PNA that tourists who arrive Saturday in and around the coastal town of Aurora \"will not be accepted by the owners of hotels, resorts, inns and the like ... and wil\n",
            "(CNN)For the first time in eight years, a TV legend returned to doing what he does best. Contestants told to \"come on down!\" on the April 1 edition of \"The Price Is Right\" encountered not host Drew Carey but another familiar face in charge of the proceedings. Instead, there was Bob Barker, who hosted the TV game show for 35 years before stepping down in 2007. Looking spry at 91, Barker handled the first price-guessing game of the show, the classic \"Lucky Seven,\" before turning hosting duties over to Carey, who finished up. Despite being away from the show for most of the past eight years, Barker didn't seem to miss a beat.\n",
            "London (CNN)A 19-year-old man was charged Wednesday with terror offenses after he was arrested as he returned to Britain from Turkey, London's Metropolitan Police said. Yahya Rashid, a UK national from northwest London, was detained at Luton airport on Tuesday after he arrived on a flight from Istanbul, police said. He's been charged with engaging in conduct in preparation of acts of terrorism, and with engaging in conduct with the intention of assisting others to commit acts of terrorism. Both charges relate to the period between November 1 and March 31. Rashid is due to appear in Westminster Magistrates' Court on Wednesday, police said. CNN's Lindsay Isaac contributed to this report.\n",
            "(CNN)Paul Walker is hardly the first actor to die during a production. But Walker's death in November 2013 at the age of 40 after a car crash was especially eerie given his rise to fame in the \"Fast and Furious\" film franchise. The release of \"Furious 7\" on Friday offers the opportunity for fans to remember -- and possibly grieve again -- the man that so many have praised as one of the nicest guys in Hollywood. \"He was a person of humility, integrity, and compassion,\" military veteran Kyle Upham said in an email to CNN. Walker secretly paid for the engagement ring Upham shopped for with his bride. \"We didn't know him personally but this was apparent in the short time we spent with him. I know that we will never forget him and he will always be someone very special to us,\" said Upham. The actor was on break from filming \"Furious 7\" at the time of the fiery accident, which also claimed the life of the car's driver, Roger Rodas. Producers said early on that they would not kill off Walker's character, Brian O'Con\n",
            "(CNN)Seventy years ago, Anne Frank died of typhus in a Nazi concentration camp at the age of 15. Just two weeks after her supposed death on March 31, 1945, the Bergen-Belsen concentration camp where she had been imprisoned was liberated -- timing that showed how close the Jewish diarist had been to surviving the Holocaust. But new research released by the Anne Frank House shows that Anne and her older sister, Margot Frank, died at least a month earlier than previously thought. Researchers re-examined archives of the Red Cross, the International Training Service and the Bergen-Belsen Memorial, along with testimonies of survivors. They concluded that Anne and Margot probably did not survive to March 1945 -- contradicting the date of death which had previously been determined by Dutch authorities. In 1944, Anne and seven others hiding in the Amsterdam secret annex were arrested and sent to the  Auschwitz-Birkenau concentration camp. Anne Frank's final entry . That same year, Anne and Margot were separated from t\n",
            "(CNN)A year ago Bloomberg published a story with the following headline: Mike Pence, a Koch Favorite, Mulls 2016 Run for President. The story ticked off items on Pence's conservative things-to-do list while also noting his close ties to the deep-pocketed Koch brothers, as well as other right-wing lobbying groups. Last August the Indiana governor was in Dallas for an Americans for Prosperity event; the group is backed by the conservative Koch brothers, and supported Gov. Pence's tax-slashing budget. Now, Pence is drawing huge heat for his controversial decision to sign a religious freedom law last week that opens the door to discrimination against gays and lesbians.  Why would Pence ignore the pleas of Indiana's Chamber of Commerce as well as the Republican mayor of his state capital and sign such a bill? Because there's a very powerful wing of his party that wants a conservative as its 2016 candidate and this bill was Pence's way of shoring up his street cred. It is also the reason why Republican Jeb Bush, Pe\n",
            "(CNN)If you're famous and performing the American national anthem, be prepared to become a national hero or a national disgrace. Facts are facts.  Just ask Vince, Whitney, Roseanne, Jimi and Michael. Mötley Crüe's Vince Neil reminded us again this week of the dangers of tackling \"The Star-Spangled Banner.\" Sure, he can shred it on \"Girls, Girls, Girls\" and \"Dr. Feelgood,\" but this is a different story -- a completely different story. To say Neil butchered the song before the Las Vegas Outlaws Arena Football League game would be unkind to those in the profession.  There's less carnage when butchers are done with their work. The late Whitney Houston set the modern standard for the national anthem at Super Bowl XXV.  In the early stages of the Gulf War in 1991, a patriotic America saluted her performance. Just six months earlier, comedian Roseanne Barr may have established the low-water mark. The crowd at the San Diego Padres game booed her rendition and President George H. W. Bush called it \"disgraceful.\" There\n",
            "(CNN)As goes Walmart, so goes the nation? Everyone from Apple CEO Tim Cook to the head of the NCAA slammed religious freedom laws being considered in several states this week, warning that they would open the door to discrimination against gay and lesbian customers. But it was the opposition from Walmart, the ubiquitous retailer that dots the American landscape, that perhaps resonated most deeply, providing the latest evidence of growing support for gay rights in the heartland. Walmart's staunch criticism of a religious freedom law in its home state of Arkansas came after the company said in February it would boost pay for about 500,000 workers well above the federal minimum wage. Taken together, the company is emerging as a bellwether for shifting public opinion on hot-button political issues that divide conservatives and liberals. And some prominent Republicans are urging the party to take notice. Former Minnesota Gov. Tim Pawlenty, who famously called on the GOP to \"be the party of Sam's Club, not just the\n",
            "(CNN)On May 28, 2014, some 7,000 people gathered in a stadium in China's northwestern Xinjiang region. But they had not come to watch the local football team or any other grand sporting event. Instead, the authorities paraded scores of prisoners dressed in orange jumpsuits. Armed soldiers guarded the exits. In the patently unfair, open air trial that followed, 55 people were found guilty of a range of offenses linked to violent attacks in the region and jailed. Three were sentenced to death. The public mass sentencing was part a China's \"Strike Hard\" campaign against unrest in Xinjiang, a campaign the government claims was launched to combat \"terrorism\" and \"separatism.\" But it was also indicative of a trend that was starkly evident last year around the world -- governments using the death penalty in a misguided, and often cynical, attempt to tackle crime and terrorism. Today, Amnesty International releases its annual review of the death penalty worldwide.  Much of it makes for grim reading. In Pakistan, the \n",
            "Marseille, France (CNN)The French prosecutor leading an investigation into the crash of Germanwings Flight 9525 insisted Wednesday that he was not aware of any video footage from on board the plane. Marseille prosecutor Brice Robin told CNN that \"so far no videos were used in the crash investigation.\" He added, \"A person who has such a video needs to immediately give it to the investigators.\" Robin's comments follow claims by two magazines, German daily Bild and French Paris Match, of a cell phone video showing the harrowing final seconds from on board Germanwings Flight 9525 as it crashed into the French Alps. All 150 on board were killed. Paris Match and Bild reported that the video was recovered from a phone at the wreckage site. The two publications described the supposed video, but did not post it on their websites. The publications said that they watched the video, which was found by a source close to the investigation. \"One can hear cries of 'My God' in several languages,\" Paris Match reported. \"Metall\n",
            "(CNN)The Rev. Robert H. Schuller, California televangelist and founder of the television ministry \"Hour of Power,\" died Thursday, according to his family. He was 88 years old. Schuller, also the founder of Crystal Cathedral megachurch, had been diagnosed with esophageal cancer in August 2013, a release from \"Hour of Power\" said. \"My father-in-law passed away peacefully early this morning. He was a great Dad and a great man of God,\" said Schuller's daughter-in-law, Donna Schuller, in a Twitter message. Schuller's life followed an almost Shakespearean arc. He was born in a Iowa farmhouse without running water and longed to preach from his earliest days. In his autobiography, \"Prayer: My Soul's Adventure with God,\" he described standing alone by a river and picturing himself delivering sermons to a rapt congregation. After attending a Hope College and Western Theological Seminary in Michigan, he met his wife of more than 60 years, Arvella, while preaching at her church (she was the organist). With their young fa\n",
            "(CNN)Michele Bachmann is comparing President Obama to the co-pilot of the doomed Germanwings flight. \"With his Iran deal, Barack Obama is for the 300 million souls of the United States what Andreas Lubitz was for the 150 souls on the German Wings flight - a deranged pilot flying his entire nation into the rocks,\" the Minnesota Republican and former representative wrote in a Facebook comment posted March 31. \"After the fact, among the smoldering remains of American cities, the shocked survivors will ask, why did he do it?\" Andreas Lubitz, the co-pilot of Germanwings Flight 9525, is accused by authorities of deliberately crashing the plane in the French Alps. He died in the crash along with 149 other crew and passengers. The motive of the March 24 crash is under investigation, though investigators are looking in to whether Lubitz feared a medical condition would cause him to lose his pilot's license. Many comments posted on her Facebook page blasted the former representative. Melissa Coca wrote, \"Comparing this\n",
            "Norfolk, Virginia (CNN)The second mate of the Houston Express probably couldn't believe what he was seeing. Hundreds of miles from land there was a small boat nearby. At first it looked abandoned. It was in bad shape, listing to one side. The crew of the 1,000-foot long container ship thought it was a yacht that had wrecked. Incredibly, as they got closer, they saw there was a man on it, signaling for help. \"He was moving, walking around, waving to us and in surprisingly good condition,\" Capt. Thomas Grenz told CNN by phone Friday. That man, Louis Jordan, 37, had an amazing story. He'd been drifting on the 35-foot Pearson sailboat for more than two months since leaving Conway, South Carolina, to fish in the ocean. Just a few days into his trip, a storm capsized his boat and broke his mast. One of his shoulders was broken, too, so he couldn't fix the boat right away. Eventually he was able to rig a makeshift mast and sail, but he could make little headway against the currents. \"It took so long,\" Jordan said.  \n",
            "(CNN)The United States and its negotiating partners reached a very strong framework agreement with Iran in Lausanne, Switzerland, on Thursday that limits Iran's nuclear program in such a way as to effectively block it from building a nuclear weapon. Expect pushback anyway, if the recent past is any harbinger. Just last month, in an attempt to head off such an agreement, House Speaker John Boehner invited Israeli Prime Minister Benjamin Netanyahu to preemptively blast it before Congress, and 47 senators sent a letter to the Iranian leadership warning them away from a deal. The debate that has already begun since the announcement of the new framework will likely result in more heat than light. It will not be helped by the gathering swirl of dubious assumptions and doubtful assertions. Let us address some of these: . The most misleading assertion, despite universal rejection by experts, is that the negotiations' objective at the outset was the total elimination of any nuclear program in Iran. That is the positio\n",
            "Los Angeles (CNN)It's more than just one state's internal problem. The historic California drought hurts the rest of the union, too. That's because California is a breadbasket to the nation, growing more than a third of its vegetables and nearly two-thirds of its fruits and nuts. Here's why we should heed the ongoing drought in the most populous state, a slowly expanding natural disaster now in its fourth year that this week prompted Gov. Jerry Brown to announce a mandatory 25% cutback in water consumption in all cities. In 2014, one expert predicted consumers would pay more for some groceries because of the California drought. He was often right, according to statistics gathered by Timothy Richards, agribusiness professor at Arizona State University. Prices rose last year for these items on your kitchen table: . • Berries rose in price by about 80 cents per clamshell to $3.88 . • Broccoli by 11 cents per pound to $1.89. • Grapes by 64 cents a pound to $3.06 . • Melons by 24 cents a pound to $1.23. • Packaged\n",
            "(CNN)The FBI charged a Philadelphia woman on Thursday with trying to travel overseas to fight for ISIS. She's one of three women arrested this week on terror charges. Two New York women were also taken into custody. An FBI complaint cites numerous social media messages dating back to August 2013 that were sent by Keonna Thomas, 30, also known as \"Young Lioness\" and \"Fatayat Al Khilafah.\" One Twitter message said, \"If we truly knew the realities ... we all would be rushing to join our brothers in the front lines pray ALLAH accept us as shuhada [martyrs].\" Another said, \"When you're a mujahid [violent jihadi fighter] your death becomes a wedding.\" The FBI said Thomas purchased an electronic visa to Turkey on March 23. Turkey is known as the easiest place from which to enter Syria and join ISIS. An ISIS manual advises recruits to buy round-trip tickets to vacation spots such as Spain and then purchase tickets for their real destination once they arrive overseas, the FBI said. On March 26, Thomas purchased a tick\n",
            "(CNN)Since Iran's Islamic Revolution in 1979, women have been barred from attending most sports events involving men. But the situation appears set to improve in the coming months after a top Iranian sports official said that the ban will be lifted for some events. A plan to allow \"women and families\" to enter sports stadiums will come into effect in the next year, Deputy Sports Minister Abdolhamid Ahmadi said Saturday, according to state-run media. But it isn't clear exactly which games women will be able to attend. According to the state-run Press TV, Ahmadi said the restrictions would be lifted for indoor sports events. The rules won't change for all matches because some sports are mainly related to men and \"families are not interested in attending\" them, Press TV cited him as saying. Iranian authorities imposed the ban on women attending men's sports events after the revolution, deeming that mixed crowds watching games together was un-Islamic. During the ensuing decades, the crowds at soccer games, Iran's\n",
            "(CNN)Just as mimeograph machines and photocopiers were in their day, online activity -- blogs, YouTube channels, even social media platforms like Facebook and Twitter -- have fully emerged as the alternative to traditional mainstream media. It is not just the low cost of posting online that attracts dissidence, though that in itself is liberating. It is the lack of access to traditional print and broadcast media in authoritarian countries that is really the driving force leading disaffected voices to post online. It is not unique to Asia, but it might seem more pronounced if you live there. Going online has become the path of least resistance if you want to make yourself heard. But it still brings resistance, some of it legal, some of it deadly. Let's look at the legal angle first. Amos Yee, the teenage video blogger who was arrested and held pending bail Sunday in Singapore, drew international attention for his anti-Lee Kuan Yew harangue. But jailing critics is not usually the government's first choice in Si\n",
            "(CNN)When singer Avril Lavigne went missing from the music scene, there was tons of speculation. Was she pregnant? In rehab? Going through a split from her husband, Nickelback front man Chad Kroeger? Focus on the mystery intensified in December after a fan Twitter account posted a direct message from Lavigne when she solicited prayers, saying she was \"having some health issues.\" Now the Canadian singer has revealed to People magazine that she was bedridden for five months after contracting Lyme disease. \"I felt like I couldn't breathe, I couldn't talk, and I couldn't move,\" she told the magazine. \"I thought I was dying.\" Lyme disease: What you should know . Lavigne believes that she was bitten by a tick last spring. What followed was months of lightheadedness and lethargy that doctors were initially unable to diagnose. The 30-year-old performer said she recuperated in her Ontario home, where her husband would use tour breaks to care for her and her mother moved in to assist. \"There were definitely times I cou\n",
            "(CNN)A trip to a former heavyweight champ's gaudy, abandoned mansion. The tallest and fastest \"giga-coaster\" in the world. A dramatic interview with a famed spiritual leader -- and the tearful reaction by one of his former students. These are some of the best videos of the week: . In the 1980s and '90s -- before he moved to Vegas and started keeping tigers as pets -- former heavyweight boxer Mike Tyson lived in a Southington, Ohio, mansion. The home featured an indoor swimming pool, a marble-and-gold Jacuzzi (with mirrored ceiling, naturally) and an entertainment room large enough for small concerts. Tyson sold the house in 1999; it's due to become, of all things, a church. The video can be seen at the top of this story. Not a fan of roller coasters? You may want to skip the next video -- but for the rest of us, the thrill of watching is the next best thing to being there. The Fury 325 can be found at Carowinds amusement part in Charlotte, North Carolina. Watch the video: . In a CNN exclusive, Alisyn Camerota\n",
            "Washington (CNN)Israeli Prime Minister Benjamin Netanyahu criticized the deal six world powers struck to thwart Iran's nuclear ambitions, saying he sees better options than \"this bad deal or war.\" \"I think there's a third alternative, and that is standing firm, ratcheting up the pressure until you get a better deal,\" Netanyahu told CNN's Jim Acosta Sunday on \"State of the Union.\" His comments come as Democrats and Republicans spar over the framework announced last week to lift Western sanctions on Iran in exchange for the country dropping from 19,000 to 5,060 active centrifuges, limiting its highly enriched uranium, and increasing inspections. President Barack Obama endorsed the deal, saying it was better than the alternatives. But GOP contenders for the party's 2016 presidential nomination lambasted it, saying it gave Iran too much flexibility. On Sunday, the sparring continued. One Senate Democrat said Netanyahu needs to \"contain himself.\" And a top Republican said almost any of Obama's successors as presid\n",
            "(CNN)Standing up for what you believe. What does it cost you? What do you gain? Memories Pizza in the Indiana town of Walkerton is finding out. The family-run restaurant finds itself at the center of the debate over the state's Religious Freedom Restoration Act after its owners said they'd refuse to cater a same-sex couple's wedding. \"If a gay couple was to come and they wanted us to bring pizzas to their wedding, we'd have to say no,\" Crystal O'Connor told CNN affiliate WBND-TV in South Bend. The statement struck at the heart of fears by critics, who said the new law would allow businesses to discriminate against gays and lesbians. They called for boycotts. But supporters also rallied. And by the end of the week, they had donated more than $842,000 for the business. Social media unloaded on the pizzeria in the community of 2,100 people that few folks outside northern Indiana knew existed before this week. RiskyLiberal tweeted: \"Dear #MemoriesPizza. No. My boycotting your business because I don't like your re\n",
            "(CNN)Police in the Indian city of Malegaon, in the western state of Maharashtra, are requiring identity cards for an unusual group of residents: Cattle. Following a recent state-wide ban on the sale and consumption of beef, authorities in the city have asked residents to take a 'mugshot' of their cattle and submit it to the police. Along with the photograph, the residents have to give information about their animal's 'unique features,' such as the coloring and age of the cow, along with the length of its tail and other distinctive characteristics. Police officials believe this is the only way to solve cow slaughter cases and enforce the law. Cows are considered holy and revered by that state's majority Hindu population. \"We are creating a database. If we get an information of a cow slaughter, we can quickly go to the resident's place and check whether it is there or not\", Mahesh Sawai, Deputy Superintendent of Malegaon Police told CNN. \"I believe this will be very effective\" So far over 100 owners have compli\n",
            "(CNN)It's the kind of thing you see in movies, like Robert Redford's role in \"All Is Lost\" or Ang Lee's \"Life of Pi.\" But, in real life, it's hard to swallow the idea of a single person being stranded at sea for days, weeks, if not months and somehow living to talk about it. Miracles do happen, though, and not just in Hollywood. We're not talking about people who float aimlessly or run aground after running out of gas or being let down by faltering winds only to be picked up a few hours later by the U.S. Coast Guard. Much rarer are cases in which individuals become lost at sea long enough that they run out of whatever food and drinking water they'd brought aboard, if any. In order to survive, they can't bank on technology or the proximity of a nearby city, town or boat -- but instead must rely on ingenuity, resourcefulness and luck. It's hard to say how many of these types of stories end sadly, with a sailor dying at sea, except that it is a much higher number than those that end in rescues. Such happy ending\n",
            "(CNN)The world's biggest and most powerful physics experiment is taking place as you read this. The Large Hadron Collider (LHC), a particle accelerator and the largest machine in the world, is ready for action following a two-year shutdown. After problems that delayed the restart in March, scientists at the European Organization for Nuclear Research (CERN) completed final tests, enabling the first beams to start circulating Sunday inside the LHC's 17 mile (27 km) ring. \"Operating accelerators for the benefit of the physics community is what CERN's here for,\" CERN Director-General Rolf Heuer said on the organization's website. \"Today, CERN's heart beats once more to the rhythm of the LHC.\" The LHC generates up to 600 million particles per second, with a beam circulating for 10 hours, traveling more than 6 billion miles (more than 10 billion kilometers) -- the distance from Earth to Neptune and back again. At near light-speed, a proton in the LHC makes 11,245 circuits per second. It took thousands of scientists\n",
            "Atlanta (CNN)It was a scene worthy of any top cop show on TV -- bullets flying, banged-up cars and the FBI chasing an armed robbery suspect. In the end, two agents were injured in a crash and the suspect was shot before being captured. FBI agents and task force officers were following 36-year-old Kevone Charleston of Austell, Georgia, as he pulled into a CVS pharmacy in Forsyth County, Georgia, early Saturday. Charleston is suspected of involvement in 32 commercial robberies dating to November 2013, according to FBI officials. \"The incident all happened around 7 o'clock Saturday morning,\" said FBI Special Agent Stephen Emmett. \"There were multiple agents and officers that were following him based on his prior MO, and when they saw he was about to rob another CVS, they moved in.\" Authorities say Charleston parked his vehicle nearby and then popped the hood as if there were something wrong. Then he walked to the CVS, preparing to enter. When agents confronted him, Charleston ran, got in his car and traveled abo\n",
            "(CNN)Sky watchers in western North America are in for a treat: a nearly five-minute total lunar eclipse this morning. Here's how it's unfolding: . It started at 3:16 a.m. Pacific Daylight Time, when the moon began moving into Earth's shadow.  For the next hour and 45 minutes, that shadow will move across the moon and engulf it at 4:58 a.m. Pacific Time. The total eclipse will only last four minutes and 43 seconds, and NASA says that makes it the shortest one of the century. Watch it live on NASA TV . While people west of the Mississippi River will have the best view, at least a partial eclipse will be visible across the nation. But sunrise will interrupt the show on the East Coast. Parts of South America, India, China and Russia also will be able to see the eclipse, but it won't be visible in Greenland, Iceland, Europe, Africa or the Middle East. A lunar eclipse happens when the sun, Earth and moon form a straight line in space, with the Earth smack in the middle. The sun shines on the Earth and creates a sha\n",
            "(CNN)The terrorist group Al-Shabaab has claimed an attack on Garissa University College in eastern Kenya, in which many people have been killed and still more taken hostage. The attack is another step in the ongoing escalation of the terrorist group's activities, and a clear indicator that the security situation in East Africa is deteriorating fast. Somalia-based Al-Shabaab has been behind a string of recent attacks in Kenya, the most well-known of them being the massacre at the Westgate Shopping Centre in Nairobi in 2013. Cross-border raids into Kenya by the group, however, date back to 2011. Al-Shabaab incursions triggered a military response by the government in Nairobi, which sent troops to Somalia as part of an African Union mission in support of Somalia's internationally recognized government that had been under pressure from Al-Shabaab and other militants for several years. Al-Shabaab is predominantly driven by the same radical interpretation of the Koran as al-Qaeda and ISIS (also known as Islamic Sta\n",
            "(CNN)Easter is a cornerstone event in the Christian faith, but it's surrounded by interesting quirks. It celebrates the completion of Christ's mission of salvation in the Crucifixion and Resurrection. By dying on Good Friday, Christ atoned for the sins of others; by rising from the grave on Sunday, Christ conquered death. Simple enough and reason for Christians to celebrate. But, like Christmas with its tree, ornaments and Santa Claus, Easter has picked up its peripheral trappings -- the bunny and colorful eggs.  Unlike Christmas, it doesn't fall on the same day every year but shifts around in spring depending upon cosmic events. And that blood moon we just had -- is it pure coincidence that it fell around Easter? (No.) Here's a journey from the Vatican to the Holy Land, around the moon and the Earth's tilting axis, to Germany and the United States to try to explain the complex holiday called Easter. And you'll learn to how to color Easter eggs with Kool-Aid. Let's start at the Vatican. At the Vatican, Holy W\n",
            "(CNN)After years of making the case that the education of athletes is paramount, the NCAA now says it has no legal responsibility to make sure education is actually delivered. On its website, the NCAA prominently states, \"It's our commitment -- and our responsibility -- to give young people opportunities to learn, play and succeed.\" And later, it says that \"in the collegiate model of sports, the young men and women competing on the field or court are students first, athletes second.\" But the NCAA is taking a very different position in response to a lawsuit filed by former University of North Carolina athletes. The lawsuit claimed the students didn't get an education because they were caught up in the largest known academic fraud scandal in NCAA history. In its response, the NCAA says it has no legal responsibility \"to ensure the academic integrity of the courses offered to student-athletes at its member institutions.\" Even with pages of online information about academic standards, and even though the NCAA has\n",
            "(CNN)A Connecticut teen who has been forced to have chemotherapy to treat Hodgkin lymphoma will remain in temporary custody of the state for the time being, according to her attorney, Josh Michtom. A Connecticut juvenile court judge issued a written decision Wednesday denying a motion to let the teen, identified in court documents as \"Cassandra C.,\" go home. The judge also denied a motion for visitation. The 17-year-old is in remission after nearly six months of forced chemo treatments. On March 16, Michtom tried to convince the court that she should be able to return to her mother's home because she was no longer at imminent risk of harm from her illness. Michtom and attorney Michael Taylor, who represents Cassandra's mother, Jackie Fortin, released a written statement after receiving the judge's decision Wednesday: \"We are disappointed in this ruling, not least of all because it draws a factual conclusion that is directly contradicted by the weight of the evidence. We're conferring with our clients now abou\n",
            "(CNN)Mark Ronson's \"Uptown Funk!,\" featuring Bruno Mars, is the longest-leading Billboard Hot 100 of the 2010s, ruling the chart for a 13th week. It's also just the 10th single in the Hot 100's entire history to spend at least 13 weeks at No. 1. Plus, newcomer Natalie La Rose reaches the top 10 with her debut hit \"Somebody,\" featuring Jeremih. As we do each Wednesday, let's run down all the songs in the top 10, and a bit beyond, on the sales/airplay/streaming-based Hot 100 (dated April 11). \"Funk,\" released on RCA Records, passes Robin Thicke's \"Blurred Lines,\" featuring T.I. and Pharrell to take sole possession of the Hot 100's longest command this decade. Here's an updated look at the hits to lead for the most weeks since the beginning of 2010: . Weeks at No. 1, Title, Artist, Date Reached No. 1 . 13 (to date), \"Uptown Funk!,\" Ronson feat. Mars, Jan. 17, 2015 . 12, \"Blurred Lines,\" Robin Thicke feat. T.I. + Pharrell, June 22, 2013 . 10, \"Happy,\" Pharrell Williams, March 8, 2014 . 10, \"We Found Love,\" Rihann\n",
            "(CNN)A high temperature of 63.5 degrees Fahrenheit might sound like a pleasant day in early spring -- unless you're in Antarctica. The chilly continent recorded the temperature (15.5 degrees Celsius) on March 24, possibly the highest ever recorded on Antarctica, according to the Weather Underground. The temperature was recorded at Argentina's Esperanza Base on the northern tip of the Antarctica Peninsula, according to CNN affiliate WTNH. (Note to map lovers: The Argentine base is not geographically part of the South American continent.) The World Meteorological Organization, a specialized United Nations agency, is in the process of setting up an international ad-hoc committee of about 10 blue-ribbon climatologists and meteorologists to begin collecting relevant evidence, said Randy Cerveny, the agency's lead rapporteur of weather and climate extremes and Arizona State University professor of geographical sciences. The committee will examine the equipment used to measure the temperature, whether it was in good\n",
            "(CNN)The United States has seemingly erupted this week about what it means to live your religion, especially in Indiana, where its new Religious Freedom Restoration Act faces a firestorm from critics who say it uses faith as a pretext to discriminate against gay people. Such state laws have been growing ever since the U.S. Religious Freedom Restoration Act became law in 1993, designed to prohibit the federal government from \"substantially burdening\" a person's exercise of religion. So far, 20 states have some version of the religious liberty law, and the legal controversies have grown, too. Nonetheless, claims under those state RFRAs are \"exceedingly rare,\" and victories involved mostly religious minorities, not Christian denominations, experts say. \"There is reason to doubt whether these state-level religious liberty provisions truly provide meaningful protections for religious believers,\" wrote Wayne State University law professor Christopher Lund in a 2010 analysis, when there were only 16 states with such\n",
            "Atlanta (CNN)Robert Lewis Burns Jr., the original drummer in Southern rock band Lynyrd Skynyrd, died Friday night in a car crash, a Georgia State Patrol spokesman said. Burns, 64, died after his car hit a mailbox and a tree in Cartersville, spokesman James Tallent said. No other cars were involved in the crash, which occurred shortly before midnight. \"He was not restrained at the time of the crash,\" Tallent told CNN. The musician lived in northern Georgia. Burns was part of the genre-defining band's original lineup, which formed in Jacksonville, Florida, in 1965. Lead singer Ronnie Van Zant started Noble Five with Burns, guitarists Gary Rossington and Allen Collins and bassist Larry Junstrom in their hometown. It then made a name change in a reference to a high school gym teacher. Lynyrd Skynyrd changed members over the years as it produced rock anthems including \"Sweet Home Alabama\" and \"Freebird.\" Burns left the band before its third studio album, \"Nuthin Fancy,\" in 1975, \"exhausted by touring,\" according t\n",
            "Seoul, South Korea (CNN)The man accused of stabbing U.S. Ambassador Mark Lippert in Seoul last month is now charged with attempted murder, a South Korean court official said Wednesday. Kim Ki-Jong has also been charged with assaulting a foreign envoy and business obstruction, the Seoul Central District Court official said. According to South Korean law, Kim's trial must begin within 14 days of receiving today's indictment. Lippert was stabbed March 5 during an event organized by the Korean Council for Reconciliation and Cooperation, which advocates peaceful reunification between North and South Korea. Shortly before Lippert was supposed to give a speech, the attacker slashed him in the face and jaw. The ambassador suffered a gash from his right cheekbone to his lower jaw that required 80 stitches. That wound measured 10 centimeters (4 inches) long and 2.5 centimeters (1 inch) deep, but there was no serious facial nerve damage, said Dr. Jung Nam-shik of the Yonsei Severance Hospital. Lippert also suffered five\n",
            "(CNN)When Hong Kong police answered a call in the early hours of a Saturday morning last November, they encountered a grisly scene and an alleged crime that shocked the city. One woman was lying on the floor with cuts to her neck and buttocks. Another was stuffed inside a suitcase on the balcony. A former banker, 29-year-old Briton Rurik Jutting, was charged with two counts of murder. On Thursday, a court hearing that was to determine whether there was enough evidence to proceed to trial was adjourned until May. Here's what we know so far about the victims and their alleged attacker. Jutting allegedly lived at the murder scene, an upmarket apartment in the middle of Wan Chai, an inner-city suburb that's home to an eclectic mix of late-night bars, residential tower blocks and local markets selling groceries and assorted cheap goods. In the early hours of Saturday morning, November 1, police say Jutting called them to the apartment.  There they found a woman lying on the blood-splattered floor, later identified\n",
            "(CNN)\"Jake the dog and Finn the human. The fun will never end. Adventure Time.\" So begins the dreamy theme song intro to the strangely addictive Cartoon Network TV show that's centered around psychedelic characters like the Ice King, Marceline the Vampire Queen and, of course, Jake and Finn. Now, mega-fans of the hit show can experience \"Adventure Time\" in the skies. Thai Smile, a subsidiary of Thailand flag carrier Thai Airways, on Thursday unveiled colorful new livery featuring Jake, Finn and the beloved Princess Bubblegum sprawled across an Airbus A320 at Bangkok's Suvarnabhumi International Airport. The interior of the plane also has an Adventure Time theme, with overhead bins, head rests and even air sickness bags covered in the faces of characters from the show. Airlines show off their new flying colors . The Adventure Time plane is the result of a partnership between Thai Airways subsidiary Thai Smile and Cartoon Network Amazone, a new water park near the Thai resort city of Pattaya featuring attractio\n",
            "(CNN)Imprisoned soldier Chelsea Manning can now communicate with the world  -- in 140 characters or less. Manning, who is serving a 35-year prison sentence for leaking thousands of classified documents, appears to have joined Twitter this week. In a series of tweets, the prisoner formerly known as Bradley Manning said she will be using a voice phone to dictate her tweets to  communications firm Fitzgibbon Media, which will post them on her behalf. She is not allowed Internet access in prison, according to The Guardian. \"It will be hard, but I don't want this Twitter feed to be a one-way street/conversation,\" Manning posted to her nearly 26,000-plus followers. Manning was sentenced in 2013, and in August of that year, she said she wanted to transition to a female. The Fort Leavenworth Disciplinary Barracks in Kansas, where she is serving her sentence, has authorized hormone therapy for her treatment. Manning said she suffers from gender dysphoria. Her  lawyers describe it as \"the medical diagnosis given to ind\n",
            "(CNN)President Barack Obama tied himself to the mast of a nuclear deal with Iran even before he became the Democratic candidate for president. Reaching a good, solid agreement with Iran is a worthy, desirable goal. But the process has unfolded under the destructive influence of political considerations, weakening America's hand and strengthening Iran. Obama's political standing and his historic legacy in foreign policy are so deeply intertwined with reaching an accord with Iran that if the deal ultimately collapses, he may fear that historians will conclude that his legacy in global affairs collapsed with it. There is a reason one gets the feeling that it is the United States and not Iran that is the more eager, even desperate, side in these talks, even though Iran is the country whose economy was sent into a deep chill by international sanctions; the country whose only significant export, oil, lost more than half of its value in recent months. The reason is that Obama has a huge political stake in these nego\n",
            "(CNN)Universal's \"Furious 7\" continues to build momentum at the Friday box office for a weekend debut in the $135 million-$138 million range, the largest opening in North America since fall 2013. That includes a projected Friday take of $58 million-$60 million. The final film featuring the late Paul Walker, \"Furious 7\" is opening around the globe this weekend and earned a record-breaking $60 million internationally on Wednesday and Thursday for a possible worldwide debut approaching or crossing $300 million by the end of Easter Sunday. \"Furious 7\" is getting the widest release in Universal's history. Domestically, it will be playing in 4,003 theaters by Good Friday. Internationally, it has booked more than 10,500 screens in 63 territories, although it won't open in China, Japan and Russia until later. The current record-holder for top April opening domestically is \"Captain America: The Winter Soldier,\" which debuted to $95 million from 3,928 theaters last year. \"Furious 7\" is likewise poised to nab the bigges\n",
            "(CNN)Deion Sanders is such a dad. The NFL legend called out Deion Sanders Jr. on Twitter for saying he only eats \"hood doughnuts.\" In response, the elder Sanders -- in front of his 912,000 followers -- reminded his son he has a trust fund, a condo and his own clothing line called \"Well Off.\" \"You're a Huxtable with a million $ trust fund. Stop the hood stuff!\" Sanders followed it up with another tweet that included the hashtags #versacesheets #Huxtable and #Trustfund. Junior is a wide receiver at Southern Methodist University, an aspiring entrepreneur and occasional rapper. His Twitter timeline is a mix of biblical verses, motivational quotes and references to sports, cars, school and Balenciaga shoes. He also has gone on record with his love for \"hood doughnuts,\" or confections from \"a place in the hood,\" saying \"if my doughnuts don't come in a plain white box, I don't want them!\" His father promptly put him in his place. Sanders Jr. seemed to take the public browbeating in stride, retweeting his father's co\n"
          ]
        }
      ]
    }
  ],
  "metadata": {
    "colab": {
      "provenance": []
    },
    "kernelspec": {
      "display_name": "Python 3",
      "name": "python3"
    },
    "language_info": {
      "name": "python"
    }
  },
  "nbformat": 4,
  "nbformat_minor": 0
}