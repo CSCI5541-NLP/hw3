{
  "nbformat": 4,
  "nbformat_minor": 0,
  "metadata": {
    "colab": {
      "provenance": [],
      "machine_shape": "hm",
      "gpuType": "T4"
    },
    "kernelspec": {
      "name": "python3",
      "display_name": "Python 3"
    },
    "language_info": {
      "name": "python"
    },
    "accelerator": "GPU"
  },
  "cells": [
    {
      "cell_type": "code",
      "execution_count": 197,
      "metadata": {
        "id": "yAowhPD0eNwK"
      },
      "outputs": [],
      "source": [
        "# Load model directly\n",
        "from transformers import AutoTokenizer, AutoModelForSeq2SeqLM\n",
        "\n",
        "tokenizer = AutoTokenizer.from_pretrained(\"facebook/bart-large-cnn\")\n",
        "model = AutoModelForSeq2SeqLM.from_pretrained(\"facebook/bart-large-cnn\")\n",
        "#input_ids = tokenizer(prompt, return_tensors=\"pt\").input_ids"
      ]
    },
    {
      "cell_type": "code",
      "source": [
        "import torch\n",
        "prompts = [ \"Words hold immense power. They can inspire, uplift, and transform lives. A well-crafted sentence has the ability to ignite imagination, stir emotions, and leave an indelible mark on the human psyche. It's a testament to the remarkable capacity of language to transcend barriers and forge connections.\",\n",
        "    \"The natural world is a tapestry of wonders. From the majestic peaks of snow-capped mountains to the intricate dance of life in the depths of the oceans, nature's artistry is a constant source of awe and reverence. It reminds us of our humble place in the grand scheme of existence and our responsibility to protect its fragile beauty.\",\n",
        "    \"Creativity is the lifeblood of progress. It fuels innovation, drives artistic expression, and propels us forward. In a world that often values conformity, embracing our creative spirit allows us to challenge the status quo, question the established norms, and pave the way for new possibilities.\",\n",
        "    \"Resilience is the hallmark of the human spirit. It is the ability to rise above adversity, to adapt and evolve in the face of challenges. Like a sturdy oak that withstands the fiercest storms, resilience empowers us to bend but never break, emerging stronger and wiser from life's trials.\",\n",
        "    \"Kindness is a universal language that transcends boundaries and cultures. A simple act of compassion, a gentle word of encouragement, or a genuine smile can have a profound impact, creating ripples of positivity that touch the lives of others. In a world that often appears harsh and unforgiving, kindness is a beacon of hope and humanity.\"]\n",
        "device = \"cuda\" if torch.cuda.is_available() else \"cpu\"\n",
        "model.to(device)"
      ],
      "metadata": {
        "colab": {
          "base_uri": "https://localhost:8080/"
        },
        "id": "O1UTtzUoebx5",
        "outputId": "0a11357c-033a-4b88-eecd-343924e22293"
      },
      "execution_count": 198,
      "outputs": [
        {
          "output_type": "execute_result",
          "data": {
            "text/plain": [
              "BartForConditionalGeneration(\n",
              "  (model): BartModel(\n",
              "    (shared): Embedding(50264, 1024, padding_idx=1)\n",
              "    (encoder): BartEncoder(\n",
              "      (embed_tokens): Embedding(50264, 1024, padding_idx=1)\n",
              "      (embed_positions): BartLearnedPositionalEmbedding(1026, 1024)\n",
              "      (layers): ModuleList(\n",
              "        (0-11): 12 x BartEncoderLayer(\n",
              "          (self_attn): BartSdpaAttention(\n",
              "            (k_proj): Linear(in_features=1024, out_features=1024, bias=True)\n",
              "            (v_proj): Linear(in_features=1024, out_features=1024, bias=True)\n",
              "            (q_proj): Linear(in_features=1024, out_features=1024, bias=True)\n",
              "            (out_proj): Linear(in_features=1024, out_features=1024, bias=True)\n",
              "          )\n",
              "          (self_attn_layer_norm): LayerNorm((1024,), eps=1e-05, elementwise_affine=True)\n",
              "          (activation_fn): GELUActivation()\n",
              "          (fc1): Linear(in_features=1024, out_features=4096, bias=True)\n",
              "          (fc2): Linear(in_features=4096, out_features=1024, bias=True)\n",
              "          (final_layer_norm): LayerNorm((1024,), eps=1e-05, elementwise_affine=True)\n",
              "        )\n",
              "      )\n",
              "      (layernorm_embedding): LayerNorm((1024,), eps=1e-05, elementwise_affine=True)\n",
              "    )\n",
              "    (decoder): BartDecoder(\n",
              "      (embed_tokens): Embedding(50264, 1024, padding_idx=1)\n",
              "      (embed_positions): BartLearnedPositionalEmbedding(1026, 1024)\n",
              "      (layers): ModuleList(\n",
              "        (0-11): 12 x BartDecoderLayer(\n",
              "          (self_attn): BartSdpaAttention(\n",
              "            (k_proj): Linear(in_features=1024, out_features=1024, bias=True)\n",
              "            (v_proj): Linear(in_features=1024, out_features=1024, bias=True)\n",
              "            (q_proj): Linear(in_features=1024, out_features=1024, bias=True)\n",
              "            (out_proj): Linear(in_features=1024, out_features=1024, bias=True)\n",
              "          )\n",
              "          (activation_fn): GELUActivation()\n",
              "          (self_attn_layer_norm): LayerNorm((1024,), eps=1e-05, elementwise_affine=True)\n",
              "          (encoder_attn): BartSdpaAttention(\n",
              "            (k_proj): Linear(in_features=1024, out_features=1024, bias=True)\n",
              "            (v_proj): Linear(in_features=1024, out_features=1024, bias=True)\n",
              "            (q_proj): Linear(in_features=1024, out_features=1024, bias=True)\n",
              "            (out_proj): Linear(in_features=1024, out_features=1024, bias=True)\n",
              "          )\n",
              "          (encoder_attn_layer_norm): LayerNorm((1024,), eps=1e-05, elementwise_affine=True)\n",
              "          (fc1): Linear(in_features=1024, out_features=4096, bias=True)\n",
              "          (fc2): Linear(in_features=4096, out_features=1024, bias=True)\n",
              "          (final_layer_norm): LayerNorm((1024,), eps=1e-05, elementwise_affine=True)\n",
              "        )\n",
              "      )\n",
              "      (layernorm_embedding): LayerNorm((1024,), eps=1e-05, elementwise_affine=True)\n",
              "    )\n",
              "  )\n",
              "  (lm_head): Linear(in_features=1024, out_features=50264, bias=False)\n",
              ")"
            ]
          },
          "metadata": {},
          "execution_count": 198
        }
      ]
    },
    {
      "cell_type": "code",
      "source": [
        "\n",
        "torch.random.manual_seed(42)\n",
        "#Top- K sampling\n",
        "generation_params = {\n",
        "    #\"greedy_search\": {\"do_sample\": False, \"max_length\": 50},\n",
        "    #\"beam_search\": {\"num_beams\": 5, \"max_length\": 50, \"early_stopping\": True},\n",
        "    #\"top_k_sampling\": {\"do_sample\": True, \"top_k\": 50, \"max_length\": 50},\n",
        "    \"top_p_sampling\": {\"do_sample\": True, \"top_p\": 0.6, \"max_length\": 30, \"min_length\": 0 }\n",
        "}"
      ],
      "metadata": {
        "id": "kLpUuRQlepzT"
      },
      "execution_count": 220,
      "outputs": []
    },
    {
      "cell_type": "code",
      "source": [
        "def calculate_perplexity(input_text):\n",
        "    encodings = tokenizer(input_text, return_tensors=\"pt\").to(device)\n",
        "    max_length = model.config.max_position_embeddings\n",
        "    input_ids = encodings.input_ids\n",
        "    target_ids = input_ids.clone()\n",
        "    target_ids[:, :-1] = -100\n",
        "\n",
        "    with torch.no_grad():\n",
        "        outputs = model(input_ids, labels=target_ids)\n",
        "        neg_log_likelihood = outputs.loss\n",
        "\n",
        "    return torch.exp(neg_log_likelihood).item()"
      ],
      "metadata": {
        "id": "TlSGR8miTpV5"
      },
      "execution_count": 221,
      "outputs": []
    },
    {
      "cell_type": "code",
      "source": [
        "perplexities = {}\n",
        "for prompt in prompts:\n",
        "  for strategy_name, params in generation_params.items():\n",
        "      input_ids = tokenizer(prompt, return_tensors=\"pt\").input_ids.to(device)\n",
        "      generated_outputs = model.generate(input_ids, **params, pad_token_id=tokenizer.eos_token_id)\n",
        "      generated_text = tokenizer.decode(generated_outputs[0], skip_special_tokens=True)\n",
        "      perplexity = calculate_perplexity(generated_text)\n",
        "      perplexities[strategy_name] = perplexity\n",
        "      print(f\"Strategy: {strategy_name}\\nGenerated Text: {generated_text}\\nPerplexity: {perplexity}\\n\")"
      ],
      "metadata": {
        "id": "m1KGBSuCg0Ie",
        "colab": {
          "base_uri": "https://localhost:8080/"
        },
        "outputId": "53e82f76-2884-495d-cda4-cbe8940190a6"
      },
      "execution_count": 222,
      "outputs": [
        {
          "output_type": "stream",
          "name": "stdout",
          "text": [
            "Strategy: top_p_sampling\n",
            "Generated Text: A well-crafted sentence has the ability to ignite imagination, stir emotions, and leave an indelible mark on the human\n",
            "Perplexity: 4170.8115234375\n",
            "\n",
            "Strategy: top_p_sampling\n",
            "Generated Text: The natural world is a tapestry of wonders. From the majestic peaks of snow-capped mountains to the intricate dance of life\n",
            "Perplexity: 1551.637939453125\n",
            "\n",
            "Strategy: top_p_sampling\n",
            "Generated Text: Creativity is the lifeblood of progress. It fuels innovation, drives artistic expression, and propels us forward. In a world that\n",
            "Perplexity: 1006.3665161132812\n",
            "\n",
            "Strategy: top_p_sampling\n",
            "Generated Text: Resilience is the hallmark of the human spirit. It is the ability to rise above adversity. Like a sturdy oak that withstands\n",
            "Perplexity: 1354.5804443359375\n",
            "\n",
            "Strategy: top_p_sampling\n",
            "Generated Text: Kindness is a universal language that transcends boundaries and cultures. A simple act of compassion, a gentle word of encouragement, or a\n",
            "Perplexity: 14885.330078125\n",
            "\n"
          ]
        }
      ]
    },
    {
      "cell_type": "code",
      "source": [
        "from datasets import load_dataset\n",
        "cnn=load_dataset(\"cnn_dailymail\", '2.0.0')"
      ],
      "metadata": {
        "id": "K1eYuOf-MW2S"
      },
      "execution_count": 223,
      "outputs": []
    },
    {
      "cell_type": "code",
      "source": [],
      "metadata": {
        "id": "CXVtqqpXlTcS"
      },
      "execution_count": 223,
      "outputs": []
    },
    {
      "cell_type": "code",
      "source": [
        "cnn['train']['article'][0]"
      ],
      "metadata": {
        "colab": {
          "base_uri": "https://localhost:8080/",
          "height": 70
        },
        "id": "AL9QpeRPR05X",
        "outputId": "f01493c2-fd3c-43fd-ad9b-70022db6aafd"
      },
      "execution_count": 224,
      "outputs": [
        {
          "output_type": "execute_result",
          "data": {
            "text/plain": [
              "'LONDON, England (Reuters) -- Harry Potter star Daniel Radcliffe gains access to a reported £20 million ($41.1 million) fortune as he turns 18 on Monday, but he insists the money won\\'t cast a spell on him. Daniel Radcliffe as Harry Potter in \"Harry Potter and the Order of the Phoenix\" To the disappointment of gossip columnists around the world, the young actor says he has no plans to fritter his cash away on fast cars, drink and celebrity parties. \"I don\\'t plan to be one of those people who, as soon as they turn 18, suddenly buy themselves a massive sports car collection or something similar,\" he told an Australian interviewer earlier this month. \"I don\\'t think I\\'ll be particularly extravagant. \"The things I like buying are things that cost about 10 pounds -- books and CDs and DVDs.\" At 18, Radcliffe will be able to gamble in a casino, buy a drink in a pub or see the horror film \"Hostel: Part II,\" currently six places below his number one movie on the UK box office chart. Details of how he\\'ll mark his landmark birthday are under wraps. His agent and publicist had no comment on his plans. \"I\\'ll definitely have some sort of party,\" he said in an interview. \"Hopefully none of you will be reading about it.\" Radcliffe\\'s earnings from the first five Potter films have been held in a trust fund which he has not been able to touch. Despite his growing fame and riches, the actor says he is keeping his feet firmly on the ground. \"People are always looking to say \\'kid star goes off the rails,\\'\" he told reporters last month. \"But I try very hard not to go that way because it would be too easy for them.\" His latest outing as the boy wizard in \"Harry Potter and the Order of the Phoenix\" is breaking records on both sides of the Atlantic and he will reprise the role in the last two films.  Watch I-Reporter give her review of Potter\\'s latest » . There is life beyond Potter, however. The Londoner has filmed a TV movie called \"My Boy Jack,\" about author Rudyard Kipling and his son, due for release later this year. He will also appear in \"December Boys,\" an Australian film about four boys who escape an orphanage. Earlier this year, he made his stage debut playing a tortured teenager in Peter Shaffer\\'s \"Equus.\" Meanwhile, he is braced for even closer media scrutiny now that he\\'s legally an adult: \"I just think I\\'m going to be more sort of fair game,\" he told Reuters. E-mail to a friend . Copyright 2007 Reuters. All rights reserved.This material may not be published, broadcast, rewritten, or redistributed.'"
            ],
            "application/vnd.google.colaboratory.intrinsic+json": {
              "type": "string"
            }
          },
          "metadata": {},
          "execution_count": 224
        }
      ]
    },
    {
      "cell_type": "code",
      "source": [
        "#def preprocess_function(examples):\n",
        "    #return tokenizer(examples['article'], truncation=True)"
      ],
      "metadata": {
        "id": "ef-sNVXTRk5h"
      },
      "execution_count": 225,
      "outputs": []
    },
    {
      "cell_type": "code",
      "source": [
        "#tokenized_cnn = cnn.map(preprocess_function, batched=True)"
      ],
      "metadata": {
        "id": "W-ybpvm9RvFw"
      },
      "execution_count": 226,
      "outputs": []
    },
    {
      "cell_type": "code",
      "source": [
        "#article_input_ids = tokenized_cnn['test']['input_ids'][0]"
      ],
      "metadata": {
        "id": "FDoquTIhcvgz"
      },
      "execution_count": 227,
      "outputs": []
    },
    {
      "cell_type": "code",
      "source": [
        "#input_tensors = [torch.tensor([ids]) for ids in article_input_ids]"
      ],
      "metadata": {
        "id": "Sv5g868WcyZB"
      },
      "execution_count": 228,
      "outputs": []
    },
    {
      "cell_type": "code",
      "source": [
        "#outputs = []\n",
        "#for input_tensor in input_tensors:\n",
        "#    output = model.generate(input_tensor, **params, pad_token_id=tokenizer.eos_token_id)\n",
        " #   tokenizer.batch_decode(output, skip_special_tokens=True)"
      ],
      "metadata": {
        "id": "WsWQKUNbcyfj"
      },
      "execution_count": 229,
      "outputs": []
    },
    {
      "cell_type": "code",
      "source": [],
      "metadata": {
        "id": "te-o4MhnfE8T"
      },
      "execution_count": 229,
      "outputs": []
    },
    {
      "cell_type": "code",
      "source": [
        "#output = model.generate(article_input_ids, **params, pad_token_id=tokenizer.eos_token_id)\n",
        "#tokenizer.batch_decode(output, skip_special_tokens=True)"
      ],
      "metadata": {
        "id": "9tb6U8eOe0m6"
      },
      "execution_count": 230,
      "outputs": []
    },
    {
      "cell_type": "code",
      "source": [
        "# Counter to track generated summaries\n",
        "#summary_count = 0\n",
        "\n",
        "#for article in cnn['test']['article']:\n",
        "  # Break the loop if 50 summaries are generated\n",
        " # if summary_count >= 50:\n",
        " #   break\n",
        "\n",
        " # tokenized_article = tokenizer(article, truncation=True)\n",
        " # input_ids = torch.tensor(tokenized_article['input_ids'])\n",
        " # output = model.generate(input_ids, **params, pad_token_id=tokenizer.eos_token_id)\n",
        "\n",
        "  # Process the generated summary (e.g., print or store)\n",
        "  #print(f\"Summary {summary_count + 1}:\", output[0]['generated_text'])  # Accessing generated text from the first output element\n",
        "\n",
        " # summary_count += 1\n"
      ],
      "metadata": {
        "id": "FKArRc6ZnHrm"
      },
      "execution_count": 231,
      "outputs": []
    },
    {
      "cell_type": "code",
      "source": [
        "cnn['test']['article'][0]"
      ],
      "metadata": {
        "colab": {
          "base_uri": "https://localhost:8080/",
          "height": 70
        },
        "id": "nB6w51BhnQnj",
        "outputId": "641c85fb-a433-4069-a79c-e850381a1adf"
      },
      "execution_count": 232,
      "outputs": [
        {
          "output_type": "execute_result",
          "data": {
            "text/plain": [
              "'(CNN)The Palestinian Authority officially became the 123rd member of the International Criminal Court on Wednesday, a step that gives the court jurisdiction over alleged crimes in Palestinian territories. The formal accession was marked with a ceremony at The Hague, in the Netherlands, where the court is based. The Palestinians signed the ICC\\'s founding Rome Statute in January, when they also accepted its jurisdiction over alleged crimes committed \"in the occupied Palestinian territory, including East Jerusalem, since June 13, 2014.\" Later that month, the ICC opened a preliminary examination into the situation in Palestinian territories, paving the way for possible war crimes investigations against Israelis. As members of the court, Palestinians may be subject to counter-charges as well. Israel and the United States, neither of which is an ICC member, opposed the Palestinians\\' efforts to join the body. But Palestinian Foreign Minister Riad al-Malki, speaking at Wednesday\\'s ceremony, said it was a move toward greater justice. \"As Palestine formally becomes a State Party to the Rome Statute today, the world is also a step closer to ending a long era of impunity and injustice,\" he said, according to an ICC news release. \"Indeed, today brings us closer to our shared goals of justice and peace.\" Judge Kuniko Ozaki, a vice president of the ICC, said acceding to the treaty was just the first step for the Palestinians. \"As the Rome Statute today enters into force for the State of Palestine, Palestine acquires all the rights as well as responsibilities that come with being a State Party to the Statute. These are substantive commitments, which cannot be taken lightly,\" she said. Rights group Human Rights Watch welcomed the development. \"Governments seeking to penalize Palestine for joining the ICC should immediately end their pressure, and countries that support universal acceptance of the court\\'s treaty should speak out to welcome its membership,\" said Balkees Jarrah, international justice counsel for the group. \"What\\'s objectionable is the attempts to undermine international justice, not Palestine\\'s decision to join a treaty to which over 100 countries around the world are members.\" In January, when the preliminary ICC examination was opened, Israeli Prime Minister Benjamin Netanyahu described it as an outrage, saying the court was overstepping its boundaries. The United States also said it \"strongly\" disagreed with the court\\'s decision. \"As we have said repeatedly, we do not believe that Palestine is a state and therefore we do not believe that it is eligible to join the ICC,\" the State Department said in a statement. It urged the warring sides to resolve their differences through direct negotiations. \"We will continue to oppose actions against Israel at the ICC as counterproductive to the cause of peace,\" it said. But the ICC begs to differ with the definition of a state for its purposes and refers to the territories as \"Palestine.\" While a preliminary examination is not a formal investigation, it allows the court to review evidence and determine whether to investigate suspects on both sides. Prosecutor Fatou Bensouda said her office would \"conduct its analysis in full independence and impartiality.\" The war between Israel and Hamas militants in Gaza last summer left more than 2,000 people dead. The inquiry will include alleged war crimes committed since June. The International Criminal Court was set up in 2002 to prosecute genocide, crimes against humanity and war crimes. CNN\\'s Vasco Cotovio, Kareem Khadder and Faith Karimi contributed to this report.'"
            ],
            "application/vnd.google.colaboratory.intrinsic+json": {
              "type": "string"
            }
          },
          "metadata": {},
          "execution_count": 232
        }
      ]
    },
    {
      "cell_type": "code",
      "source": [
        "import pandas as pd\n",
        "df=pd.DataFrame()"
      ],
      "metadata": {
        "id": "z_tfq6NdG-Um"
      },
      "execution_count": 233,
      "outputs": []
    },
    {
      "cell_type": "code",
      "source": [
        "#!pip install evaluate, rouge_score, bert_score"
      ],
      "metadata": {
        "id": "4l1ydTXAJT5m"
      },
      "execution_count": 234,
      "outputs": []
    },
    {
      "cell_type": "code",
      "source": [
        "import evaluate\n",
        "rouge_score=evaluate.load('rouge')\n",
        "bert_score=evaluate.load('bertscore')"
      ],
      "metadata": {
        "id": "marZRYXXJLy8"
      },
      "execution_count": 235,
      "outputs": []
    },
    {
      "cell_type": "code",
      "source": [
        "import pandas as pd\n",
        "\n",
        "for i in range(50):\n",
        "    a = cnn['test']['article'][i]\n",
        "    r=cnn[f'test']['highlights'][i]\n",
        "    b = tokenizer(a, truncation=True, return_tensors=\"pt\", max_length=1024).input_ids\n",
        "    o = model.generate(b, **params, pad_token_id=tokenizer.eos_token_id)\n",
        "    gt = tokenizer.decode(o[0], skip_special_tokens=True)\n",
        "\n",
        "    rouge_score_value = rouge_score.compute(predictions=[gt], references=[cnn['test']['highlights'][i]])\n",
        "    bert_score_value = bert_score.compute(predictions=[gt], references=[cnn['test']['highlights'][i]], lang=\"en\")\n",
        "\n",
        "    # Create a new DataFrame or append to an existing one\n",
        "    if i == 0:\n",
        "        df = pd.DataFrame({'Input Text': [a], 'Generated Text': [gt], 'Rouge Score': [rouge_score_value], 'BERT Score': [bert_score_value]})\n",
        "    else:\n",
        "        new_row = pd.DataFrame({'Input Text': [a], 'Generated Text': [gt], 'Rouge Score': [rouge_score_value], 'BERT Score': [bert_score_value]}, index=[i])\n",
        "        df = pd.concat([df, new_row], ignore_index=True)\n",
        "\n",
        "    print(f\"Generated text {i}: {gt}\\n Rouge: {rouge_score_value} \\n Bert_Score: {bert_score_value}\")"
      ],
      "metadata": {
        "id": "vrTSSR66Moco"
      },
      "execution_count": null,
      "outputs": []
    },
    {
      "cell_type": "code",
      "source": [
        "df.to_csv('Top-P Sampling.csv')"
      ],
      "metadata": {
        "id": "Ddm5CwqFS_R1"
      },
      "execution_count": null,
      "outputs": []
    },
    {
      "cell_type": "code",
      "source": [
        "from google.colab import files\n",
        "files.download('Top-P Sampling.csv')"
      ],
      "metadata": {
        "id": "bT-c8-RfTyoL"
      },
      "execution_count": null,
      "outputs": []
    },
    {
      "cell_type": "code",
      "source": [],
      "metadata": {
        "id": "e9a490YQna8H"
      },
      "execution_count": null,
      "outputs": []
    },
    {
      "cell_type": "code",
      "source": [],
      "metadata": {
        "id": "mfKp5DjXnpdV"
      },
      "execution_count": null,
      "outputs": []
    }
  ]
}